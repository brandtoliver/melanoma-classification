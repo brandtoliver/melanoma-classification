{
 "cells": [
  {
   "cell_type": "code",
   "execution_count": null,
   "metadata": {
    "collapsed": true
   },
   "outputs": [],
   "source": [
    "import numpy as np\n",
    "from keras import applications\n",
    "from keras.preprocessing.image import ImageDataGenerator\n",
    "from keras import optimizers\n",
    "from keras.models import Sequential, Model\n",
    "from keras.layers import Dropout, Flatten, Dense, Input\n",
    "from keras import backend as K\n",
    "from keras.preprocessing import image\n",
    "K.set_image_dim_ordering('th')\n",
    "import os\n",
    "import time\n",
    "import matplotlib.pyplot as plt\n",
    "\n",
    "from IPython.display import Image, display, clear_output\n",
    "import datetime\n",
    "\n",
    "import cv2"
   ]
  },
  {
   "cell_type": "code",
   "execution_count": null,
   "metadata": {
    "collapsed": true
   },
   "outputs": [],
   "source": [
    "# CHANGE ME\n",
    "\n",
    "weights_path = \"4_10.h5\"\n",
    "# ----------------\n",
    "\n",
    "# path to the model weights files.\n",
    "# dimensions of our images.\n",
    "img_width, img_height = 150, 150\n",
    "\n",
    "train_data_dir = 'train'\n",
    "validation_data_dir = 'validation'\n",
    "test_dir = 'test'\n",
    "#files_benign=os.listdir(test_dir+\"/Benign/\")\n",
    "#files_malignant=os.listdir(test_dir+\"/Malignant/\")\n",
    "\n",
    "input_tensor = Input(shape=(3,img_width,img_height))\n",
    "base_model = applications.VGG16(weights='imagenet',include_top= False,input_tensor=input_tensor)\n",
    "top_model = Sequential()\n",
    "top_model.add(Flatten(input_shape=base_model.output_shape[1:]))\n",
    "top_model.add(Dense(256, activation='relu'))\n",
    "top_model.add(Dropout(0.5))\n",
    "top_model.add(Dense(1, activation='sigmoid'))\n",
    "model = Model(inputs= base_model.input, outputs= top_model(base_model.output))\n",
    "\n",
    "model.load_weights(weights_path)"
   ]
  },
  {
   "cell_type": "code",
   "execution_count": null,
   "metadata": {
    "collapsed": true
   },
   "outputs": [],
   "source": [
    "def predict_image_class(file):\n",
    "    x = image.load_img(file, target_size=(img_width,img_height))\n",
    "    x = image.img_to_array(x)\n",
    "    x = np.expand_dims(x, axis=0)\n",
    "    print(x.shape)\n",
    "    class_predicted = model.predict(x)\n",
    "    print(class_predicted)\n",
    "    if class_predicted==1:\n",
    "        print(\"malign\")\n",
    "    else:\n",
    "        print(\"benign\") \n",
    "    return\n",
    "\n",
    "def TakePictureAndSave(filename=\"test.png\"):\n",
    "    camera_port = 0\n",
    "    camera = cv2.VideoCapture(camera_port)\n",
    "    time.sleep(0.3)  # If you don't wait, the image will be dark\n",
    "    return_value, image = camera.read()\n",
    "    cv2.imwrite(\"test.png\", image)\n",
    "    del(camera)  # so that others can use the camera as soon as possible\n",
    "    return"
   ]
  },
  {
   "cell_type": "code",
   "execution_count": null,
   "metadata": {
    "collapsed": true
   },
   "outputs": [],
   "source": [
    "filename = \"test.png\"\n",
    "input(\"Please press Enter to take a picture!\")\n",
    "TakePictureAndSave(filename)\n",
    "\n",
    "predict_image_class(filename)\n",
    "\n",
    "display(Image(filename))\n",
    "input(\"Please press Enter to Quit\")"
   ]
  }
 ],
 "metadata": {
  "anaconda-cloud": {},
  "kernelspec": {
   "display_name": "Python [default]",
   "language": "python",
   "name": "python3"
  },
  "language_info": {
   "codemirror_mode": {
    "name": "ipython",
    "version": 3
   },
   "file_extension": ".py",
   "mimetype": "text/x-python",
   "name": "python",
   "nbconvert_exporter": "python",
   "pygments_lexer": "ipython3",
   "version": "3.5.2"
  }
 },
 "nbformat": 4,
 "nbformat_minor": 2
}
