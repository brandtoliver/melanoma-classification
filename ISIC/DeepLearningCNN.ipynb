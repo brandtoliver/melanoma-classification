{
 "cells": [
  {
   "cell_type": "markdown",
   "metadata": {},
   "source": [
    "Libraries:"
   ]
  },
  {
   "cell_type": "code",
   "execution_count": 14,
   "metadata": {
    "collapsed": true
   },
   "outputs": [],
   "source": [
    "import numpy as np\n",
    "from keras.preprocessing.image import ImageDataGenerator, img_to_array, load_img\n",
    "from keras.models import Sequential\n",
    "from keras.layers import Dropout, Flatten, Dense\n",
    "from keras import applications\n",
    "from keras import backend as K\n",
    "import os"
   ]
  },
  {
   "cell_type": "markdown",
   "metadata": {},
   "source": [
    "Set theano backend for images and change the directory"
   ]
  },
  {
   "cell_type": "code",
   "execution_count": 15,
   "metadata": {
    "collapsed": true
   },
   "outputs": [],
   "source": [
    "K.set_image_dim_ordering('th')\n",
    "os.chdir(\"/home/bombus/Project/Project/Data/ISIC_MSK-2_1_sorted\")"
   ]
  },
  {
   "cell_type": "markdown",
   "metadata": {},
   "source": [
    "Set paths and variables"
   ]
  },
  {
   "cell_type": "code",
   "execution_count": 16,
   "metadata": {
    "collapsed": true
   },
   "outputs": [],
   "source": [
    "# dimensions of our images.\n",
    "img_width, img_height = 150, 150\n",
    "top_model_weights_path = 'bottleneck_fc_model.h5'\n",
    "train_data_dir = 'train'\n",
    "validation_data_dir = 'validation'\n",
    "test_dir = 'test'\n",
    "nb_train_samples = 1986\n",
    "nb_validation_samples = 778\n",
    "epochs = 50\n",
    "batch_size = 16"
   ]
  },
  {
   "cell_type": "markdown",
   "metadata": {},
   "source": [
    "Define all functions"
   ]
  },
  {
   "cell_type": "code",
   "execution_count": 17,
   "metadata": {
    "collapsed": true
   },
   "outputs": [],
   "source": [
    "def save_bottlebeck_features():\n",
    "    datagen = ImageDataGenerator(rescale=1. / 255)\n",
    "\n",
    "    # build the VGG16 network\n",
    "    model = applications.VGG16(include_top=False, weights='imagenet')\n",
    "\n",
    "    generator = datagen.flow_from_directory(\n",
    "        train_data_dir,\n",
    "        target_size=(img_width, img_height),\n",
    "        batch_size=batch_size,\n",
    "        class_mode=None,\n",
    "        shuffle=False)\n",
    "    bottleneck_features_train = model.predict_generator(\n",
    "        generator, nb_train_samples // batch_size)\n",
    "    np.save('bottleneck_features_train',\n",
    "        bottleneck_features_train)\n",
    "    print(\"done saving train features\")\n",
    "    \n",
    "    generator = datagen.flow_from_directory(\n",
    "        validation_data_dir,\n",
    "        target_size=(img_width, img_height),\n",
    "        batch_size=batch_size,\n",
    "        class_mode=None,\n",
    "        shuffle=False)\n",
    "    bottleneck_features_validation = model.predict_generator(\n",
    "        generator, nb_validation_samples // batch_size)\n",
    "    np.save('bottleneck_features_validation',\n",
    "            bottleneck_features_validation)\n",
    "    print(\"done saving validation features\")"
   ]
  },
  {
   "cell_type": "markdown",
   "metadata": {},
   "source": [
    "Create and train the fully-connected layers"
   ]
  },
  {
   "cell_type": "code",
   "execution_count": 18,
   "metadata": {
    "collapsed": true
   },
   "outputs": [],
   "source": [
    "def train_top_model():\n",
    "    train_data = np.load('bottleneck_features_train.npy')\n",
    "    train_labels = np.array([0] * (nb_train_samples // 2) + [1] * (nb_train_samples // 2))\n",
    "\n",
    "    validation_data = np.load('bottleneck_features_validation.npy')\n",
    "    validation_labels = np.array([0] * (nb_validation_samples // 2) + [1] * (nb_validation_samples // 2))\n",
    "\n",
    "    model = Sequential()\n",
    "    model.add(Flatten(input_shape=train_data.shape[1:]))\n",
    "    model.add(Dense(256, activation='relu'))\n",
    "    model.add(Dropout(0.5))\n",
    "    model.add(Dense(1, activation='sigmoid'))\n",
    "\n",
    "    model.compile(optimizer='rmsprop',\n",
    "                  loss='binary_crossentropy', metrics=['accuracy'])\n",
    "    \n",
    "    print(\"starting fitting\")    \n",
    "    model.fit(train_data, train_labels,\n",
    "              epochs=epochs,\n",
    "              batch_size=batch_size,\n",
    "              validation_data=(validation_data, validation_labels))\n",
    "    \n",
    "    model.save_weights(top_model_weights_path)\n",
    "    print(\"ended fitting and saving\")"
   ]
  },
  {
   "cell_type": "markdown",
   "metadata": {},
   "source": [
    "Predict from test data"
   ]
  },
  {
   "cell_type": "code",
   "execution_count": 19,
   "metadata": {
    "collapsed": true
   },
   "outputs": [],
   "source": [
    "def predict_image_class(file):\n",
    "    model = applications.VGG16(include_top=False, weights='imagenet')\n",
    "    x = load_img(file, target_size=(img_width,img_height))\n",
    "    x = img_to_array(x)\n",
    "    x = np.expand_dims(x, axis=0)\n",
    "    array = model.predict(x)\n",
    "    model = Sequential()\n",
    "    model.add(Flatten(input_shape=array.shape[1:]))\n",
    "    model.add(Dense(256, activation='relu'))\n",
    "    model.add(Dropout(0.5))\n",
    "    model.add(Dense(1, activation='sigmoid'))\n",
    "    model.load_weights(top_model_weights_path)\n",
    "    class_predicted = model.predict_classes(array)\n",
    "    if class_predicted==1:\n",
    "        print(\"dogs\")\n",
    "    else:\n",
    "        print(\"cat\")"
   ]
  },
  {
   "cell_type": "markdown",
   "metadata": {},
   "source": [
    "Call the functions"
   ]
  },
  {
   "cell_type": "code",
   "execution_count": 20,
   "metadata": {},
   "outputs": [
    {
     "name": "stderr",
     "output_type": "stream",
     "text": [
      "/home/bombus/anaconda3/lib/python3.6/site-packages/keras/applications/vgg16.py:181: UserWarning: You are using the TensorFlow backend, yet you are using the Theano image data format convention (`image_data_format=\"channels_first\"`). For best performance, set `image_data_format=\"channels_last\"` in your Keras config at ~/.keras/keras.json.\n",
      "  warnings.warn('You are using the TensorFlow backend, yet you '\n"
     ]
    },
    {
     "name": "stdout",
     "output_type": "stream",
     "text": [
      "Found 841 images belonging to 2 classes.\n",
      "done saving train features\n",
      "Found 373 images belonging to 2 classes.\n",
      "done saving validation features\n"
     ]
    }
   ],
   "source": [
    "save_bottlebeck_features()"
   ]
  },
  {
   "cell_type": "code",
   "execution_count": 13,
   "metadata": {},
   "outputs": [
    {
     "name": "stdout",
     "output_type": "stream",
     "text": [
      "starting fitting\n",
      "Train on 1986 samples, validate on 778 samples\n",
      "Epoch 1/50\n",
      "1986/1986 [==============================] - 2s - loss: 0.8423 - acc: 0.4909 - val_loss: 0.6937 - val_acc: 0.5000\n",
      "Epoch 2/50\n",
      "1986/1986 [==============================] - 2s - loss: 0.6976 - acc: 0.4859 - val_loss: 0.6934 - val_acc: 0.5000\n",
      "Epoch 3/50\n",
      "1986/1986 [==============================] - 2s - loss: 0.6940 - acc: 0.4970 - val_loss: 0.6932 - val_acc: 0.5000\n",
      "Epoch 4/50\n",
      "1986/1986 [==============================] - 2s - loss: 0.6942 - acc: 0.4930 - val_loss: 0.6932 - val_acc: 0.5000\n",
      "Epoch 5/50\n",
      "1986/1986 [==============================] - 2s - loss: 0.6935 - acc: 0.4945 - val_loss: 0.6932 - val_acc: 0.5013\n",
      "Epoch 6/50\n",
      "1986/1986 [==============================] - 2s - loss: 0.6941 - acc: 0.4879 - val_loss: 0.6932 - val_acc: 0.5000\n",
      "Epoch 7/50\n",
      "1986/1986 [==============================] - 2s - loss: 0.6934 - acc: 0.4935 - val_loss: 0.6932 - val_acc: 0.5000\n",
      "Epoch 8/50\n",
      "1986/1986 [==============================] - 2s - loss: 0.6932 - acc: 0.5000 - val_loss: 0.6932 - val_acc: 0.5000\n",
      "Epoch 9/50\n",
      "1986/1986 [==============================] - 2s - loss: 0.6932 - acc: 0.5000 - val_loss: 0.6932 - val_acc: 0.5000\n",
      "Epoch 10/50\n",
      "1986/1986 [==============================] - 2s - loss: 0.6932 - acc: 0.4950 - val_loss: 0.6931 - val_acc: 0.5000\n",
      "Epoch 11/50\n",
      "1986/1986 [==============================] - 2s - loss: 0.6932 - acc: 0.4950 - val_loss: 0.6931 - val_acc: 0.5000\n",
      "Epoch 12/50\n",
      "1986/1986 [==============================] - 2s - loss: 0.6932 - acc: 0.4819 - val_loss: 0.6931 - val_acc: 0.5000\n",
      "Epoch 13/50\n",
      "1986/1986 [==============================] - 2s - loss: 0.6932 - acc: 0.4758 - val_loss: 0.6931 - val_acc: 0.5000\n",
      "Epoch 14/50\n",
      "1986/1986 [==============================] - 2s - loss: 0.6932 - acc: 0.4849 - val_loss: 0.6931 - val_acc: 0.5000\n",
      "Epoch 15/50\n",
      "1986/1986 [==============================] - 2s - loss: 0.6932 - acc: 0.4919 - val_loss: 0.6931 - val_acc: 0.5000\n",
      "Epoch 16/50\n",
      "1986/1986 [==============================] - 2s - loss: 0.6932 - acc: 0.4970 - val_loss: 0.6931 - val_acc: 0.5000\n",
      "Epoch 17/50\n",
      "1986/1986 [==============================] - 2s - loss: 0.6932 - acc: 0.4799 - val_loss: 0.6931 - val_acc: 0.5000\n",
      "Epoch 18/50\n",
      "1986/1986 [==============================] - 2s - loss: 0.6932 - acc: 0.4859 - val_loss: 0.6931 - val_acc: 0.5000\n",
      "Epoch 19/50\n",
      "1986/1986 [==============================] - 2s - loss: 0.6932 - acc: 0.4748 - val_loss: 0.6931 - val_acc: 0.5000\n",
      "Epoch 20/50\n",
      "1986/1986 [==============================] - 2s - loss: 0.6932 - acc: 0.4879 - val_loss: 0.6931 - val_acc: 0.5000\n",
      "Epoch 21/50\n",
      "1986/1986 [==============================] - 2s - loss: 0.6932 - acc: 0.4839 - val_loss: 0.6931 - val_acc: 0.5000\n",
      "Epoch 22/50\n",
      "1986/1986 [==============================] - 2s - loss: 0.6932 - acc: 0.4909 - val_loss: 0.6931 - val_acc: 0.5000\n",
      "Epoch 23/50\n",
      "1986/1986 [==============================] - 2s - loss: 0.6932 - acc: 0.4960 - val_loss: 0.6931 - val_acc: 0.5000\n",
      "Epoch 24/50\n",
      "1986/1986 [==============================] - 2s - loss: 0.6932 - acc: 0.4809 - val_loss: 0.6931 - val_acc: 0.5000\n",
      "Epoch 25/50\n",
      "1986/1986 [==============================] - 2s - loss: 0.6932 - acc: 0.4940 - val_loss: 0.6931 - val_acc: 0.5000\n",
      "Epoch 26/50\n",
      "1986/1986 [==============================] - 2s - loss: 0.6932 - acc: 0.5040 - val_loss: 0.6932 - val_acc: 0.5000\n",
      "Epoch 27/50\n",
      "1986/1986 [==============================] - 2s - loss: 0.6932 - acc: 0.4879 - val_loss: 0.6932 - val_acc: 0.5000\n",
      "Epoch 28/50\n",
      "1986/1986 [==============================] - 2s - loss: 0.6932 - acc: 0.5000 - val_loss: 0.6931 - val_acc: 0.5000\n",
      "Epoch 29/50\n",
      "1986/1986 [==============================] - 2s - loss: 0.6932 - acc: 0.4970 - val_loss: 0.6931 - val_acc: 0.5000\n",
      "Epoch 30/50\n",
      "1986/1986 [==============================] - 2s - loss: 0.6932 - acc: 0.4829 - val_loss: 0.6931 - val_acc: 0.5000\n",
      "Epoch 31/50\n",
      "1986/1986 [==============================] - 2s - loss: 0.6932 - acc: 0.4889 - val_loss: 0.6931 - val_acc: 0.5000\n",
      "Epoch 32/50\n",
      "1986/1986 [==============================] - 2s - loss: 0.6932 - acc: 0.4869 - val_loss: 0.6931 - val_acc: 0.5000\n",
      "Epoch 33/50\n",
      "1986/1986 [==============================] - 2s - loss: 0.6932 - acc: 0.5000 - val_loss: 0.6932 - val_acc: 0.5000\n",
      "Epoch 34/50\n",
      "1986/1986 [==============================] - 2s - loss: 0.6932 - acc: 0.5000 - val_loss: 0.6931 - val_acc: 0.5000\n",
      "Epoch 35/50\n",
      "1986/1986 [==============================] - 2s - loss: 0.6932 - acc: 0.4758 - val_loss: 0.6931 - val_acc: 0.5000\n",
      "Epoch 36/50\n",
      "1986/1986 [==============================] - 2s - loss: 0.6932 - acc: 0.4829 - val_loss: 0.6931 - val_acc: 0.5000\n",
      "Epoch 37/50\n",
      "1986/1986 [==============================] - 2s - loss: 0.6932 - acc: 0.4799 - val_loss: 0.6931 - val_acc: 0.5000\n",
      "Epoch 38/50\n",
      "1986/1986 [==============================] - 2s - loss: 0.6932 - acc: 0.4869 - val_loss: 0.6931 - val_acc: 0.5000\n",
      "Epoch 39/50\n",
      "1986/1986 [==============================] - 2s - loss: 0.6932 - acc: 0.4849 - val_loss: 0.6931 - val_acc: 0.5000\n",
      "Epoch 40/50\n",
      "1986/1986 [==============================] - 2s - loss: 0.6932 - acc: 0.4930 - val_loss: 0.6931 - val_acc: 0.5000\n",
      "Epoch 41/50\n",
      "1986/1986 [==============================] - 2s - loss: 0.6932 - acc: 0.4940 - val_loss: 0.6931 - val_acc: 0.5000\n",
      "Epoch 42/50\n",
      "1986/1986 [==============================] - 2s - loss: 0.6932 - acc: 0.4859 - val_loss: 0.6931 - val_acc: 0.5000\n",
      "Epoch 43/50\n",
      "1986/1986 [==============================] - 2s - loss: 0.6932 - acc: 0.5010 - val_loss: 0.6931 - val_acc: 0.5000\n",
      "Epoch 44/50\n",
      "1986/1986 [==============================] - 2s - loss: 0.6932 - acc: 0.4799 - val_loss: 0.6931 - val_acc: 0.5000\n",
      "Epoch 45/50\n",
      "1986/1986 [==============================] - 2s - loss: 0.6932 - acc: 0.4930 - val_loss: 0.6931 - val_acc: 0.5000\n",
      "Epoch 46/50\n",
      "1986/1986 [==============================] - 2s - loss: 0.6932 - acc: 0.4919 - val_loss: 0.6931 - val_acc: 0.5000\n",
      "Epoch 47/50\n",
      "1986/1986 [==============================] - 2s - loss: 0.6932 - acc: 0.4799 - val_loss: 0.6931 - val_acc: 0.5000\n",
      "Epoch 48/50\n",
      "1986/1986 [==============================] - 2s - loss: 0.6932 - acc: 0.4919 - val_loss: 0.6931 - val_acc: 0.5000\n",
      "Epoch 49/50\n",
      "1986/1986 [==============================] - 2s - loss: 0.6932 - acc: 0.4839 - val_loss: 0.6932 - val_acc: 0.5000\n",
      "Epoch 50/50\n",
      "1986/1986 [==============================] - 2s - loss: 0.6932 - acc: 0.5000 - val_loss: 0.6931 - val_acc: 0.5000\n",
      "ended fitting and saving\n"
     ]
    }
   ],
   "source": [
    "train_top_model()"
   ]
  },
  {
   "cell_type": "code",
   "execution_count": 21,
   "metadata": {},
   "outputs": [
    {
     "name": "stderr",
     "output_type": "stream",
     "text": [
      "/home/bombus/anaconda3/lib/python3.6/site-packages/keras/applications/vgg16.py:181: UserWarning: You are using the TensorFlow backend, yet you are using the Theano image data format convention (`image_data_format=\"channels_first\"`). For best performance, set `image_data_format=\"channels_last\"` in your Keras config at ~/.keras/keras.json.\n",
      "  warnings.warn('You are using the TensorFlow backend, yet you '\n"
     ]
    },
    {
     "ename": "FileNotFoundError",
     "evalue": "[Errno 2] No such file or directory: 'testtest_files[0]'",
     "output_type": "error",
     "traceback": [
      "\u001b[0;31m---------------------------------------------------------------------------\u001b[0m",
      "\u001b[0;31mFileNotFoundError\u001b[0m                         Traceback (most recent call last)",
      "\u001b[0;32m<ipython-input-21-79b05a936404>\u001b[0m in \u001b[0;36m<module>\u001b[0;34m()\u001b[0m\n\u001b[1;32m      1\u001b[0m \u001b[0mtest_files\u001b[0m \u001b[0;34m=\u001b[0m \u001b[0mos\u001b[0m\u001b[0;34m.\u001b[0m\u001b[0mlistdir\u001b[0m\u001b[0;34m(\u001b[0m\u001b[0mtest_dir\u001b[0m\u001b[0;34m)\u001b[0m\u001b[0;34m\u001b[0m\u001b[0m\n\u001b[0;32m----> 2\u001b[0;31m \u001b[0mpredict_image_class\u001b[0m\u001b[0;34m(\u001b[0m\u001b[0mtest_dir\u001b[0m \u001b[0;34m+\u001b[0m \u001b[0;34m\"test_files[0]\"\u001b[0m\u001b[0;34m)\u001b[0m\u001b[0;34m\u001b[0m\u001b[0m\n\u001b[0m\u001b[1;32m      3\u001b[0m \u001b[0;31m#predict_image_class(test_dir + \"/dogTest.jpg\")\u001b[0m\u001b[0;34m\u001b[0m\u001b[0;34m\u001b[0m\u001b[0m\n",
      "\u001b[0;32m<ipython-input-19-731e118543a0>\u001b[0m in \u001b[0;36mpredict_image_class\u001b[0;34m(file)\u001b[0m\n\u001b[1;32m      1\u001b[0m \u001b[0;32mdef\u001b[0m \u001b[0mpredict_image_class\u001b[0m\u001b[0;34m(\u001b[0m\u001b[0mfile\u001b[0m\u001b[0;34m)\u001b[0m\u001b[0;34m:\u001b[0m\u001b[0;34m\u001b[0m\u001b[0m\n\u001b[1;32m      2\u001b[0m     \u001b[0mmodel\u001b[0m \u001b[0;34m=\u001b[0m \u001b[0mapplications\u001b[0m\u001b[0;34m.\u001b[0m\u001b[0mVGG16\u001b[0m\u001b[0;34m(\u001b[0m\u001b[0minclude_top\u001b[0m\u001b[0;34m=\u001b[0m\u001b[0;32mFalse\u001b[0m\u001b[0;34m,\u001b[0m \u001b[0mweights\u001b[0m\u001b[0;34m=\u001b[0m\u001b[0;34m'imagenet'\u001b[0m\u001b[0;34m)\u001b[0m\u001b[0;34m\u001b[0m\u001b[0m\n\u001b[0;32m----> 3\u001b[0;31m     \u001b[0mx\u001b[0m \u001b[0;34m=\u001b[0m \u001b[0mload_img\u001b[0m\u001b[0;34m(\u001b[0m\u001b[0mfile\u001b[0m\u001b[0;34m,\u001b[0m \u001b[0mtarget_size\u001b[0m\u001b[0;34m=\u001b[0m\u001b[0;34m(\u001b[0m\u001b[0mimg_width\u001b[0m\u001b[0;34m,\u001b[0m\u001b[0mimg_height\u001b[0m\u001b[0;34m)\u001b[0m\u001b[0;34m)\u001b[0m\u001b[0;34m\u001b[0m\u001b[0m\n\u001b[0m\u001b[1;32m      4\u001b[0m     \u001b[0mx\u001b[0m \u001b[0;34m=\u001b[0m \u001b[0mimg_to_array\u001b[0m\u001b[0;34m(\u001b[0m\u001b[0mx\u001b[0m\u001b[0;34m)\u001b[0m\u001b[0;34m\u001b[0m\u001b[0m\n\u001b[1;32m      5\u001b[0m     \u001b[0mx\u001b[0m \u001b[0;34m=\u001b[0m \u001b[0mnp\u001b[0m\u001b[0;34m.\u001b[0m\u001b[0mexpand_dims\u001b[0m\u001b[0;34m(\u001b[0m\u001b[0mx\u001b[0m\u001b[0;34m,\u001b[0m \u001b[0maxis\u001b[0m\u001b[0;34m=\u001b[0m\u001b[0;36m0\u001b[0m\u001b[0;34m)\u001b[0m\u001b[0;34m\u001b[0m\u001b[0m\n",
      "\u001b[0;32m~/anaconda3/lib/python3.6/site-packages/keras/preprocessing/image.py\u001b[0m in \u001b[0;36mload_img\u001b[0;34m(path, grayscale, target_size)\u001b[0m\n\u001b[1;32m    320\u001b[0m         raise ImportError('Could not import PIL.Image. '\n\u001b[1;32m    321\u001b[0m                           'The use of `array_to_img` requires PIL.')\n\u001b[0;32m--> 322\u001b[0;31m     \u001b[0mimg\u001b[0m \u001b[0;34m=\u001b[0m \u001b[0mpil_image\u001b[0m\u001b[0;34m.\u001b[0m\u001b[0mopen\u001b[0m\u001b[0;34m(\u001b[0m\u001b[0mpath\u001b[0m\u001b[0;34m)\u001b[0m\u001b[0;34m\u001b[0m\u001b[0m\n\u001b[0m\u001b[1;32m    323\u001b[0m     \u001b[0;32mif\u001b[0m \u001b[0mgrayscale\u001b[0m\u001b[0;34m:\u001b[0m\u001b[0;34m\u001b[0m\u001b[0m\n\u001b[1;32m    324\u001b[0m         \u001b[0;32mif\u001b[0m \u001b[0mimg\u001b[0m\u001b[0;34m.\u001b[0m\u001b[0mmode\u001b[0m \u001b[0;34m!=\u001b[0m \u001b[0;34m'L'\u001b[0m\u001b[0;34m:\u001b[0m\u001b[0;34m\u001b[0m\u001b[0m\n",
      "\u001b[0;32m~/anaconda3/lib/python3.6/site-packages/PIL/Image.py\u001b[0m in \u001b[0;36mopen\u001b[0;34m(fp, mode)\u001b[0m\n\u001b[1;32m   2475\u001b[0m \u001b[0;34m\u001b[0m\u001b[0m\n\u001b[1;32m   2476\u001b[0m     \u001b[0;32mif\u001b[0m \u001b[0mfilename\u001b[0m\u001b[0;34m:\u001b[0m\u001b[0;34m\u001b[0m\u001b[0m\n\u001b[0;32m-> 2477\u001b[0;31m         \u001b[0mfp\u001b[0m \u001b[0;34m=\u001b[0m \u001b[0mbuiltins\u001b[0m\u001b[0;34m.\u001b[0m\u001b[0mopen\u001b[0m\u001b[0;34m(\u001b[0m\u001b[0mfilename\u001b[0m\u001b[0;34m,\u001b[0m \u001b[0;34m\"rb\"\u001b[0m\u001b[0;34m)\u001b[0m\u001b[0;34m\u001b[0m\u001b[0m\n\u001b[0m\u001b[1;32m   2478\u001b[0m         \u001b[0mexclusive_fp\u001b[0m \u001b[0;34m=\u001b[0m \u001b[0;32mTrue\u001b[0m\u001b[0;34m\u001b[0m\u001b[0m\n\u001b[1;32m   2479\u001b[0m \u001b[0;34m\u001b[0m\u001b[0m\n",
      "\u001b[0;31mFileNotFoundError\u001b[0m: [Errno 2] No such file or directory: 'testtest_files[0]'"
     ]
    }
   ],
   "source": [
    "test_files = os.listdir(test_dir)\n",
    "predict_image_class(test_dir + \"test_files[0]\")\n",
    "#predict_image_class(test_dir + \"/dogTest.jpg\")"
   ]
  }
 ],
 "metadata": {
  "kernelspec": {
   "display_name": "Python 3",
   "language": "python",
   "name": "python3"
  },
  "language_info": {
   "codemirror_mode": {
    "name": "ipython",
    "version": 3
   },
   "file_extension": ".py",
   "mimetype": "text/x-python",
   "name": "python",
   "nbconvert_exporter": "python",
   "pygments_lexer": "ipython3",
   "version": "3.6.2"
  }
 },
 "nbformat": 4,
 "nbformat_minor": 2
}
