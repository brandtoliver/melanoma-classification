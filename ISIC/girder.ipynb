{
 "cells": [
  {
   "cell_type": "code",
   "execution_count": 22,
   "metadata": {
    "collapsed": true
   },
   "outputs": [],
   "source": [
    "import girder_client\n",
    "import pandas as pd\n",
    "import numpy as np\n",
    "import json"
   ]
  },
  {
   "cell_type": "code",
   "execution_count": 2,
   "metadata": {
    "collapsed": true
   },
   "outputs": [],
   "source": [
    "gc = girder_client.GirderClient(apiUrl='https://isic-archive.com/api/v1')\n",
    "gc.authenticate('dominikkiefer', 'dlproject')"
   ]
  },
  {
   "cell_type": "code",
   "execution_count": 3,
   "metadata": {
    "collapsed": false
   },
   "outputs": [
    {
     "data": {
      "text/html": [
       "<div>\n",
       "<table border=\"1\" class=\"dataframe\">\n",
       "  <thead>\n",
       "    <tr style=\"text-align: right;\">\n",
       "      <th></th>\n",
       "      <th>_accessLevel</th>\n",
       "      <th>_id</th>\n",
       "      <th>_modelType</th>\n",
       "      <th>created</th>\n",
       "      <th>description</th>\n",
       "      <th>name</th>\n",
       "      <th>public</th>\n",
       "      <th>size</th>\n",
       "      <th>updated</th>\n",
       "    </tr>\n",
       "  </thead>\n",
       "  <tbody>\n",
       "    <tr>\n",
       "      <th>0</th>\n",
       "      <td>-1</td>\n",
       "      <td>55943cff9fc3c13155bcad61</td>\n",
       "      <td>collection</td>\n",
       "      <td>2015-07-01T19:18:23.988000+00:00</td>\n",
       "      <td>Clinical feature annotation studies</td>\n",
       "      <td>Annotation Studies</td>\n",
       "      <td>True</td>\n",
       "      <td>0</td>\n",
       "      <td>2016-08-24T03:06:20.532000+00:00</td>\n",
       "    </tr>\n",
       "    <tr>\n",
       "      <th>1</th>\n",
       "      <td>-1</td>\n",
       "      <td>55943cff9fc3c13155bcad5e</td>\n",
       "      <td>collection</td>\n",
       "      <td>2014-09-29T02:59:17.932000+00:00</td>\n",
       "      <td>All public lesion image datasets</td>\n",
       "      <td>Lesion Images</td>\n",
       "      <td>True</td>\n",
       "      <td>293175840740</td>\n",
       "      <td>2016-08-24T03:07:21.780000+00:00</td>\n",
       "    </tr>\n",
       "  </tbody>\n",
       "</table>\n",
       "</div>"
      ],
      "text/plain": [
       "   _accessLevel                       _id  _modelType  \\\n",
       "0            -1  55943cff9fc3c13155bcad61  collection   \n",
       "1            -1  55943cff9fc3c13155bcad5e  collection   \n",
       "\n",
       "                            created                          description  \\\n",
       "0  2015-07-01T19:18:23.988000+00:00  Clinical feature annotation studies   \n",
       "1  2014-09-29T02:59:17.932000+00:00     All public lesion image datasets   \n",
       "\n",
       "                 name public          size                           updated  \n",
       "0  Annotation Studies   True             0  2016-08-24T03:06:20.532000+00:00  \n",
       "1       Lesion Images   True  293175840740  2016-08-24T03:07:21.780000+00:00  "
      ]
     },
     "execution_count": 3,
     "metadata": {},
     "output_type": "execute_result"
    }
   ],
   "source": [
    "pd.DataFrame(gc.listCollection())"
   ]
  },
  {
   "cell_type": "code",
   "execution_count": 4,
   "metadata": {
    "collapsed": false
   },
   "outputs": [
    {
     "data": {
      "text/html": [
       "<div>\n",
       "<table border=\"1\" class=\"dataframe\">\n",
       "  <thead>\n",
       "    <tr style=\"text-align: right;\">\n",
       "      <th></th>\n",
       "      <th>_id</th>\n",
       "      <th>name</th>\n",
       "      <th>updated</th>\n",
       "    </tr>\n",
       "  </thead>\n",
       "  <tbody>\n",
       "    <tr>\n",
       "      <th>0</th>\n",
       "      <td>5627f42b9fc3c132be08d84f</td>\n",
       "      <td>ISIC_MSK-1_1</td>\n",
       "      <td>2015-10-21T20:33:21.466000+00:00</td>\n",
       "    </tr>\n",
       "    <tr>\n",
       "      <th>1</th>\n",
       "      <td>582b8d419fc3c1566bbcb098</td>\n",
       "      <td>ISIC_MSK-1_2</td>\n",
       "      <td>2017-04-13T20:08:46.159000+00:00</td>\n",
       "    </tr>\n",
       "    <tr>\n",
       "      <th>2</th>\n",
       "      <td>5627f5f69fc3c132be08d852</td>\n",
       "      <td>ISIC_MSK-2_1</td>\n",
       "      <td>2015-10-21T20:33:29.916000+00:00</td>\n",
       "    </tr>\n",
       "    <tr>\n",
       "      <th>3</th>\n",
       "      <td>57eebe389fc3c12a89bb75f7</td>\n",
       "      <td>ISIC_MSK-3_1</td>\n",
       "      <td>2017-04-13T20:07:38.035000+00:00</td>\n",
       "    </tr>\n",
       "    <tr>\n",
       "      <th>4</th>\n",
       "      <td>581cd6059fc3c13dcd0e0930</td>\n",
       "      <td>ISIC_MSK-4_1</td>\n",
       "      <td>2017-04-13T20:08:05.005000+00:00</td>\n",
       "    </tr>\n",
       "    <tr>\n",
       "      <th>5</th>\n",
       "      <td>5825fd959fc3c171066d3352</td>\n",
       "      <td>ISIC_MSK-5_1</td>\n",
       "      <td>2017-04-13T20:08:24.725000+00:00</td>\n",
       "    </tr>\n",
       "    <tr>\n",
       "      <th>6</th>\n",
       "      <td>5627eefe9fc3c132be08d84c</td>\n",
       "      <td>ISIC_SONIC_1</td>\n",
       "      <td>2016-08-10T15:36:43.866000+00:00</td>\n",
       "    </tr>\n",
       "    <tr>\n",
       "      <th>7</th>\n",
       "      <td>54b6e869bae4785ee2be8652</td>\n",
       "      <td>ISIC_UDA-1_1</td>\n",
       "      <td>2014-11-10T02:39:56.492000+00:00</td>\n",
       "    </tr>\n",
       "    <tr>\n",
       "      <th>8</th>\n",
       "      <td>54ea816fbae47871b5e00c80</td>\n",
       "      <td>ISIC_UDA-2_1</td>\n",
       "      <td>2015-03-06T14:54:30.984000+00:00</td>\n",
       "    </tr>\n",
       "  </tbody>\n",
       "</table>\n",
       "</div>"
      ],
      "text/plain": [
       "                        _id          name                           updated\n",
       "0  5627f42b9fc3c132be08d84f  ISIC_MSK-1_1  2015-10-21T20:33:21.466000+00:00\n",
       "1  582b8d419fc3c1566bbcb098  ISIC_MSK-1_2  2017-04-13T20:08:46.159000+00:00\n",
       "2  5627f5f69fc3c132be08d852  ISIC_MSK-2_1  2015-10-21T20:33:29.916000+00:00\n",
       "3  57eebe389fc3c12a89bb75f7  ISIC_MSK-3_1  2017-04-13T20:07:38.035000+00:00\n",
       "4  581cd6059fc3c13dcd0e0930  ISIC_MSK-4_1  2017-04-13T20:08:05.005000+00:00\n",
       "5  5825fd959fc3c171066d3352  ISIC_MSK-5_1  2017-04-13T20:08:24.725000+00:00\n",
       "6  5627eefe9fc3c132be08d84c  ISIC_SONIC_1  2016-08-10T15:36:43.866000+00:00\n",
       "7  54b6e869bae4785ee2be8652  ISIC_UDA-1_1  2014-11-10T02:39:56.492000+00:00\n",
       "8  54ea816fbae47871b5e00c80  ISIC_UDA-2_1  2015-03-06T14:54:30.984000+00:00"
      ]
     },
     "execution_count": 4,
     "metadata": {},
     "output_type": "execute_result"
    }
   ],
   "source": [
    "#gc.downloadResource(\"55943cff9fc3c13155bcad5e\",dest=\"/home/dwx/tmp\")\n",
    "\n",
    "dataset_df = pd.DataFrame(gc.get(\"/dataset\"))\n",
    "dataset_df"
   ]
  },
  {
   "cell_type": "code",
   "execution_count": 5,
   "metadata": {
    "collapsed": false
   },
   "outputs": [
    {
     "data": {
      "text/plain": [
       "'5627f5f69fc3c132be08d852'"
      ]
     },
     "execution_count": 5,
     "metadata": {},
     "output_type": "execute_result"
    }
   ],
   "source": [
    "cur_dataset_id = dataset_df[dataset_df[\"name\"] == \"ISIC_MSK-2_1\"]._id\n",
    "cur_dataset_id = cur_dataset_id.tolist()[0]\n",
    "cur_dataset_id"
   ]
  },
  {
   "cell_type": "code",
   "execution_count": 6,
   "metadata": {
    "collapsed": false
   },
   "outputs": [
    {
     "data": {
      "text/plain": [
       "{'_id': '5627f5f69fc3c132be08d852',\n",
       " '_modelType': 'dataset',\n",
       " 'anonymous': True,\n",
       " 'created': '2015-06-26T14:24:02.672000+00:00',\n",
       " 'creator': {'_id': '54cb974fbae47819d8e4c727', 'name': 'User GQZH'},\n",
       " 'description': 'Benign and malignant skin lesions.\\nBiopsy-confirmed melanocytic and non-melanocytic lesions.',\n",
       " 'license': 'CC-0',\n",
       " 'metadataFiles': [],\n",
       " 'name': 'ISIC_MSK-2_1',\n",
       " 'owner': 'Memorial Sloan Kettering Cancer Center',\n",
       " 'updated': '2015-10-21T20:33:29.916000+00:00'}"
      ]
     },
     "execution_count": 6,
     "metadata": {},
     "output_type": "execute_result"
    }
   ],
   "source": [
    "path = \"/dataset/\"+str(\"5627f5f69fc3c132be08d852\")+\"\"\n",
    "gc.get(path)"
   ]
  },
  {
   "cell_type": "markdown",
   "metadata": {},
   "source": [
    "#### Get Image Metadata"
   ]
  },
  {
   "cell_type": "code",
   "execution_count": 50,
   "metadata": {
    "collapsed": false
   },
   "outputs": [],
   "source": [
    "path = \"/image/\"\n",
    "\n",
    "curSelection = gc.get(path,parameters={\"datasetId\":cur_dataset_id, \"limit\":5})"
   ]
  },
  {
   "cell_type": "code",
   "execution_count": 51,
   "metadata": {
    "collapsed": false
   },
   "outputs": [
    {
     "data": {
      "text/plain": [
       "5"
      ]
     },
     "execution_count": 51,
     "metadata": {},
     "output_type": "execute_result"
    }
   ],
   "source": [
    "len(curSelection)"
   ]
  },
  {
   "cell_type": "code",
   "execution_count": 57,
   "metadata": {
    "collapsed": false
   },
   "outputs": [],
   "source": [
    "def getSpecificMetadata(jsonData):\n",
    "    #result += [jsonData[\"meta\"][\"clinical\"][\"benign_malignant\"]]\n",
    "    result = jsonData[\"meta\"][\"clinical\"]\n",
    "    result[\"name\"] = jsonData[\"name\"]\n",
    "    return result\n",
    "    \n",
    "#dir(curSelection)\n",
    "path = \"/image/\"\n",
    "counter = 0\n",
    "malignant_counter = 0\n",
    "result = []\n",
    "for a in curSelection:\n",
    "    counter += 1\n",
    "    curId = a[\"_id\"]\n",
    "    curMetadata = gc.get(path+str(curId),parameters={})\n",
    "    specificMetadata = getSpecificMetadata(curMetadata)\n",
    "    #if specificMetadata[1] == \"malignant\":\n",
    "    #    malignant_counter +=1\n",
    "    result += [specificMetadata]\n",
    "    if counter % 60 == 0:\n",
    "        print(\"cur ratio malignant/total: \",malignant_counter/counter)"
   ]
  },
  {
   "cell_type": "code",
   "execution_count": 59,
   "metadata": {
    "collapsed": false
   },
   "outputs": [
    {
     "data": {
      "text/html": [
       "<div>\n",
       "<table border=\"1\" class=\"dataframe\">\n",
       "  <thead>\n",
       "    <tr style=\"text-align: right;\">\n",
       "      <th></th>\n",
       "      <th>age_approx</th>\n",
       "      <th>benign_malignant</th>\n",
       "      <th>clin_size_long_diam_mm</th>\n",
       "      <th>diagnosis</th>\n",
       "      <th>diagnosis_confirm_type</th>\n",
       "      <th>family_hx_mm</th>\n",
       "      <th>melanocytic</th>\n",
       "      <th>name</th>\n",
       "      <th>personal_hx_mm</th>\n",
       "      <th>sex</th>\n",
       "    </tr>\n",
       "  </thead>\n",
       "  <tbody>\n",
       "    <tr>\n",
       "      <th>0</th>\n",
       "      <td>70</td>\n",
       "      <td>malignant</td>\n",
       "      <td>4.0</td>\n",
       "      <td>melanoma</td>\n",
       "      <td>histopathology</td>\n",
       "      <td>False</td>\n",
       "      <td>True</td>\n",
       "      <td>ISIC_0009868</td>\n",
       "      <td>False</td>\n",
       "      <td>female</td>\n",
       "    </tr>\n",
       "    <tr>\n",
       "      <th>1</th>\n",
       "      <td>40</td>\n",
       "      <td>benign</td>\n",
       "      <td>4.0</td>\n",
       "      <td>nevus</td>\n",
       "      <td>histopathology</td>\n",
       "      <td>False</td>\n",
       "      <td>True</td>\n",
       "      <td>ISIC_0009869</td>\n",
       "      <td>True</td>\n",
       "      <td>female</td>\n",
       "    </tr>\n",
       "    <tr>\n",
       "      <th>2</th>\n",
       "      <td>40</td>\n",
       "      <td>benign</td>\n",
       "      <td>3.0</td>\n",
       "      <td>nevus</td>\n",
       "      <td>histopathology</td>\n",
       "      <td>False</td>\n",
       "      <td>True</td>\n",
       "      <td>ISIC_0009870</td>\n",
       "      <td>True</td>\n",
       "      <td>female</td>\n",
       "    </tr>\n",
       "    <tr>\n",
       "      <th>3</th>\n",
       "      <td>45</td>\n",
       "      <td>benign</td>\n",
       "      <td>5.0</td>\n",
       "      <td>nevus</td>\n",
       "      <td>histopathology</td>\n",
       "      <td>False</td>\n",
       "      <td>True</td>\n",
       "      <td>ISIC_0009871</td>\n",
       "      <td>False</td>\n",
       "      <td>male</td>\n",
       "    </tr>\n",
       "    <tr>\n",
       "      <th>4</th>\n",
       "      <td>50</td>\n",
       "      <td>benign</td>\n",
       "      <td>3.0</td>\n",
       "      <td>nevus</td>\n",
       "      <td>histopathology</td>\n",
       "      <td>False</td>\n",
       "      <td>True</td>\n",
       "      <td>ISIC_0009872</td>\n",
       "      <td>False</td>\n",
       "      <td>female</td>\n",
       "    </tr>\n",
       "  </tbody>\n",
       "</table>\n",
       "</div>"
      ],
      "text/plain": [
       "   age_approx benign_malignant  clin_size_long_diam_mm diagnosis  \\\n",
       "0          70        malignant                     4.0  melanoma   \n",
       "1          40           benign                     4.0     nevus   \n",
       "2          40           benign                     3.0     nevus   \n",
       "3          45           benign                     5.0     nevus   \n",
       "4          50           benign                     3.0     nevus   \n",
       "\n",
       "  diagnosis_confirm_type family_hx_mm melanocytic          name  \\\n",
       "0         histopathology        False        True  ISIC_0009868   \n",
       "1         histopathology        False        True  ISIC_0009869   \n",
       "2         histopathology        False        True  ISIC_0009870   \n",
       "3         histopathology        False        True  ISIC_0009871   \n",
       "4         histopathology        False        True  ISIC_0009872   \n",
       "\n",
       "  personal_hx_mm     sex  \n",
       "0          False  female  \n",
       "1           True  female  \n",
       "2           True  female  \n",
       "3          False    male  \n",
       "4          False  female  "
      ]
     },
     "execution_count": 59,
     "metadata": {},
     "output_type": "execute_result"
    }
   ],
   "source": [
    "pd.DataFrame(result)"
   ]
  }
 ],
 "metadata": {
  "anaconda-cloud": {},
  "kernelspec": {
   "display_name": "Python [default]",
   "language": "python",
   "name": "python3"
  },
  "language_info": {
   "codemirror_mode": {
    "name": "ipython",
    "version": 3
   },
   "file_extension": ".py",
   "mimetype": "text/x-python",
   "name": "python",
   "nbconvert_exporter": "python",
   "pygments_lexer": "ipython3",
   "version": "3.5.2"
  }
 },
 "nbformat": 4,
 "nbformat_minor": 1
}
