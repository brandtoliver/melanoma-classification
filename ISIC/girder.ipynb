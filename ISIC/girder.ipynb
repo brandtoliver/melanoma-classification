{
 "cells": [
  {
   "cell_type": "code",
   "execution_count": 17,
   "metadata": {
    "collapsed": true
   },
   "outputs": [],
   "source": [
    "import girder_client\n",
    "import pandas as pd\n",
    "import json"
   ]
  },
  {
   "cell_type": "code",
   "execution_count": 2,
   "metadata": {
    "collapsed": true
   },
   "outputs": [],
   "source": [
    "gc = girder_client.GirderClient(apiUrl='https://isic-archive.com/api/v1')\n",
    "gc.authenticate('dominikkiefer', 'dlproject')"
   ]
  },
  {
   "cell_type": "code",
   "execution_count": 79,
   "metadata": {
    "collapsed": false
   },
   "outputs": [
    {
     "data": {
      "text/html": [
       "<div>\n",
       "<table border=\"1\" class=\"dataframe\">\n",
       "  <thead>\n",
       "    <tr style=\"text-align: right;\">\n",
       "      <th></th>\n",
       "      <th>_accessLevel</th>\n",
       "      <th>_id</th>\n",
       "      <th>_modelType</th>\n",
       "      <th>created</th>\n",
       "      <th>description</th>\n",
       "      <th>name</th>\n",
       "      <th>public</th>\n",
       "      <th>size</th>\n",
       "      <th>updated</th>\n",
       "    </tr>\n",
       "  </thead>\n",
       "  <tbody>\n",
       "    <tr>\n",
       "      <th>0</th>\n",
       "      <td>-1</td>\n",
       "      <td>55943cff9fc3c13155bcad61</td>\n",
       "      <td>collection</td>\n",
       "      <td>2015-07-01T19:18:23.988000+00:00</td>\n",
       "      <td>Clinical feature annotation studies</td>\n",
       "      <td>Annotation Studies</td>\n",
       "      <td>True</td>\n",
       "      <td>0</td>\n",
       "      <td>2016-08-24T03:06:20.532000+00:00</td>\n",
       "    </tr>\n",
       "    <tr>\n",
       "      <th>1</th>\n",
       "      <td>-1</td>\n",
       "      <td>55943cff9fc3c13155bcad5e</td>\n",
       "      <td>collection</td>\n",
       "      <td>2014-09-29T02:59:17.932000+00:00</td>\n",
       "      <td>All public lesion image datasets</td>\n",
       "      <td>Lesion Images</td>\n",
       "      <td>True</td>\n",
       "      <td>293175840740</td>\n",
       "      <td>2016-08-24T03:07:21.780000+00:00</td>\n",
       "    </tr>\n",
       "  </tbody>\n",
       "</table>\n",
       "</div>"
      ],
      "text/plain": [
       "   _accessLevel                       _id  _modelType  \\\n",
       "0            -1  55943cff9fc3c13155bcad61  collection   \n",
       "1            -1  55943cff9fc3c13155bcad5e  collection   \n",
       "\n",
       "                            created                          description  \\\n",
       "0  2015-07-01T19:18:23.988000+00:00  Clinical feature annotation studies   \n",
       "1  2014-09-29T02:59:17.932000+00:00     All public lesion image datasets   \n",
       "\n",
       "                 name public          size                           updated  \n",
       "0  Annotation Studies   True             0  2016-08-24T03:06:20.532000+00:00  \n",
       "1       Lesion Images   True  293175840740  2016-08-24T03:07:21.780000+00:00  "
      ]
     },
     "execution_count": 79,
     "metadata": {},
     "output_type": "execute_result"
    }
   ],
   "source": [
    "pd.DataFrame(gc.listCollection())"
   ]
  },
  {
   "cell_type": "code",
   "execution_count": 43,
   "metadata": {
    "collapsed": false
   },
   "outputs": [],
   "source": [
    "#gc.downloadResource(\"55943cff9fc3c13155bcad5e\",dest=\"/home/dwx/tmp\")\n",
    "\n"
   ]
  },
  {
   "cell_type": "code",
   "execution_count": 46,
   "metadata": {
    "collapsed": false
   },
   "outputs": [
    {
     "data": {
      "text/html": [
       "<div>\n",
       "<table border=\"1\" class=\"dataframe\">\n",
       "  <thead>\n",
       "    <tr style=\"text-align: right;\">\n",
       "      <th></th>\n",
       "      <th>_id</th>\n",
       "      <th>name</th>\n",
       "      <th>updated</th>\n",
       "    </tr>\n",
       "  </thead>\n",
       "  <tbody>\n",
       "    <tr>\n",
       "      <th>0</th>\n",
       "      <td>5627f42b9fc3c132be08d84f</td>\n",
       "      <td>ISIC_MSK-1_1</td>\n",
       "      <td>2015-10-21T20:33:21.466000+00:00</td>\n",
       "    </tr>\n",
       "    <tr>\n",
       "      <th>1</th>\n",
       "      <td>582b8d419fc3c1566bbcb098</td>\n",
       "      <td>ISIC_MSK-1_2</td>\n",
       "      <td>2017-04-13T20:08:46.159000+00:00</td>\n",
       "    </tr>\n",
       "    <tr>\n",
       "      <th>2</th>\n",
       "      <td>5627f5f69fc3c132be08d852</td>\n",
       "      <td>ISIC_MSK-2_1</td>\n",
       "      <td>2015-10-21T20:33:29.916000+00:00</td>\n",
       "    </tr>\n",
       "    <tr>\n",
       "      <th>3</th>\n",
       "      <td>57eebe389fc3c12a89bb75f7</td>\n",
       "      <td>ISIC_MSK-3_1</td>\n",
       "      <td>2017-04-13T20:07:38.035000+00:00</td>\n",
       "    </tr>\n",
       "    <tr>\n",
       "      <th>4</th>\n",
       "      <td>581cd6059fc3c13dcd0e0930</td>\n",
       "      <td>ISIC_MSK-4_1</td>\n",
       "      <td>2017-04-13T20:08:05.005000+00:00</td>\n",
       "    </tr>\n",
       "    <tr>\n",
       "      <th>5</th>\n",
       "      <td>5825fd959fc3c171066d3352</td>\n",
       "      <td>ISIC_MSK-5_1</td>\n",
       "      <td>2017-04-13T20:08:24.725000+00:00</td>\n",
       "    </tr>\n",
       "    <tr>\n",
       "      <th>6</th>\n",
       "      <td>5627eefe9fc3c132be08d84c</td>\n",
       "      <td>ISIC_SONIC_1</td>\n",
       "      <td>2016-08-10T15:36:43.866000+00:00</td>\n",
       "    </tr>\n",
       "    <tr>\n",
       "      <th>7</th>\n",
       "      <td>54b6e869bae4785ee2be8652</td>\n",
       "      <td>ISIC_UDA-1_1</td>\n",
       "      <td>2014-11-10T02:39:56.492000+00:00</td>\n",
       "    </tr>\n",
       "    <tr>\n",
       "      <th>8</th>\n",
       "      <td>54ea816fbae47871b5e00c80</td>\n",
       "      <td>ISIC_UDA-2_1</td>\n",
       "      <td>2015-03-06T14:54:30.984000+00:00</td>\n",
       "    </tr>\n",
       "  </tbody>\n",
       "</table>\n",
       "</div>"
      ],
      "text/plain": [
       "                        _id          name                           updated\n",
       "0  5627f42b9fc3c132be08d84f  ISIC_MSK-1_1  2015-10-21T20:33:21.466000+00:00\n",
       "1  582b8d419fc3c1566bbcb098  ISIC_MSK-1_2  2017-04-13T20:08:46.159000+00:00\n",
       "2  5627f5f69fc3c132be08d852  ISIC_MSK-2_1  2015-10-21T20:33:29.916000+00:00\n",
       "3  57eebe389fc3c12a89bb75f7  ISIC_MSK-3_1  2017-04-13T20:07:38.035000+00:00\n",
       "4  581cd6059fc3c13dcd0e0930  ISIC_MSK-4_1  2017-04-13T20:08:05.005000+00:00\n",
       "5  5825fd959fc3c171066d3352  ISIC_MSK-5_1  2017-04-13T20:08:24.725000+00:00\n",
       "6  5627eefe9fc3c132be08d84c  ISIC_SONIC_1  2016-08-10T15:36:43.866000+00:00\n",
       "7  54b6e869bae4785ee2be8652  ISIC_UDA-1_1  2014-11-10T02:39:56.492000+00:00\n",
       "8  54ea816fbae47871b5e00c80  ISIC_UDA-2_1  2015-03-06T14:54:30.984000+00:00"
      ]
     },
     "execution_count": 46,
     "metadata": {},
     "output_type": "execute_result"
    }
   ],
   "source": [
    "x = gc.get(\"/dataset\")\n",
    "pd.DataFrame(list(x))"
   ]
  },
  {
   "cell_type": "code",
   "execution_count": 49,
   "metadata": {
    "collapsed": false
   },
   "outputs": [
    {
     "data": {
      "text/plain": [
       "{'_id': '5627f5f69fc3c132be08d852',\n",
       " '_modelType': 'dataset',\n",
       " 'anonymous': True,\n",
       " 'created': '2015-06-26T14:24:02.672000+00:00',\n",
       " 'creator': {'_id': '54cb974fbae47819d8e4c727', 'name': 'User GQZH'},\n",
       " 'description': 'Benign and malignant skin lesions.\\nBiopsy-confirmed melanocytic and non-melanocytic lesions.',\n",
       " 'license': 'CC-0',\n",
       " 'metadataFiles': [],\n",
       " 'name': 'ISIC_MSK-2_1',\n",
       " 'owner': 'Memorial Sloan Kettering Cancer Center',\n",
       " 'updated': '2015-10-21T20:33:29.916000+00:00'}"
      ]
     },
     "execution_count": 49,
     "metadata": {},
     "output_type": "execute_result"
    }
   ],
   "source": [
    "path = \"/dataset/\"+str(\"5627f5f69fc3c132be08d852\")+\"\"\n",
    "gc.get(path)"
   ]
  },
  {
   "cell_type": "code",
   "execution_count": 52,
   "metadata": {
    "collapsed": false
   },
   "outputs": [],
   "source": [
    "#gc.downloadResource(\"5627f5f69fc3c132be08d852\",dest=\"/home/dwx/tmp\")"
   ]
  },
  {
   "cell_type": "code",
   "execution_count": 64,
   "metadata": {
    "collapsed": false
   },
   "outputs": [
    {
     "data": {
      "text/plain": [
       "[{'_id': '558d6082bae47801cf73435d',\n",
       "  'name': 'ISIC_0009868',\n",
       "  'updated': '2015-10-02T15:33:44.927000+00:00'},\n",
       " {'_id': '558d6083bae47801cf734360',\n",
       "  'name': 'ISIC_0009869',\n",
       "  'updated': '2015-10-02T15:33:44.929000+00:00'}]"
      ]
     },
     "execution_count": 64,
     "metadata": {},
     "output_type": "execute_result"
    }
   ],
   "source": [
    "path = \"/image/\"\n",
    "(gc.get(path,parameters={\"datasetId\":\"5627f5f69fc3c132be08d852\", \"limit\":2}))"
   ]
  },
  {
   "cell_type": "code",
   "execution_count": 68,
   "metadata": {
    "collapsed": false
   },
   "outputs": [],
   "source": [
    "path = \"/image/558d6082bae47801cf73435d\"\n",
    "result = gc.get(path,parameters={})"
   ]
  },
  {
   "cell_type": "code",
   "execution_count": 74,
   "metadata": {
    "collapsed": false
   },
   "outputs": [
    {
     "data": {
      "text/plain": [
       "{'age_approx': 70,\n",
       " 'benign_malignant': 'malignant',\n",
       " 'clin_size_long_diam_mm': 4.0,\n",
       " 'diagnosis': 'melanoma',\n",
       " 'diagnosis_confirm_type': 'histopathology',\n",
       " 'family_hx_mm': False,\n",
       " 'melanocytic': True,\n",
       " 'personal_hx_mm': False,\n",
       " 'sex': 'female'}"
      ]
     },
     "execution_count": 74,
     "metadata": {},
     "output_type": "execute_result"
    }
   ],
   "source": [
    "result[\"meta\"][\"clinical\"]"
   ]
  },
  {
   "cell_type": "code",
   "execution_count": 76,
   "metadata": {
    "collapsed": false
   },
   "outputs": [
    {
     "data": {
      "text/plain": [
       "'ISIC_0009868'"
      ]
     },
     "execution_count": 76,
     "metadata": {},
     "output_type": "execute_result"
    }
   ],
   "source": [
    "result[\"name\"]"
   ]
  },
  {
   "cell_type": "code",
   "execution_count": null,
   "metadata": {
    "collapsed": true
   },
   "outputs": [],
   "source": [
    "\"\"\" we want\n",
    "name\n",
    "meta.clincal.*\n",
    "\"\"\""
   ]
  }
 ],
 "metadata": {
  "anaconda-cloud": {},
  "kernelspec": {
   "display_name": "Python [default]",
   "language": "python",
   "name": "python3"
  },
  "language_info": {
   "codemirror_mode": {
    "name": "ipython",
    "version": 3
   },
   "file_extension": ".py",
   "mimetype": "text/x-python",
   "name": "python",
   "nbconvert_exporter": "python",
   "pygments_lexer": "ipython3",
   "version": "3.5.2"
  }
 },
 "nbformat": 4,
 "nbformat_minor": 1
}
