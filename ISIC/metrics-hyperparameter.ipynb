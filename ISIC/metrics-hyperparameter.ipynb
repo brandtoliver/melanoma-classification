{
 "cells": [
  {
   "cell_type": "markdown",
   "metadata": {},
   "source": [
    "# Description\n",
    "\n",
    "*Dominik, 2017-11-27*\n",
    "\n",
    "This file takes VGG16, changes the last layer to one with binary classification, loads the weights of a finetuned VGG16 (x layers) and can predict classes.\n",
    "\n",
    "This file includes a variety of metrices: confusion matrix, accuracy, ROC, etc."
   ]
  },
  {
   "cell_type": "code",
   "execution_count": 1,
   "metadata": {},
   "outputs": [
    {
     "name": "stderr",
     "output_type": "stream",
     "text": [
      "Using TensorFlow backend.\n"
     ]
    }
   ],
   "source": [
    "import numpy as np\n",
    "import matplotlib.pyplot as plt\n",
    "\n",
    "from keras import applications\n",
    "from keras.preprocessing.image import ImageDataGenerator, img_to_array, load_img,array_to_img\n",
    "from keras import optimizers\n",
    "from keras.models import Sequential, Model\n",
    "from keras.layers import Dropout, Flatten, Dense, Input\n",
    "from keras import backend as K\n",
    "K.set_image_dim_ordering('th')\n",
    "\n",
    "import progressbar\n",
    "\n",
    "import os\n",
    "\n",
    "from IPython.display import Image, display, clear_output\n",
    "\n",
    "from sklearn import svm, datasets\n",
    "from sklearn.metrics import roc_curve, auc\n",
    "\n",
    "import datetime\n",
    "\n",
    "from IPython.display import Markdown, display\n",
    "def printmd(string):\n",
    "    display(Markdown(string))"
   ]
  },
  {
   "cell_type": "code",
   "execution_count": 2,
   "metadata": {},
   "outputs": [],
   "source": [
    "os.chdir(\"/home/ubuntu/data/\")"
   ]
  },
  {
   "cell_type": "code",
   "execution_count": 3,
   "metadata": {
    "scrolled": false
   },
   "outputs": [],
   "source": [
    "def get_model(top_model_weights_path, img_width, img_height):\n",
    "    input_tensor = Input(shape=(3,img_width,img_height))\n",
    "    base_model = applications.VGG16(weights='imagenet',include_top= False,input_tensor=input_tensor)\n",
    "    top_model = Sequential()\n",
    "    top_model.add(Flatten(input_shape=base_model.output_shape[1:]))\n",
    "    top_model.add(Dense(256, activation='relu'))\n",
    "    top_model.add(Dropout(0.5))\n",
    "    top_model.add(Dense(1, activation='sigmoid'))\n",
    "    #top_model.load_weights(top_model_weights_path)\n",
    "    model = Model(inputs= base_model.input, outputs= top_model(base_model.output))\n",
    "    model.load_weights(top_model_weights_path)\n",
    "    return model\n",
    "\n",
    "def predict_image_class(model, path_file, img_width,img_height):\n",
    "    \"\"\"returns class in binary classification.\n",
    "    \"\"\"\n",
    "    x = load_img(path_file, target_size=(img_width,img_height))\n",
    "    x = img_to_array(x)\n",
    "    x = np.expand_dims(x, axis=0)\n",
    "    value_prediction = model.predict(x)[0][0]\n",
    "    return value_prediction"
   ]
  },
  {
   "cell_type": "markdown",
   "metadata": {},
   "source": [
    "# Setting the Path\n",
    "1. Take e.g. weights from: www.dominikmorgen.de/data/20171120_1519_saved_weights.h5.zip , \n",
    "2. rename the file to bottleneck_fc_model.h5 and \n",
    "3. link the path to it below in *top_model_weights_path*"
   ]
  },
  {
   "cell_type": "code",
   "execution_count": 6,
   "metadata": {},
   "outputs": [],
   "source": [
    "train_data_dir = 'train'\n",
    "validation_data_dir = 'validation'\n",
    "test_dir = 'test'\n",
    "category_array = [\"Malignant\", \"Benign\"]\n",
    "img_width, img_height = 150, 150 # dimensions of our images.\n",
    "\n",
    "def print_metrics_scatterplot(pred_array):\n",
    "    plt.scatter(np.arange(0,len(pred_array[0])), pred_array[0])\n",
    "    plt.show()\n",
    "    plt.scatter(np.arange(0,len(pred_array[1])), pred_array[1])\n",
    "    plt.show()\n",
    "    return\n",
    "\n",
    "def calc_metrics(top_model_weights_path):\n",
    "    model = get_model(top_model_weights_path, img_width, img_height)\n",
    "    for trainValTest in [test_dir]:\n",
    "        \"\"\"\n",
    "        array:\n",
    "        0 actual class malignant\n",
    "        1 actual class benign\n",
    "        \"\"\"\n",
    "        confusion_matrix = [[0,0],[0,0]] \n",
    "        pred_array = [[],[]]\n",
    "        for a, category in enumerate(category_array):\n",
    "            cur_path = trainValTest + \"/\" + category + \"/\"\n",
    "            for file in os.listdir(cur_path)[:]: # progressbar.log_progress(os.listdir(cur_path)[:]):\n",
    "                if file.endswith(\".jpg\"):\n",
    "                    path_file = cur_path + file\n",
    "                    value_prediction = predict_image_class(model, path_file, img_width, img_height)\n",
    "                    pred_array[a] += [value_prediction]\n",
    "                    if value_prediction > 0.5:\n",
    "                        confusion_matrix[a][0] += 1\n",
    "                    else:\n",
    "                        confusion_matrix[a][1] += 1\n",
    "                    \n",
    "    return confusion_matrix, pred_array   \n",
    "\n",
    "def get_scaled_accuracy(matrix):\n",
    "    # values from long run 110 epochs\n",
    "    # accuracy scaled = TP / (2N+) + TN / (2N-)\n",
    "    matrix = np.array(matrix)\n",
    "    TP = matrix[0][0]\n",
    "    TN = matrix[1][1]\n",
    "    N_plus = matrix[0][0] + matrix[0][1]\n",
    "    N_minus = matrix[1][0] + matrix[1][1]\n",
    "\n",
    "    acc_scaled = TP / (2*N_plus) + TN / (2*N_minus)\n",
    "    return acc_scaled\n",
    "\n",
    "def print_metrics(confusion_matrix, weight_name, flag_show_scatter=False):\n",
    "    printmd(\"weight file: **\" + str(weight_name) + \"**\")\n",
    "\n",
    "    confusion_matrix = np.array(confusion_matrix)\n",
    "    cm_swaped = np.swapaxes(confusion_matrix, 0, 1)\n",
    "    print(\"{:25} {:10} {:10} {:5}\".format(\"classified:\", \"malignant\", \"benign\", \"sum\"))\n",
    "    print(\"{:25} {:5} {:10} {:8}\".format(\"actual class malignant: \",confusion_matrix[0][0],confusion_matrix[0][1],sum(cm_swaped)[0]))\n",
    "    print(\"{:25} {:5} {:10} {:8}\".format(\"actual class benign: \",confusion_matrix[1][0],confusion_matrix[1][1],sum(cm_swaped)[1]))\n",
    "\n",
    "    confusion_matrix_percent = np.swapaxes( cm_swaped / sum(cm_swaped), 0, 1)\n",
    "    print(\"{:25} {:10} {:10} {:5}\".format(\"classified:\", \"malignant\", \"benign\", \"sum\"))\n",
    "    print(\"{:25} {:.2e} {:.2e} {:5}\".format(\"actual class malignant: \",confusion_matrix_percent[0][0],confusion_matrix_percent[0][1],1))\n",
    "    print(\"{:25} {:.2e} {:.2e} {:5}\".format(\"actual class benign: \",confusion_matrix_percent[1][0],confusion_matrix_percent[1][1],1))\n",
    "        \n",
    "    TP = confusion_matrix[0][0]\n",
    "    FP = confusion_matrix[0][1]\n",
    "    FN = confusion_matrix[1][0]\n",
    "    TN = confusion_matrix[1][1]\n",
    "    scaled_AC = get_scaled_accuracy([[TP, FP],[FN, TN]])\n",
    "    AC = (TP+TN) / (TP+FP+TN+FN)\n",
    "    SE = TP / (TP+FN)\n",
    "    SP = TN / (TN+FP)\n",
    "    DI = (2*TP) / (2*TP + FN + FP)\n",
    "    \n",
    "    print(\"{:12} {:.3e}\".format(\"accuracy\",AC))\n",
    "    string = \"{:12} {:.3e}\".format(\"scaled accuracy\",scaled_AC)\n",
    "    printmd(\"**\" + string + \"**\")\n",
    "    print(\"{:12} {:.3e}\".format(\"sensitivity\",SE))\n",
    "    print(\"{:12} {:.3e}\".format(\"specificity\",SP))\n",
    "    print(\"{:12} {:.3e}\".format(\"dice coeff.\",DI))\n",
    "    \n",
    "    if flag_show_scatter:\n",
    "        print_metrics_scatterplot(pred_array)\n",
    "        \n",
    "    return\n",
    "\n",
    "def plot_roc(pred_array, filename_prefix, dir_path):\n",
    "    y_true_0 = np.ones(len(pred_array[0]))\n",
    "    y_true_1 = np.zeros(len(pred_array[1]))\n",
    "    y_true = np.concatenate([y_true_0, y_true_1],axis=0)\n",
    "    y_score = np.concatenate(pred_array, axis=0)\n",
    "\n",
    "    fpr, tpr, thresholds = roc_curve(y_true, y_score)\n",
    "    roc_auc = auc(fpr, tpr)\n",
    "    \n",
    "    time_now = datetime.datetime.now()\n",
    "    time_string = str(time_now.hour) + str(time_now.minute)\n",
    "    fileName1 = filename_prefix + \"_\" + time_string + \"_1.png\"\n",
    "\n",
    "    plt.figure()\n",
    "    lw = 2\n",
    "    plt.plot(fpr, tpr, color='darkorange',\n",
    "             lw=lw, label='ROC curve (area = %0.2f)' % roc_auc)\n",
    "    plt.plot([0, 1], [0, 1], color='navy', lw=lw, linestyle='--')\n",
    "    plt.xlim([0.0, 1.0])\n",
    "    plt.ylim([0.0, 1.05])\n",
    "    plt.xlabel('False Positive Rate')\n",
    "    plt.ylabel('True Positive Rate')\n",
    "    plt.title('Receiver operating characteristic example')\n",
    "    plt.legend(loc=\"lower right\")\n",
    "    plt.savefig(dir_path+fileName1)\n",
    "    plt.show()\n",
    "    return"
   ]
  },
  {
   "cell_type": "code",
   "execution_count": 7,
   "metadata": {},
   "outputs": [
    {
     "name": "stderr",
     "output_type": "stream",
     "text": [
      "/usr/local/lib/python3.5/dist-packages/keras/applications/vgg16.py:182: UserWarning: You are using the TensorFlow backend, yet you are using the Theano image data format convention (`image_data_format=\"channels_first\"`). For best performance, set `image_data_format=\"channels_last\"` in your Keras config at ~/.keras/keras.json.\n",
      "  warnings.warn('You are using the TensorFlow backend, yet you '\n"
     ]
    },
    {
     "data": {
      "text/markdown": [
       "weight file: **4_0_10_20_2.h5**"
      ],
      "text/plain": [
       "<IPython.core.display.Markdown object>"
      ]
     },
     "metadata": {},
     "output_type": "display_data"
    },
    {
     "name": "stdout",
     "output_type": "stream",
     "text": [
      "classified:               malignant  benign     sum  \n",
      "actual class malignant:       7         24       31\n",
      "actual class benign:          4         83       87\n",
      "classified:               malignant  benign     sum  \n",
      "actual class malignant:   2.26e-01 7.74e-01     1\n",
      "actual class benign:      4.60e-02 9.54e-01     1\n",
      "accuracy     7.627e-01\n"
     ]
    },
    {
     "data": {
      "text/markdown": [
       "**scaled accuracy 5.899e-01**"
      ],
      "text/plain": [
       "<IPython.core.display.Markdown object>"
      ]
     },
     "metadata": {},
     "output_type": "display_data"
    },
    {
     "name": "stdout",
     "output_type": "stream",
     "text": [
      "sensitivity  6.364e-01\n",
      "specificity  7.757e-01\n",
      "dice coeff.  3.333e-01\n"
     ]
    },
    {
     "data": {
      "image/png": "[encoded data removed]",
      "text/plain": [
       "<matplotlib.figure.Figure at 0x7fab289980f0>"
      ]
     },
     "metadata": {},
     "output_type": "display_data"
    },
    {
     "data": {
      "text/markdown": [
       "weight file: **4_1_10_20_2.h5**"
      ],
      "text/plain": [
       "<IPython.core.display.Markdown object>"
      ]
     },
     "metadata": {},
     "output_type": "display_data"
    },
    {
     "name": "stdout",
     "output_type": "stream",
     "text": [
      "classified:               malignant  benign     sum  \n",
      "actual class malignant:       9         22       31\n",
      "actual class benign:          5         82       87\n",
      "classified:               malignant  benign     sum  \n",
      "actual class malignant:   2.90e-01 7.10e-01     1\n",
      "actual class benign:      5.75e-02 9.43e-01     1\n",
      "accuracy     7.712e-01\n"
     ]
    },
    {
     "data": {
      "text/markdown": [
       "**scaled accuracy 6.164e-01**"
      ],
      "text/plain": [
       "<IPython.core.display.Markdown object>"
      ]
     },
     "metadata": {},
     "output_type": "display_data"
    },
    {
     "name": "stdout",
     "output_type": "stream",
     "text": [
      "sensitivity  6.429e-01\n",
      "specificity  7.885e-01\n",
      "dice coeff.  4.000e-01\n"
     ]
    },
    {
     "data": {
      "image/png": "[encoded data removed]",
      "text/plain": [
       "<matplotlib.figure.Figure at 0x7faaec50d0f0>"
      ]
     },
     "metadata": {},
     "output_type": "display_data"
    }
   ],
   "source": [
    "cur_path = \"../download/\"\n",
    "for file in os.listdir(cur_path)[:]: # progressbar.log_progress(os.listdir(cur_path)[:]):\n",
    "    if file.endswith(\".h5\") and file.startswith(\"4\"):\n",
    "        filepath = cur_path + file\n",
    "        confusion_matrix, pred_array = calc_metrics(filepath)\n",
    "        print_metrics(confusion_matrix, file)\n",
    "        plot_roc(pred_array, file+\"_roc\", cur_path)"
   ]
  },
  {
   "cell_type": "code",
   "execution_count": null,
   "metadata": {},
   "outputs": [],
   "source": []
  }
 ],
 "metadata": {
  "anaconda-cloud": {},
  "kernelspec": {
   "display_name": "Python 3",
   "language": "python",
   "name": "python3"
  },
  "language_info": {
   "codemirror_mode": {
    "name": "ipython",
    "version": 3
   },
   "file_extension": ".py",
   "mimetype": "text/x-python",
   "name": "python",
   "nbconvert_exporter": "python",
   "pygments_lexer": "ipython3",
   "version": "3.5.2"
  }
 },
 "nbformat": 4,
 "nbformat_minor": 2
}
