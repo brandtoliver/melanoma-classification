{
 "cells": [
  {
   "cell_type": "code",
   "execution_count": 1,
   "metadata": {
    "collapsed": false
   },
   "outputs": [
    {
     "name": "stderr",
     "output_type": "stream",
     "text": [
      "Using TensorFlow backend.\n"
     ]
    }
   ],
   "source": [
    "import numpy as np\n",
    "import matplotlib.pyplot as plt\n",
    "\n",
    "from keras import applications\n",
    "from keras.preprocessing.image import ImageDataGenerator, img_to_array, load_img,array_to_img\n",
    "from keras import optimizers\n",
    "from keras.models import Sequential, Model\n",
    "from keras.layers import Dropout, Flatten, Dense, Input\n",
    "from keras import backend as K\n",
    "K.set_image_dim_ordering('th')\n",
    "\n",
    "import progressbar\n",
    "\n",
    "import os\n",
    "\n",
    "from IPython.display import Image, display, clear_output"
   ]
  },
  {
   "cell_type": "code",
   "execution_count": 2,
   "metadata": {
    "collapsed": false
   },
   "outputs": [],
   "source": [
    "os.chdir(\"/home/dwx/Documents/Studium/DTU/11/DL Deep Learning/project/ISIC_MSK-2_1_sorted\")"
   ]
  },
  {
   "cell_type": "code",
   "execution_count": 4,
   "metadata": {
    "collapsed": true
   },
   "outputs": [],
   "source": [
    "# dimensions of our images.\n",
    "img_width, img_height = 150, 150\n",
    "top_model_weights_path = 'bottleneck_fc_model_jk.h5'\n",
    "train_data_dir = PATH+'train/'\n",
    "validation_data_dir =PATH+ 'validation/'\n",
    "test_dir =PATH+ 'test/'\n"
   ]
  },
  {
   "cell_type": "code",
   "execution_count": 5,
   "metadata": {
    "collapsed": true
   },
   "outputs": [],
   "source": [
    "def save_bottleneck_features():\n",
    "    datagen = ImageDataGenerator(rescale=1. / 255,\n",
    "                                 rotation_range=360,\n",
    "                                 width_shift_range=0.2,\n",
    "                                 height_shift_range=0.2,\n",
    "                                 shear_range=0.2,\n",
    "                                 zoom_range=0.2,\n",
    "                                 fill_mode='nearest',\n",
    "                                 horizontal_flip=True,\n",
    "                                 vertical_flip=True)\n",
    "\n",
    "    # build the VGG16 network\n",
    "    model = applications.VGG16(include_top=False, weights='imagenet')\n",
    "\n",
    "    generator = datagen.flow_from_directory(\n",
    "        train_data_dir,\n",
    "        target_size=(img_width, img_height),\n",
    "        batch_size=batch_size,\n",
    "        class_mode=None,\n",
    "        shuffle=False)\n",
    "    bottleneck_features_train = model.predict_generator(\n",
    "        generator, nb_train_samples // batch_size)\n",
    "    np.save('bottleneck_features_train_jk',\n",
    "        bottleneck_features_train)\n",
    "\n",
    "    print(\"done train\")\n",
    "    generator = datagen.flow_from_directory(\n",
    "        validation_data_dir,\n",
    "        target_size=(img_width, img_height),\n",
    "        batch_size=batch_size,\n",
    "        class_mode=None,\n",
    "        shuffle=False)\n",
    "    bottleneck_features_validation = model.predict_generator(\n",
    "        generator, nb_validation_samples // batch_size)\n",
    "    np.save('bottleneck_features_validation_jk',\n",
    "            bottleneck_features_validation)\n",
    "    print(\"done valid\")"
   ]
  },
  {
   "cell_type": "code",
   "execution_count": 28,
   "metadata": {
    "collapsed": false
   },
   "outputs": [
    {
     "name": "stderr",
     "output_type": "stream",
     "text": [
      "/nobackup/titans/jankoo/anaconda3/lib/python3.6/site-packages/keras/applications/vgg16.py:184: UserWarning: You are using the TensorFlow backend, yet you are using the Theano image data format convention (`image_data_format=\"channels_first\"`). For best performance, set `image_data_format=\"channels_last\"` in your Keras config at ~/.keras/keras.json.\n",
      "  warnings.warn('You are using the TensorFlow backend, yet you '\n"
     ]
    },
    {
     "name": "stdout",
     "output_type": "stream",
     "text": [
      "Found 841 images belonging to 2 classes.\n",
      "done train\n",
      "Found 373 images belonging to 2 classes.\n",
      "done valid\n"
     ]
    }
   ],
   "source": [
    "save_bottleneck_features()"
   ]
  },
  {
   "cell_type": "code",
   "execution_count": 6,
   "metadata": {
    "collapsed": true
   },
   "outputs": [],
   "source": [
    "def train_top_model():\n",
    "    train_data = np.load('bottleneck_features_train_jk.npy')\n",
    "    train_labels = np.array([0] * (nb_train_samples // 2) + [1] * (nb_train_samples // 2+nb_train_samples%2))\n",
    "\n",
    "    validation_data = np.load('bottleneck_features_validation_jk.npy')\n",
    "    validation_labels = np.array([0] * (nb_validation_samples // 2) + \n",
    "                                 [1] * (nb_validation_samples // 2+nb_validation_samples%2))\n",
    "\n",
    "    model = Sequential()\n",
    "    model.add(Flatten(input_shape=train_data.shape[1:]))\n",
    "    model.add(Dense(256, activation='relu'))\n",
    "    model.add(Dropout(0.5))\n",
    "    model.add(Dense(1, activation='sigmoid'))\n",
    "\n",
    "    model.compile(optimizer='rmsprop',\n",
    "                  loss='binary_crossentropy', metrics=['accuracy'])\n",
    "    print(\"starting fitting\")\n",
    "    model.fit(train_data, train_labels,\n",
    "              epochs=epochs,\n",
    "              batch_size=batch_size,\n",
    "              validation_data=(validation_data, validation_labels))\n",
    "    model.save_weights(top_model_weights_path)\n",
    "    print(\"ended fitting and saving\")"
   ]
  },
  {
   "cell_type": "code",
   "execution_count": 40,
   "metadata": {
    "collapsed": false
   },
   "outputs": [
    {
     "name": "stdout",
     "output_type": "stream",
     "text": [
      "starting fitting\n",
      "Train on 841 samples, validate on 373 samples\n",
      "Epoch 1/50\n",
      "841/841 [==============================] - 1s 2ms/step - loss: 0.9621 - acc: 0.5268 - val_loss: 0.6719 - val_acc: 0.5871\n",
      "Epoch 2/50\n",
      "841/841 [==============================] - 0s 330us/step - loss: 0.7080 - acc: 0.5493 - val_loss: 0.8470 - val_acc: 0.5013\n",
      "Epoch 3/50\n",
      "841/841 [==============================] - 0s 323us/step - loss: 0.7057 - acc: 0.5541 - val_loss: 0.6763 - val_acc: 0.5871\n",
      "Epoch 4/50\n",
      "841/841 [==============================] - 0s 372us/step - loss: 0.6942 - acc: 0.5636 - val_loss: 0.6860 - val_acc: 0.5255\n",
      "Epoch 5/50\n",
      "841/841 [==============================] - 0s 360us/step - loss: 0.6745 - acc: 0.5945 - val_loss: 0.7270 - val_acc: 0.5282\n",
      "Epoch 6/50\n",
      "841/841 [==============================] - 0s 324us/step - loss: 0.6544 - acc: 0.5945 - val_loss: 0.6782 - val_acc: 0.5496\n",
      "Epoch 7/50\n",
      "841/841 [==============================] - 0s 327us/step - loss: 0.6556 - acc: 0.6159 - val_loss: 0.6968 - val_acc: 0.5496\n",
      "Epoch 8/50\n",
      "841/841 [==============================] - 0s 366us/step - loss: 0.6398 - acc: 0.6100 - val_loss: 0.7458 - val_acc: 0.5201\n",
      "Epoch 9/50\n",
      "841/841 [==============================] - 0s 379us/step - loss: 0.6276 - acc: 0.6302 - val_loss: 0.6936 - val_acc: 0.6086\n",
      "Epoch 10/50\n",
      "841/841 [==============================] - 0s 376us/step - loss: 0.6214 - acc: 0.6231 - val_loss: 0.6769 - val_acc: 0.6059\n",
      "Epoch 11/50\n",
      "841/841 [==============================] - 0s 345us/step - loss: 0.6055 - acc: 0.6623 - val_loss: 0.7271 - val_acc: 0.5308\n",
      "Epoch 12/50\n",
      "841/841 [==============================] - 0s 370us/step - loss: 0.5886 - acc: 0.6766 - val_loss: 0.6805 - val_acc: 0.6247\n",
      "Epoch 13/50\n",
      "841/841 [==============================] - 0s 382us/step - loss: 0.5807 - acc: 0.6587 - val_loss: 0.6882 - val_acc: 0.6193\n",
      "Epoch 14/50\n",
      "841/841 [==============================] - 0s 357us/step - loss: 0.5695 - acc: 0.7063 - val_loss: 0.6896 - val_acc: 0.6005\n",
      "Epoch 15/50\n",
      "841/841 [==============================] - 0s 304us/step - loss: 0.5565 - acc: 0.6908 - val_loss: 0.7024 - val_acc: 0.6166\n",
      "Epoch 16/50\n",
      "841/841 [==============================] - 0s 337us/step - loss: 0.5454 - acc: 0.6956 - val_loss: 0.7528 - val_acc: 0.5764\n",
      "Epoch 17/50\n",
      "841/841 [==============================] - 0s 339us/step - loss: 0.5269 - acc: 0.6968 - val_loss: 0.7103 - val_acc: 0.6113\n",
      "Epoch 18/50\n",
      "841/841 [==============================] - 0s 327us/step - loss: 0.5289 - acc: 0.7015 - val_loss: 0.8725 - val_acc: 0.5710\n",
      "Epoch 19/50\n",
      "841/841 [==============================] - 0s 338us/step - loss: 0.5090 - acc: 0.7051 - val_loss: 0.9220 - val_acc: 0.5710\n",
      "Epoch 20/50\n",
      "841/841 [==============================] - 0s 321us/step - loss: 0.4959 - acc: 0.7194 - val_loss: 0.8773 - val_acc: 0.5416\n",
      "Epoch 21/50\n",
      "841/841 [==============================] - 0s 342us/step - loss: 0.4809 - acc: 0.7455 - val_loss: 1.0186 - val_acc: 0.5282\n",
      "Epoch 22/50\n",
      "841/841 [==============================] - 0s 355us/step - loss: 0.4747 - acc: 0.7313 - val_loss: 0.8338 - val_acc: 0.5898\n",
      "Epoch 23/50\n",
      "841/841 [==============================] - 0s 343us/step - loss: 0.4645 - acc: 0.7491 - val_loss: 0.8533 - val_acc: 0.5737\n",
      "Epoch 24/50\n",
      "841/841 [==============================] - 0s 355us/step - loss: 0.4533 - acc: 0.7574 - val_loss: 0.7884 - val_acc: 0.5791\n",
      "Epoch 25/50\n",
      "841/841 [==============================] - 0s 317us/step - loss: 0.4449 - acc: 0.7717 - val_loss: 1.1747 - val_acc: 0.5201\n",
      "Epoch 26/50\n",
      "841/841 [==============================] - 0s 296us/step - loss: 0.4602 - acc: 0.7527 - val_loss: 0.8343 - val_acc: 0.5657\n",
      "Epoch 27/50\n",
      "841/841 [==============================] - 0s 355us/step - loss: 0.4322 - acc: 0.7669 - val_loss: 0.8160 - val_acc: 0.5898\n",
      "Epoch 28/50\n",
      "841/841 [==============================] - 0s 337us/step - loss: 0.4238 - acc: 0.7788 - val_loss: 0.8861 - val_acc: 0.5791\n",
      "Epoch 29/50\n",
      "841/841 [==============================] - 0s 337us/step - loss: 0.4253 - acc: 0.7788 - val_loss: 0.8683 - val_acc: 0.5818\n",
      "Epoch 30/50\n",
      "841/841 [==============================] - 0s 338us/step - loss: 0.3974 - acc: 0.7943 - val_loss: 0.9048 - val_acc: 0.5925\n",
      "Epoch 31/50\n",
      "841/841 [==============================] - 0s 327us/step - loss: 0.4059 - acc: 0.7693 - val_loss: 0.9655 - val_acc: 0.5737\n",
      "Epoch 32/50\n",
      "841/841 [==============================] - 0s 360us/step - loss: 0.3950 - acc: 0.7848 - val_loss: 1.0218 - val_acc: 0.5496\n",
      "Epoch 33/50\n",
      "841/841 [==============================] - 0s 359us/step - loss: 0.3830 - acc: 0.8109 - val_loss: 1.0353 - val_acc: 0.5630\n",
      "Epoch 34/50\n",
      "841/841 [==============================] - 0s 363us/step - loss: 0.3793 - acc: 0.8038 - val_loss: 1.1608 - val_acc: 0.5791\n",
      "Epoch 35/50\n",
      "841/841 [==============================] - 0s 345us/step - loss: 0.3889 - acc: 0.8062 - val_loss: 0.9607 - val_acc: 0.5871\n",
      "Epoch 36/50\n",
      "841/841 [==============================] - 0s 378us/step - loss: 0.3804 - acc: 0.7955 - val_loss: 0.9853 - val_acc: 0.5845\n",
      "Epoch 37/50\n",
      "841/841 [==============================] - 0s 370us/step - loss: 0.3717 - acc: 0.8098 - val_loss: 1.0121 - val_acc: 0.5952\n",
      "Epoch 38/50\n",
      "841/841 [==============================] - 0s 320us/step - loss: 0.3381 - acc: 0.8442 - val_loss: 1.1974 - val_acc: 0.5710\n",
      "Epoch 39/50\n",
      "841/841 [==============================] - 0s 341us/step - loss: 0.3672 - acc: 0.8205 - val_loss: 1.0676 - val_acc: 0.5764\n",
      "Epoch 40/50\n",
      "841/841 [==============================] - 0s 345us/step - loss: 0.3298 - acc: 0.8359 - val_loss: 1.0878 - val_acc: 0.5710\n",
      "Epoch 41/50\n",
      "841/841 [==============================] - 0s 349us/step - loss: 0.3361 - acc: 0.8276 - val_loss: 1.1982 - val_acc: 0.5764\n",
      "Epoch 42/50\n",
      "841/841 [==============================] - 0s 352us/step - loss: 0.3451 - acc: 0.8276 - val_loss: 1.1377 - val_acc: 0.5737\n",
      "Epoch 43/50\n",
      "841/841 [==============================] - 0s 348us/step - loss: 0.3420 - acc: 0.8312 - val_loss: 1.3812 - val_acc: 0.5603\n",
      "Epoch 44/50\n",
      "841/841 [==============================] - 0s 356us/step - loss: 0.3253 - acc: 0.8430 - val_loss: 1.2318 - val_acc: 0.5791\n",
      "Epoch 45/50\n",
      "841/841 [==============================] - 0s 333us/step - loss: 0.3273 - acc: 0.8347 - val_loss: 1.2147 - val_acc: 0.5952\n",
      "Epoch 46/50\n",
      "841/841 [==============================] - 0s 347us/step - loss: 0.3248 - acc: 0.8466 - val_loss: 1.2262 - val_acc: 0.5523\n",
      "Epoch 47/50\n",
      "841/841 [==============================] - 0s 338us/step - loss: 0.3071 - acc: 0.8537 - val_loss: 1.2626 - val_acc: 0.5979\n",
      "Epoch 48/50\n",
      "841/841 [==============================] - 0s 355us/step - loss: 0.3017 - acc: 0.8419 - val_loss: 1.6534 - val_acc: 0.5201\n",
      "Epoch 49/50\n",
      "841/841 [==============================] - 0s 334us/step - loss: 0.2908 - acc: 0.8585 - val_loss: 1.2312 - val_acc: 0.5791\n",
      "Epoch 50/50\n",
      "841/841 [==============================] - 0s 326us/step - loss: 0.2944 - acc: 0.8478 - val_loss: 1.4165 - val_acc: 0.5925\n",
      "ended fitting and saving\n"
     ]
    }
   ],
   "source": [
    "train_top_model()"
   ]
  },
  {
   "cell_type": "markdown",
   "metadata": {},
   "source": [
    "Here comes the fine tunning part:"
   ]
  },
  {
   "cell_type": "code",
   "execution_count": 7,
   "metadata": {
    "collapsed": false
   },
   "outputs": [
    {
     "name": "stderr",
     "output_type": "stream",
     "text": [
      "/nobackup/titans/jankoo/anaconda3/lib/python3.6/site-packages/keras/applications/vgg16.py:184: UserWarning: You are using the TensorFlow backend, yet you are using the Theano image data format convention (`image_data_format=\"channels_first\"`). For best performance, set `image_data_format=\"channels_last\"` in your Keras config at ~/.keras/keras.json.\n",
      "  warnings.warn('You are using the TensorFlow backend, yet you '\n"
     ]
    }
   ],
   "source": [
    "weights_path = '../keras/models/vgg16_weights_tf_dim_ordering_tf_kernels.h5'\n",
    "input_tensor = Input(shape=(3,img_width,img_height))\n",
    "base_model = applications.VGG16(weights='imagenet',include_top= False,input_tensor=input_tensor)\n",
    "top_model = Sequential()\n",
    "top_model.add(Flatten(input_shape=base_model.output_shape[1:]))\n",
    "top_model.add(Dense(256, activation='relu'))\n",
    "top_model.add(Dropout(0.5))\n",
    "top_model.add(Dense(1, activation='sigmoid'))\n",
    "top_model.load_weights(top_model_weights_path)\n",
    "model = Model(inputs= base_model.input, outputs= top_model(base_model.output))"
   ]
  },
  {
   "cell_type": "code",
   "execution_count": 8,
   "metadata": {
    "collapsed": true
   },
   "outputs": [],
   "source": [
    "# set the first 15 layers (up to the last conv block)\n",
    "# to non-trainable (weights will not be updated)\n",
    "for layer in model.layers[:10]:\n",
    "    layer.trainable = False"
   ]
  },
  {
   "cell_type": "code",
   "execution_count": 9,
   "metadata": {
    "collapsed": false
   },
   "outputs": [
    {
     "name": "stdout",
     "output_type": "stream",
     "text": [
      "_________________________________________________________________\n",
      "Layer (type)                 Output Shape              Param #   \n",
      "=================================================================\n",
      "input_1 (InputLayer)         (None, 3, 150, 150)       0         \n",
      "_________________________________________________________________\n",
      "block1_conv1 (Conv2D)        (None, 64, 150, 150)      1792      \n",
      "_________________________________________________________________\n",
      "block1_conv2 (Conv2D)        (None, 64, 150, 150)      36928     \n",
      "_________________________________________________________________\n",
      "block1_pool (MaxPooling2D)   (None, 64, 75, 75)        0         \n",
      "_________________________________________________________________\n",
      "block2_conv1 (Conv2D)        (None, 128, 75, 75)       73856     \n",
      "_________________________________________________________________\n",
      "block2_conv2 (Conv2D)        (None, 128, 75, 75)       147584    \n",
      "_________________________________________________________________\n",
      "block2_pool (MaxPooling2D)   (None, 128, 37, 37)       0         \n",
      "_________________________________________________________________\n",
      "block3_conv1 (Conv2D)        (None, 256, 37, 37)       295168    \n",
      "_________________________________________________________________\n",
      "block3_conv2 (Conv2D)        (None, 256, 37, 37)       590080    \n",
      "_________________________________________________________________\n",
      "block3_conv3 (Conv2D)        (None, 256, 37, 37)       590080    \n",
      "_________________________________________________________________\n",
      "block3_pool (MaxPooling2D)   (None, 256, 18, 18)       0         \n",
      "_________________________________________________________________\n",
      "block4_conv1 (Conv2D)        (None, 512, 18, 18)       1180160   \n",
      "_________________________________________________________________\n",
      "block4_conv2 (Conv2D)        (None, 512, 18, 18)       2359808   \n",
      "_________________________________________________________________\n",
      "block4_conv3 (Conv2D)        (None, 512, 18, 18)       2359808   \n",
      "_________________________________________________________________\n",
      "block4_pool (MaxPooling2D)   (None, 512, 9, 9)         0         \n",
      "_________________________________________________________________\n",
      "block5_conv1 (Conv2D)        (None, 512, 9, 9)         2359808   \n",
      "_________________________________________________________________\n",
      "block5_conv2 (Conv2D)        (None, 512, 9, 9)         2359808   \n",
      "_________________________________________________________________\n",
      "block5_conv3 (Conv2D)        (None, 512, 9, 9)         2359808   \n",
      "_________________________________________________________________\n",
      "block5_pool (MaxPooling2D)   (None, 512, 4, 4)         0         \n",
      "_________________________________________________________________\n",
      "sequential_1 (Sequential)    (None, 1)                 2097665   \n",
      "=================================================================\n",
      "Total params: 16,812,353\n",
      "Trainable params: 15,076,865\n",
      "Non-trainable params: 1,735,488\n",
      "_________________________________________________________________\n"
     ]
    }
   ],
   "source": [
    "model.summary()"
   ]
  },
  {
   "cell_type": "code",
   "execution_count": 10,
   "metadata": {
    "collapsed": true
   },
   "outputs": [],
   "source": [
    "# compile the model with a SGD/momentum optimizer\n",
    "# and a very slow learning rate.\n",
    "model.compile(loss='binary_crossentropy',\n",
    "              optimizer=optimizers.SGD(lr=1e-4, momentum=0.9),\n",
    "              metrics=['accuracy'])"
   ]
  },
  {
   "cell_type": "code",
   "execution_count": 11,
   "metadata": {
    "collapsed": true
   },
   "outputs": [],
   "source": [
    "# prepare data augmentation configuration\n",
    "train_datagen = ImageDataGenerator(\n",
    "        rescale=1. / 255,\n",
    "        rotation_range=360,\n",
    "        width_shift_range=0.2,\n",
    "        height_shift_range=0.2,\n",
    "        shear_range=0.2,\n",
    "        zoom_range=0.2,\n",
    "        horizontal_flip=True,\n",
    "        vertical_flip=True,\n",
    "        fill_mode='nearest')\n",
    "\n",
    "test_datagen = ImageDataGenerator(rescale=1. / 255)"
   ]
  },
  {
   "cell_type": "code",
   "execution_count": 12,
   "metadata": {
    "collapsed": false
   },
   "outputs": [
    {
     "name": "stdout",
     "output_type": "stream",
     "text": [
      "Found 841 images belonging to 2 classes.\n",
      "Found 373 images belonging to 2 classes.\n"
     ]
    }
   ],
   "source": [
    "#make the generators\n",
    "train_generator = train_datagen.flow_from_directory(\n",
    "    train_data_dir,\n",
    "    target_size=(img_height, img_width),\n",
    "    batch_size=batch_size,\n",
    "    class_mode='binary')\n",
    "\n",
    "validation_generator = test_datagen.flow_from_directory(\n",
    "    validation_data_dir,\n",
    "    target_size=(img_height, img_width),\n",
    "    batch_size=batch_size,\n",
    "    class_mode='binary')"
   ]
  },
  {
   "cell_type": "code",
   "execution_count": 13,
   "metadata": {
    "collapsed": false
   },
   "outputs": [
    {
     "name": "stderr",
     "output_type": "stream",
     "text": [
      "/nobackup/titans/jankoo/anaconda3/lib/python3.6/site-packages/ipykernel_launcher.py:7: UserWarning: The semantics of the Keras 2 argument `steps_per_epoch` is not the same as the Keras 1 argument `samples_per_epoch`. `steps_per_epoch` is the number of batches to draw from the generator at each epoch. Basically steps_per_epoch = samples_per_epoch/batch_size. Similarly `nb_val_samples`->`validation_steps` and `val_samples`->`steps` arguments have changed. Update your method calls accordingly.\n",
      "  import sys\n",
      "/nobackup/titans/jankoo/anaconda3/lib/python3.6/site-packages/ipykernel_launcher.py:7: UserWarning: Update your `fit_generator` call to the Keras 2 API: `fit_generator(<keras.pre..., epochs=50, validation_data=<keras.pre..., steps_per_epoch=52, validation_steps=373)`\n",
      "  import sys\n"
     ]
    },
    {
     "name": "stdout",
     "output_type": "stream",
     "text": [
      "Epoch 1/50\n",
      "53/52 [==============================] - 19s 359ms/step - loss: 0.5214 - acc: 0.8003 - val_loss: 0.9348 - val_acc: 0.6247\n",
      "Epoch 2/50\n",
      "53/52 [==============================] - 13s 240ms/step - loss: 0.4952 - acc: 0.8161 - val_loss: 0.6102 - val_acc: 0.6273\n",
      "Epoch 3/50\n",
      "53/52 [==============================] - 12s 232ms/step - loss: 0.4545 - acc: 0.8279 - val_loss: 0.6202 - val_acc: 0.6300\n",
      "Epoch 4/50\n",
      "53/52 [==============================] - 12s 235ms/step - loss: 0.4569 - acc: 0.8278 - val_loss: 0.6202 - val_acc: 0.6300\n",
      "Epoch 5/50\n",
      "53/52 [==============================] - 13s 237ms/step - loss: 0.4406 - acc: 0.8332 - val_loss: 0.7058 - val_acc: 0.6300\n",
      "Epoch 6/50\n",
      "53/52 [==============================] - 12s 232ms/step - loss: 0.4409 - acc: 0.8284 - val_loss: 0.6684 - val_acc: 0.6300\n",
      "Epoch 7/50\n",
      "53/52 [==============================] - 12s 233ms/step - loss: 0.4335 - acc: 0.8346 - val_loss: 0.6996 - val_acc: 0.6300\n",
      "Epoch 8/50\n",
      "53/52 [==============================] - 12s 230ms/step - loss: 0.4331 - acc: 0.8344 - val_loss: 0.8331 - val_acc: 0.6273\n",
      "Epoch 9/50\n",
      "53/52 [==============================] - 13s 239ms/step - loss: 0.4392 - acc: 0.8254 - val_loss: 0.6333 - val_acc: 0.6461\n",
      "Epoch 10/50\n",
      "53/52 [==============================] - 13s 244ms/step - loss: 0.4117 - acc: 0.8385 - val_loss: 0.6049 - val_acc: 0.6997\n",
      "Epoch 11/50\n",
      "53/52 [==============================] - 12s 233ms/step - loss: 0.4299 - acc: 0.8392 - val_loss: 0.6180 - val_acc: 0.6327\n",
      "Epoch 12/50\n",
      "53/52 [==============================] - 13s 238ms/step - loss: 0.4267 - acc: 0.8318 - val_loss: 0.6615 - val_acc: 0.6381\n",
      "Epoch 13/50\n",
      "53/52 [==============================] - 12s 235ms/step - loss: 0.4233 - acc: 0.8422 - val_loss: 0.7021 - val_acc: 0.6300\n",
      "Epoch 14/50\n",
      "53/52 [==============================] - 12s 234ms/step - loss: 0.4399 - acc: 0.8358 - val_loss: 0.7562 - val_acc: 0.6327\n",
      "Epoch 15/50\n",
      "53/52 [==============================] - 13s 239ms/step - loss: 0.4145 - acc: 0.8374 - val_loss: 0.7861 - val_acc: 0.6354\n",
      "Epoch 16/50\n",
      "53/52 [==============================] - 12s 235ms/step - loss: 0.4203 - acc: 0.8296 - val_loss: 0.5779 - val_acc: 0.7105\n",
      "Epoch 17/50\n",
      "53/52 [==============================] - 13s 236ms/step - loss: 0.4168 - acc: 0.8320 - val_loss: 0.5803 - val_acc: 0.7158\n",
      "Epoch 18/50\n",
      "53/52 [==============================] - 12s 233ms/step - loss: 0.4241 - acc: 0.8355 - val_loss: 0.6861 - val_acc: 0.6381\n",
      "Epoch 19/50\n",
      "53/52 [==============================] - 13s 240ms/step - loss: 0.4185 - acc: 0.8379 - val_loss: 0.6983 - val_acc: 0.6461\n",
      "Epoch 20/50\n",
      "53/52 [==============================] - 13s 243ms/step - loss: 0.4045 - acc: 0.8469 - val_loss: 0.5906 - val_acc: 0.7024\n",
      "Epoch 21/50\n",
      "53/52 [==============================] - 12s 233ms/step - loss: 0.4199 - acc: 0.8367 - val_loss: 0.6861 - val_acc: 0.6702\n",
      "Epoch 22/50\n",
      "53/52 [==============================] - 13s 244ms/step - loss: 0.4257 - acc: 0.8370 - val_loss: 0.7185 - val_acc: 0.6354\n",
      "Epoch 23/50\n",
      "53/52 [==============================] - 13s 239ms/step - loss: 0.4137 - acc: 0.8362 - val_loss: 0.7003 - val_acc: 0.6488\n",
      "Epoch 24/50\n",
      "53/52 [==============================] - 13s 239ms/step - loss: 0.3967 - acc: 0.8408 - val_loss: 0.7369 - val_acc: 0.6542\n",
      "Epoch 25/50\n",
      "53/52 [==============================] - 12s 235ms/step - loss: 0.4144 - acc: 0.8391 - val_loss: 0.6644 - val_acc: 0.6649\n",
      "Epoch 26/50\n",
      "53/52 [==============================] - 12s 233ms/step - loss: 0.3956 - acc: 0.8445 - val_loss: 0.8780 - val_acc: 0.6327\n",
      "Epoch 27/50\n",
      "53/52 [==============================] - 12s 234ms/step - loss: 0.4099 - acc: 0.8458 - val_loss: 0.6691 - val_acc: 0.6756\n",
      "Epoch 28/50\n",
      "53/52 [==============================] - 13s 237ms/step - loss: 0.4192 - acc: 0.8426 - val_loss: 0.6502 - val_acc: 0.6649\n",
      "Epoch 29/50\n",
      "53/52 [==============================] - 13s 237ms/step - loss: 0.3990 - acc: 0.8399 - val_loss: 0.6389 - val_acc: 0.6917\n",
      "Epoch 30/50\n",
      "53/52 [==============================] - 14s 266ms/step - loss: 0.4040 - acc: 0.8385 - val_loss: 0.7968 - val_acc: 0.6461\n",
      "Epoch 31/50\n",
      "53/52 [==============================] - 12s 232ms/step - loss: 0.4046 - acc: 0.8431 - val_loss: 0.6000 - val_acc: 0.7239\n",
      "Epoch 32/50\n",
      "53/52 [==============================] - 13s 244ms/step - loss: 0.3890 - acc: 0.8462 - val_loss: 0.5807 - val_acc: 0.7105\n",
      "Epoch 33/50\n",
      "53/52 [==============================] - 12s 233ms/step - loss: 0.3982 - acc: 0.8332 - val_loss: 0.6138 - val_acc: 0.7131\n",
      "Epoch 34/50\n",
      "53/52 [==============================] - 13s 237ms/step - loss: 0.3968 - acc: 0.8503 - val_loss: 0.6373 - val_acc: 0.6836o\n",
      "Epoch 35/50\n",
      "53/52 [==============================] - 13s 238ms/step - loss: 0.3956 - acc: 0.8404 - val_loss: 0.6006 - val_acc: 0.7292\n",
      "Epoch 36/50\n",
      "53/52 [==============================] - 12s 235ms/step - loss: 0.3981 - acc: 0.8488 - val_loss: 0.5729 - val_acc: 0.7373\n",
      "Epoch 37/50\n",
      "53/52 [==============================] - 13s 240ms/step - loss: 0.3925 - acc: 0.8457 - val_loss: 0.6506 - val_acc: 0.6595\n",
      "Epoch 38/50\n",
      "53/52 [==============================] - 13s 240ms/step - loss: 0.3963 - acc: 0.8329 - val_loss: 0.7651 - val_acc: 0.6649\n",
      "Epoch 39/50\n",
      "53/52 [==============================] - 13s 240ms/step - loss: 0.3940 - acc: 0.8453 - val_loss: 0.8042 - val_acc: 0.6354\n",
      "Epoch 40/50\n",
      "53/52 [==============================] - 13s 236ms/step - loss: 0.4010 - acc: 0.8397 - val_loss: 0.6330 - val_acc: 0.7078\n",
      "Epoch 41/50\n",
      "53/52 [==============================] - 13s 236ms/step - loss: 0.3821 - acc: 0.8459 - val_loss: 0.6908 - val_acc: 0.6917\n",
      "Epoch 42/50\n",
      "53/52 [==============================] - 12s 232ms/step - loss: 0.4047 - acc: 0.8465 - val_loss: 0.5809 - val_acc: 0.7319\n",
      "Epoch 43/50\n",
      "53/52 [==============================] - 12s 235ms/step - loss: 0.3998 - acc: 0.8427 - val_loss: 0.6710 - val_acc: 0.6997\n",
      "Epoch 44/50\n",
      "53/52 [==============================] - 12s 235ms/step - loss: 0.3907 - acc: 0.8380 - val_loss: 0.7953 - val_acc: 0.6461\n",
      "Epoch 45/50\n",
      "53/52 [==============================] - 12s 233ms/step - loss: 0.3750 - acc: 0.8445 - val_loss: 0.7469 - val_acc: 0.6810\n",
      "Epoch 46/50\n",
      "53/52 [==============================] - 12s 234ms/step - loss: 0.3816 - acc: 0.8496 - val_loss: 0.8571 - val_acc: 0.6354\n",
      "Epoch 47/50\n",
      "53/52 [==============================] - 12s 235ms/step - loss: 0.3820 - acc: 0.8551 - val_loss: 0.5931 - val_acc: 0.7292\n",
      "Epoch 48/50\n",
      "53/52 [==============================] - 12s 234ms/step - loss: 0.3762 - acc: 0.8499 - val_loss: 0.6449 - val_acc: 0.7185\n",
      "Epoch 49/50\n",
      "53/52 [==============================] - 13s 238ms/step - loss: 0.3782 - acc: 0.8475 - val_loss: 0.8323 - val_acc: 0.6408\n",
      "Epoch 50/50\n",
      "53/52 [==============================] - 14s 268ms/step - loss: 0.3866 - acc: 0.8460 - val_loss: 0.6617 - val_acc: 0.7131\n"
     ]
    }
   ],
   "source": [
    "# fine-tune the model\n",
    "model_history=model.fit_generator(\n",
    "    train_generator,\n",
    "    samples_per_epoch=nb_train_samples,\n",
    "    epochs=epochs,\n",
    "    validation_data=validation_generator,\n",
    "    nb_val_samples=nb_validation_samples)"
   ]
  },
  {
   "cell_type": "code",
   "execution_count": 14,
   "metadata": {
    "collapsed": true
   },
   "outputs": [],
   "source": [
    "model.save_weights('last_and_finetuned_jk_10fixed.h5')"
   ]
  },
  {
   "cell_type": "markdown",
   "metadata": {},
   "source": [
    "Here we plot the history"
   ]
  },
  {
   "cell_type": "code",
   "execution_count": 26,
   "metadata": {
    "collapsed": false
   },
   "outputs": [
    {
     "data": {
      "text/plain": [
       "dict_keys(['val_loss', 'val_acc', 'loss', 'acc'])"
      ]
     },
     "execution_count": 26,
     "metadata": {},
     "output_type": "execute_result"
    }
   ],
   "source": [
    "model_history.history.keys()\n"
   ]
  },
  {
   "cell_type": "code",
   "execution_count": 29,
   "metadata": {
    "collapsed": true
   },
   "outputs": [],
   "source": [
    "#plot how it evaluates\n",
    "import matplotlib.pyplot as plt\n",
    "def plotnicely(history):\n",
    "\n",
    "    accuracies=model_history.history['acc']\n",
    "    val_accuracies=model_history.history['val_acc']\n",
    "    plt.plot(accuracies, label='acc')\n",
    "    plt.plot(val_accuracies, label='val_acc')\n",
    "    plt.legend()\n",
    "    plt.show()\n",
    "    plt.figure()\n",
    "    loss=model_history.history['loss']\n",
    "    val_loss=model_history.history['val_loss']\n",
    "    plt.plot(loss,label='loss')\n",
    "    plt.plot(val_loss,label='val_loss')\n",
    "    plt.legend()\n",
    "    plt.show()"
   ]
  },
  {
   "cell_type": "code",
   "execution_count": 30,
   "metadata": {
    "collapsed": false
   },
   "outputs": [
    {
     "data": {
      "image/png": "[encoded data removed]",
      "text/plain": [
       "<matplotlib.figure.Figure at 0x7fadb0fe4f28>"
      ]
     },
     "metadata": {},
     "output_type": "display_data"
    },
    {
     "data": {
      "image/png": "[encoded data removed]",
      "text/plain": [
       "<matplotlib.figure.Figure at 0x7fadb10f95c0>"
      ]
     },
     "metadata": {},
     "output_type": "display_data"
    }
   ],
   "source": [
    "plotnicely(model_history)"
   ]
  },
  {
   "cell_type": "markdown",
   "metadata": {},
   "source": [
    "Let's predict some images."
   ]
  },
  {
   "cell_type": "code",
   "execution_count": 36,
   "metadata": {
    "collapsed": true
   },
   "outputs": [],
   "source": [
    "files_benign=os.listdir(test_dir+'Benign/')\n",
    "files_malignant=os.listdir(test_dir+'Malignant')\n"
   ]
  },
  {
   "cell_type": "code",
   "execution_count": 47,
   "metadata": {
    "collapsed": true
   },
   "outputs": [],
   "source": [
    "def predict_image_class(file):\n",
    "    #load the VGG16 model\n",
    "    #model = applications.VGG16(include_top=False, weights='imagenet')\n",
    "    #load the picture\n",
    "    x = load_img(file, target_size=(img_width,img_height))\n",
    "    x = img_to_array(x)\n",
    "    x = np.expand_dims(x, axis=0)\n",
    "    print(x.shape)\n",
    "    # process the picture through the first network this will be used as input\n",
    "    #for the top model\n",
    "    #array = model.predict(x)\n",
    "    #build the top model\n",
    "    #model = Sequential()\n",
    "    #model.add(Flatten(input_shape=array.shape[1:]))\n",
    "    #model.add(Dense(256, activation='relu'))\n",
    "    #model.add(Dropout(0.5))\n",
    "    #model.add(Dense(1, activation='sigmoid'))\n",
    "    # and use the weigths trained before\n",
    "    #model.load_weights(top_model_weights_path)\n",
    "    class_predicted = model.predict(x)\n",
    "    if class_predicted==1:\n",
    "        print(\"dog\")\n",
    "    else:\n",
    "        print(\"cat\")"
   ]
  },
  {
   "cell_type": "code",
   "execution_count": 48,
   "metadata": {
    "collapsed": false
   },
   "outputs": [
    {
     "name": "stdout",
     "output_type": "stream",
     "text": [
      "(1, 3, 150, 150)\n",
      "cat\n"
     ]
    }
   ],
   "source": [
    "predict_image_class(test_dir+'Benign/'+files_benign[0])"
   ]
  },
  {
   "cell_type": "code",
   "execution_count": null,
   "metadata": {
    "collapsed": true
   },
   "outputs": [],
   "source": []
  }
 ],
 "metadata": {
  "anaconda-cloud": {},
  "kernelspec": {
   "display_name": "Python [default]",
   "language": "python",
   "name": "python3"
  },
  "language_info": {
   "codemirror_mode": {
    "name": "ipython",
    "version": 3
   },
   "file_extension": ".py",
   "mimetype": "text/x-python",
   "name": "python",
   "nbconvert_exporter": "python",
   "pygments_lexer": "ipython3",
   "version": "3.5.2"
  }
 },
 "nbformat": 4,
 "nbformat_minor": 2
}
