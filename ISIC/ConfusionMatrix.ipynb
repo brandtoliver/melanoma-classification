{
 "cells": [
  {
   "cell_type": "code",
   "execution_count": null,
   "metadata": {
    "collapsed": false
   },
   "outputs": [
    {
     "name": "stderr",
     "output_type": "stream",
     "text": [
      "Using TensorFlow backend.\n"
     ]
    }
   ],
   "source": [
    "import numpy as np\n",
    "import matplotlib.pyplot as plt\n",
    "\n",
    "from keras import applications\n",
    "from keras.preprocessing.image import ImageDataGenerator, img_to_array, load_img,array_to_img\n",
    "from keras import optimizers\n",
    "from keras.models import Sequential, Model\n",
    "from keras.layers import Dropout, Flatten, Dense, Input\n",
    "from keras import backend as K\n",
    "K.set_image_dim_ordering('th')\n",
    "\n",
    "import progressbar\n",
    "\n",
    "import os\n",
    "\n",
    "from IPython.display import Image, display, clear_output"
   ]
  },
  {
   "cell_type": "code",
   "execution_count": null,
   "metadata": {
    "collapsed": true
   },
   "outputs": [],
   "source": [
    "os.chdir(\"/home/dwx/Documents/Studium/DTU/11/DL Deep Learning/project/ISIC_MSK-2_1_sorted\")"
   ]
  },
  {
   "cell_type": "code",
   "execution_count": null,
   "metadata": {
    "collapsed": false,
    "scrolled": false
   },
   "outputs": [],
   "source": [
    "def get_model(top_model_weights_path, img_width, img_height):\n",
    "    input_tensor = Input(shape=(3,img_width,img_height))\n",
    "    base_model = applications.VGG16(weights='imagenet',include_top= False,input_tensor=input_tensor)\n",
    "    top_model = Sequential()\n",
    "    top_model.add(Flatten(input_shape=base_model.output_shape[1:]))\n",
    "    top_model.add(Dense(256, activation='relu'))\n",
    "    top_model.add(Dropout(0.5))\n",
    "    top_model.add(Dense(1, activation='sigmoid'))\n",
    "    #top_model.load_weights(top_model_weights_path)\n",
    "    model = Model(inputs= base_model.input, outputs= top_model(base_model.output))\n",
    "    model.load_weights(top_model_weights_path)\n",
    "    return model\n"
   ]
  },
  {
   "cell_type": "code",
   "execution_count": null,
   "metadata": {
    "collapsed": true
   },
   "outputs": [],
   "source": [
    "def predict_image_class(model, file, img_width,img_height):\n",
    "    #model = applications.VGG16(include_top=False, weights='imagenet')\n",
    "    x = load_img(file, target_size=(img_width,img_height))\n",
    "    x = img_to_array(x)\n",
    "    x = np.expand_dims(x, axis=0)\n",
    "    array = model.predict(x)\n",
    "    class_predicted = model.predict(array)\n",
    "    if class_predicted==1:\n",
    "        print(\"malignant\")\n",
    "    else:\n",
    "        print(\"benign\")"
   ]
  },
  {
   "cell_type": "code",
   "execution_count": null,
   "metadata": {
    "collapsed": false
   },
   "outputs": [],
   "source": [
    "train_data_dir = 'train'\n",
    "validation_data_dir = 'validation'\n",
    "test_dir = 'test'\n",
    "\n",
    "mal_dir = \"Malignant\"\n",
    "ben_dir = \"Benign\"\n",
    "\n",
    "# path to the model weights files.\n",
    "top_model_weights_path = '../bottleneck_fc_model.h5'\n",
    "# dimensions of our images.\n",
    "img_width, img_height = 150, 150\n",
    "\n",
    "model = get_model(top_model_weights_path, img_width, img_height)\n",
    "\n",
    "for trainValTest in [test_dir]:\n",
    "    for malBen in [mal_dir,ben_dir]:\n",
    "        cur_path = trainValTest + \"/\" + malBen + \"/\"\n",
    "        for file in progressbar.log_progress(os.listdir(cur_path)[:10]):\n",
    "            \n",
    "            if file.endswith(\".jpg\"):\n",
    "                #predict_image_class(model, path_cur_directory+file, img_width,img_height)\n",
    "\n",
    "                path_file = cur_path + file\n",
    "                x = load_img(path_file, target_size=(img_width,img_height))\n",
    "                x = img_to_array(x)\n",
    "                x = np.expand_dims(x, axis=0)\n",
    "                array = model.predict(x)\n",
    "                #class_predicted = model.predict(array)\n",
    "                if array==1:\n",
    "                    print(\"malignant\")\n",
    "                else:\n",
    "                    print(\"benign\")"
   ]
  },
  {
   "cell_type": "code",
   "execution_count": null,
   "metadata": {
    "collapsed": true
   },
   "outputs": [],
   "source": []
  }
 ],
 "metadata": {
  "anaconda-cloud": {},
  "kernelspec": {
   "display_name": "Python [default]",
   "language": "python",
   "name": "python3"
  },
  "language_info": {
   "codemirror_mode": {
    "name": "ipython",
    "version": 3
   },
   "file_extension": ".py",
   "mimetype": "text/x-python",
   "name": "python",
   "nbconvert_exporter": "python",
   "pygments_lexer": "ipython3",
   "version": "3.5.2"
  },
  "widgets": {
   "state": {
    "b703345f4b1c4b17bd54ce74f38ac668": {
     "views": [
      {
       "cell_index": 4
      }
     ]
    }
   },
   "version": "1.2.0"
  }
 },
 "nbformat": 4,
 "nbformat_minor": 2
}
