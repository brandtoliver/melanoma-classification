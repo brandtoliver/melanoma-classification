{
 "cells": [
  {
   "cell_type": "code",
   "execution_count": 14,
   "metadata": {
    "collapsed": true
   },
   "outputs": [],
   "source": [
    "import pandas as pd\n",
    "import numpy as np\n",
    "import shutil\n",
    "import os     "
   ]
  },
  {
   "cell_type": "code",
   "execution_count": 15,
   "metadata": {
    "collapsed": false
   },
   "outputs": [],
   "source": [
    "dir_images = \"/home/dwx/Documents/Studium/DTU/11/DL Deep Learning/project/ISIC_MSK-2_1_images/\"\n",
    "dir_images_split = \"/home/dwx/Documents/Studium/DTU/11/DL Deep Learning/project/ISIC_MSK-2_1_1100/\"\n",
    "dir_metadata = \"/home/dwx/Documents/Studium/DTU/11/DL Deep Learning/project/git/ISIC/csv_metadata/\"\n",
    "\n",
    "train_data_dir = \"train\"\n",
    "validation_data_dir = \"validation\"\n",
    "test_dir = \"test\""
   ]
  },
  {
   "cell_type": "code",
   "execution_count": 23,
   "metadata": {
    "collapsed": false
   },
   "outputs": [],
   "source": [
    "def get_image_class(metadata_file):\n",
    "    #inputs: The file name where the analysis data is \n",
    "    #ouputs: an np.array with in col 0 the name of the file and in col 1 the label\n",
    "    data = pandas.read_csv(metadata_file)\n",
    "    \n",
    "    df = pd.DataFrame(data, columns=[\"name\", \"benign_malignant\"])\n",
    "    return df\n",
    "\n",
    "metadata_file = dir_metadata + \"ISIC_MSK-2_1.csv\"\n",
    "df = get_image_class( metadata_file )\n",
    "\n",
    "name_set_meta = set(df[\"name\"])"
   ]
  },
  {
   "cell_type": "code",
   "execution_count": 32,
   "metadata": {
    "collapsed": false
   },
   "outputs": [],
   "source": [
    "name_set_image = []\n",
    "for file in os.listdir(dir_images)[:]: # progressbar.log_progress(os.listdir(cur_path)[:]):\n",
    "    if file.endswith(\".jpg\"):\n",
    "        name_set_image += [file[:-4]]\n",
    "        \n",
    "name_set_image = set(name_set_image)"
   ]
  },
  {
   "cell_type": "code",
   "execution_count": null,
   "metadata": {
    "collapsed": true
   },
   "outputs": [],
   "source": [
    "\n",
    "def split_data(path_test,path_validation):\n",
    "    # approx 0.6 to training, 0.2 to validation, 0.2 to test\n",
    "    filesmalignant= os.listdir(PATH_malignant)\n",
    "    filesbenign = os.listdir(PATH_benign)\n",
    "    for file in filesmalignant[:70]:\n",
    "        shutil.move(path_train+'Malignant/'+file, PATH_validation+'Malignant')\n",
    "    for file in filesmalignant[70:70+70]:\n",
    "        shutil.move(path_train+'Malignant/'+file, PATH_test+'Malignant') \n",
    "    for file in filesbenign[:233]:\n",
    "        shutil.move(path_train+'Benign/'+file, PATH_validation+'Benign')\n",
    "    for file in filesbenign[233:233+234]:\n",
    "        shutil.move(path_train+'Benign/'+file, PATH_test+'Benign')  \n",
    "\n",
    "\n",
    "\n",
    "data_array=filename_label('ISIC_MSK-2_1.csv')\n",
    "#data_array=data_array[10:15,:]\n",
    "\n",
    "def sort_folder(data_array):\n",
    "    notsorted=[]\n",
    "    for row in range(data_array.shape[0]):\n",
    "        data=data_array[row,:]\n",
    "        if data[1]=='benign':\n",
    "            shutil.copy2(PATH_pictures+data[0],PATH_benign)\n",
    "        if data[1]=='malignant':\n",
    "            shutil.copy2(PATH_pictures+data[0],PATH_malignant)\n",
    "        else:\n",
    "            print(\"different_label\",row,data)\n",
    "            notsorted.append(data)\n",
    "            \n",
    "#sort_folder(data_array)  "
   ]
  }
 ],
 "metadata": {
  "kernelspec": {
   "display_name": "Python [default]",
   "language": "python",
   "name": "python3"
  },
  "language_info": {
   "codemirror_mode": {
    "name": "ipython",
    "version": 3
   },
   "file_extension": ".py",
   "mimetype": "text/x-python",
   "name": "python",
   "nbconvert_exporter": "python",
   "pygments_lexer": "ipython3",
   "version": "3.5.2"
  }
 },
 "nbformat": 4,
 "nbformat_minor": 1
}
