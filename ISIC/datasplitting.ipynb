{
 "cells": [
  {
   "cell_type": "code",
   "execution_count": 77,
   "metadata": {
    "collapsed": true
   },
   "outputs": [],
   "source": [
    "import pandas as pd\n",
    "import numpy as np\n",
    "import shutil\n",
    "import os     "
   ]
  },
  {
   "cell_type": "code",
   "execution_count": 78,
   "metadata": {
    "collapsed": false
   },
   "outputs": [],
   "source": [
    "dir_images = \"/home/dwx/Documents/Studium/DTU/11/DL Deep Learning/project/ISIC_MSK-2_1_images/\"\n",
    "dir_images_split = \"/home/dwx/Documents/Studium/DTU/11/DL Deep Learning/project/ISIC_MSK-2_1_1100/\"\n",
    "dir_metadata = \"/home/dwx/Documents/Studium/DTU/11/DL Deep Learning/project/git/ISIC/csv_metadata/\""
   ]
  },
  {
   "cell_type": "code",
   "execution_count": 79,
   "metadata": {
    "collapsed": false
   },
   "outputs": [],
   "source": [
    "def get_image_class(metadata_file):\n",
    "    #inputs: The file name where the analysis data is \n",
    "    #ouputs: an np.array with in col 0 the name of the file and in col 1 the label\n",
    "    data = pandas.read_csv(metadata_file)\n",
    "    \n",
    "    df = pd.DataFrame(data, columns=[\"name\", \"benign_malignant\"])\n",
    "    return df\n",
    "\n",
    "metadata_file = dir_metadata + \"ISIC_MSK-2_1.csv\"\n",
    "df = get_image_class( metadata_file )\n",
    "\n",
    "name_set_meta = set(df[\"name\"])"
   ]
  },
  {
   "cell_type": "code",
   "execution_count": 80,
   "metadata": {
    "collapsed": false
   },
   "outputs": [],
   "source": [
    "name_set_image = []\n",
    "for file in os.listdir(dir_images)[:]: # progressbar.log_progress(os.listdir(cur_path)[:]):\n",
    "    if file.endswith(\".jpg\"):\n",
    "        name_set_image += [file[:-4]]\n",
    "        \n",
    "name_set_image = set(name_set_image)"
   ]
  },
  {
   "cell_type": "code",
   "execution_count": 81,
   "metadata": {
    "collapsed": false
   },
   "outputs": [
    {
     "name": "stdout",
     "output_type": "stream",
     "text": [
      "train, validate, test [1100, 300, 118]\n"
     ]
    }
   ],
   "source": [
    "image_count = len(name_set_image)\n",
    "amount = [1100, 300, image_count-1400]\n",
    "print(\"train, validate, test\", amount)"
   ]
  },
  {
   "cell_type": "code",
   "execution_count": 82,
   "metadata": {
    "collapsed": false
   },
   "outputs": [],
   "source": [
    "choice_array = np.random.choice(image_count, size=image_count, replace=False)"
   ]
  },
  {
   "cell_type": "markdown",
   "metadata": {},
   "source": [
    "### Ratio benign/total"
   ]
  },
  {
   "cell_type": "code",
   "execution_count": 83,
   "metadata": {
    "collapsed": false
   },
   "outputs": [
    {
     "name": "stdout",
     "output_type": "stream",
     "text": [
      "0.76\n",
      "0.7633333333333333\n",
      "0.7711864406779662\n"
     ]
    }
   ],
   "source": [
    "choice_train = choice_array[:amount[0]]\n",
    "choice_val = choice_array[amount[0]:amount[0]+amount[1]]\n",
    "choice_test = choice_array[amount[0]+amount[1]:]\n",
    "\n",
    "for a in [choice_train,choice_val,choice_test]:\n",
    "    cur_count_benign = 0\n",
    "    cur_amount = len(a)\n",
    "    for cur_id in a:\n",
    "        if df.loc[cur_id][\"benign_malignant\"] == \"benign\":\n",
    "            cur_count_benign += 1\n",
    "    print(cur_count_benign/cur_amount)"
   ]
  },
  {
   "cell_type": "code",
   "execution_count": 86,
   "metadata": {
    "collapsed": false
   },
   "outputs": [
    {
     "name": "stdout",
     "output_type": "stream",
     "text": [
      "/home/dwx/Documents/Studium/DTU/11/DL Deep Learning/project/ISIC_MSK-2_1_1100/test\n",
      "/home/dwx/Documents/Studium/DTU/11/DL Deep Learning/project/ISIC_MSK-2_1_images/ISIC_0010120.jpg x /home/dwx/Documents/Studium/DTU/11/DL Deep Learning/project/ISIC_MSK-2_1_1100/train/Benign/ISIC_0010120.jpg\n"
     ]
    },
    {
     "ename": "FileNotFoundError",
     "evalue": "[Errno 2] No such file or directory: '/home/dwx/Documents/Studium/DTU/11/DL Deep Learning/project/ISIC_MSK-2_1_images/ISIC_0010120.jpg'",
     "output_type": "error",
     "traceback": [
      "\u001b[0;31m---------------------------------------------------------------------------\u001b[0m",
      "\u001b[0;31mFileNotFoundError\u001b[0m                         Traceback (most recent call last)",
      "\u001b[0;32m/home/dwx/anaconda3/lib/python3.5/shutil.py\u001b[0m in \u001b[0;36mmove\u001b[0;34m(src, dst, copy_function)\u001b[0m\n\u001b[1;32m    537\u001b[0m     \u001b[0;32mtry\u001b[0m\u001b[0;34m:\u001b[0m\u001b[0;34m\u001b[0m\u001b[0m\n\u001b[0;32m--> 538\u001b[0;31m         \u001b[0mos\u001b[0m\u001b[0;34m.\u001b[0m\u001b[0mrename\u001b[0m\u001b[0;34m(\u001b[0m\u001b[0msrc\u001b[0m\u001b[0;34m,\u001b[0m \u001b[0mreal_dst\u001b[0m\u001b[0;34m)\u001b[0m\u001b[0;34m\u001b[0m\u001b[0m\n\u001b[0m\u001b[1;32m    539\u001b[0m     \u001b[0;32mexcept\u001b[0m \u001b[0mOSError\u001b[0m\u001b[0;34m:\u001b[0m\u001b[0;34m\u001b[0m\u001b[0m\n",
      "\u001b[0;31mFileNotFoundError\u001b[0m: [Errno 2] No such file or directory: '/home/dwx/Documents/Studium/DTU/11/DL Deep Learning/project/ISIC_MSK-2_1_images/ISIC_0010120.jpg' -> '/home/dwx/Documents/Studium/DTU/11/DL Deep Learning/project/ISIC_MSK-2_1_1100/train/Benign/ISIC_0010120.jpg'",
      "\nDuring handling of the above exception, another exception occurred:\n",
      "\u001b[0;31mFileNotFoundError\u001b[0m                         Traceback (most recent call last)",
      "\u001b[0;32m<ipython-input-86-58c75c11b7e6>\u001b[0m in \u001b[0;36m<module>\u001b[0;34m()\u001b[0m\n\u001b[1;32m     16\u001b[0m         \u001b[0;32melse\u001b[0m\u001b[0;34m:\u001b[0m\u001b[0;34m\u001b[0m\u001b[0m\n\u001b[1;32m     17\u001b[0m             \u001b[0mprint\u001b[0m\u001b[0;34m(\u001b[0m\u001b[0mcur_path_from\u001b[0m \u001b[0;34m+\u001b[0m \u001b[0mfile_suffix\u001b[0m\u001b[0;34m,\u001b[0m \u001b[0;34m\"x\"\u001b[0m\u001b[0;34m,\u001b[0m \u001b[0mcur_path_to\u001b[0m\u001b[0;34m+\u001b[0m\u001b[0;34m'Benign/'\u001b[0m \u001b[0;34m+\u001b[0m \u001b[0mfile_suffix\u001b[0m\u001b[0;34m)\u001b[0m\u001b[0;34m\u001b[0m\u001b[0m\n\u001b[0;32m---> 18\u001b[0;31m             \u001b[0mshutil\u001b[0m\u001b[0;34m.\u001b[0m\u001b[0mmove\u001b[0m\u001b[0;34m(\u001b[0m\u001b[0mcur_path_from\u001b[0m \u001b[0;34m+\u001b[0m \u001b[0mfile_suffix\u001b[0m\u001b[0;34m,\u001b[0m \u001b[0mcur_path_to\u001b[0m\u001b[0;34m+\u001b[0m\u001b[0;34m'Benign/'\u001b[0m \u001b[0;34m+\u001b[0m \u001b[0mfile_suffix\u001b[0m\u001b[0;34m)\u001b[0m\u001b[0;34m\u001b[0m\u001b[0m\n\u001b[0m",
      "\u001b[0;32m/home/dwx/anaconda3/lib/python3.5/shutil.py\u001b[0m in \u001b[0;36mmove\u001b[0;34m(src, dst, copy_function)\u001b[0m\n\u001b[1;32m    550\u001b[0m             \u001b[0mrmtree\u001b[0m\u001b[0;34m(\u001b[0m\u001b[0msrc\u001b[0m\u001b[0;34m)\u001b[0m\u001b[0;34m\u001b[0m\u001b[0m\n\u001b[1;32m    551\u001b[0m         \u001b[0;32melse\u001b[0m\u001b[0;34m:\u001b[0m\u001b[0;34m\u001b[0m\u001b[0m\n\u001b[0;32m--> 552\u001b[0;31m             \u001b[0mcopy_function\u001b[0m\u001b[0;34m(\u001b[0m\u001b[0msrc\u001b[0m\u001b[0;34m,\u001b[0m \u001b[0mreal_dst\u001b[0m\u001b[0;34m)\u001b[0m\u001b[0;34m\u001b[0m\u001b[0m\n\u001b[0m\u001b[1;32m    553\u001b[0m             \u001b[0mos\u001b[0m\u001b[0;34m.\u001b[0m\u001b[0munlink\u001b[0m\u001b[0;34m(\u001b[0m\u001b[0msrc\u001b[0m\u001b[0;34m)\u001b[0m\u001b[0;34m\u001b[0m\u001b[0m\n\u001b[1;32m    554\u001b[0m     \u001b[0;32mreturn\u001b[0m \u001b[0mreal_dst\u001b[0m\u001b[0;34m\u001b[0m\u001b[0m\n",
      "\u001b[0;32m/home/dwx/anaconda3/lib/python3.5/shutil.py\u001b[0m in \u001b[0;36mcopy2\u001b[0;34m(src, dst, follow_symlinks)\u001b[0m\n\u001b[1;32m    249\u001b[0m     \u001b[0;32mif\u001b[0m \u001b[0mos\u001b[0m\u001b[0;34m.\u001b[0m\u001b[0mpath\u001b[0m\u001b[0;34m.\u001b[0m\u001b[0misdir\u001b[0m\u001b[0;34m(\u001b[0m\u001b[0mdst\u001b[0m\u001b[0;34m)\u001b[0m\u001b[0;34m:\u001b[0m\u001b[0;34m\u001b[0m\u001b[0m\n\u001b[1;32m    250\u001b[0m         \u001b[0mdst\u001b[0m \u001b[0;34m=\u001b[0m \u001b[0mos\u001b[0m\u001b[0;34m.\u001b[0m\u001b[0mpath\u001b[0m\u001b[0;34m.\u001b[0m\u001b[0mjoin\u001b[0m\u001b[0;34m(\u001b[0m\u001b[0mdst\u001b[0m\u001b[0;34m,\u001b[0m \u001b[0mos\u001b[0m\u001b[0;34m.\u001b[0m\u001b[0mpath\u001b[0m\u001b[0;34m.\u001b[0m\u001b[0mbasename\u001b[0m\u001b[0;34m(\u001b[0m\u001b[0msrc\u001b[0m\u001b[0;34m)\u001b[0m\u001b[0;34m)\u001b[0m\u001b[0;34m\u001b[0m\u001b[0m\n\u001b[0;32m--> 251\u001b[0;31m     \u001b[0mcopyfile\u001b[0m\u001b[0;34m(\u001b[0m\u001b[0msrc\u001b[0m\u001b[0;34m,\u001b[0m \u001b[0mdst\u001b[0m\u001b[0;34m,\u001b[0m \u001b[0mfollow_symlinks\u001b[0m\u001b[0;34m=\u001b[0m\u001b[0mfollow_symlinks\u001b[0m\u001b[0;34m)\u001b[0m\u001b[0;34m\u001b[0m\u001b[0m\n\u001b[0m\u001b[1;32m    252\u001b[0m     \u001b[0mcopystat\u001b[0m\u001b[0;34m(\u001b[0m\u001b[0msrc\u001b[0m\u001b[0;34m,\u001b[0m \u001b[0mdst\u001b[0m\u001b[0;34m,\u001b[0m \u001b[0mfollow_symlinks\u001b[0m\u001b[0;34m=\u001b[0m\u001b[0mfollow_symlinks\u001b[0m\u001b[0;34m)\u001b[0m\u001b[0;34m\u001b[0m\u001b[0m\n\u001b[1;32m    253\u001b[0m     \u001b[0;32mreturn\u001b[0m \u001b[0mdst\u001b[0m\u001b[0;34m\u001b[0m\u001b[0m\n",
      "\u001b[0;32m/home/dwx/anaconda3/lib/python3.5/shutil.py\u001b[0m in \u001b[0;36mcopyfile\u001b[0;34m(src, dst, follow_symlinks)\u001b[0m\n\u001b[1;32m    112\u001b[0m         \u001b[0mos\u001b[0m\u001b[0;34m.\u001b[0m\u001b[0msymlink\u001b[0m\u001b[0;34m(\u001b[0m\u001b[0mos\u001b[0m\u001b[0;34m.\u001b[0m\u001b[0mreadlink\u001b[0m\u001b[0;34m(\u001b[0m\u001b[0msrc\u001b[0m\u001b[0;34m)\u001b[0m\u001b[0;34m,\u001b[0m \u001b[0mdst\u001b[0m\u001b[0;34m)\u001b[0m\u001b[0;34m\u001b[0m\u001b[0m\n\u001b[1;32m    113\u001b[0m     \u001b[0;32melse\u001b[0m\u001b[0;34m:\u001b[0m\u001b[0;34m\u001b[0m\u001b[0m\n\u001b[0;32m--> 114\u001b[0;31m         \u001b[0;32mwith\u001b[0m \u001b[0mopen\u001b[0m\u001b[0;34m(\u001b[0m\u001b[0msrc\u001b[0m\u001b[0;34m,\u001b[0m \u001b[0;34m'rb'\u001b[0m\u001b[0;34m)\u001b[0m \u001b[0;32mas\u001b[0m \u001b[0mfsrc\u001b[0m\u001b[0;34m:\u001b[0m\u001b[0;34m\u001b[0m\u001b[0m\n\u001b[0m\u001b[1;32m    115\u001b[0m             \u001b[0;32mwith\u001b[0m \u001b[0mopen\u001b[0m\u001b[0;34m(\u001b[0m\u001b[0mdst\u001b[0m\u001b[0;34m,\u001b[0m \u001b[0;34m'wb'\u001b[0m\u001b[0;34m)\u001b[0m \u001b[0;32mas\u001b[0m \u001b[0mfdst\u001b[0m\u001b[0;34m:\u001b[0m\u001b[0;34m\u001b[0m\u001b[0m\n\u001b[1;32m    116\u001b[0m                 \u001b[0mcopyfileobj\u001b[0m\u001b[0;34m(\u001b[0m\u001b[0mfsrc\u001b[0m\u001b[0;34m,\u001b[0m \u001b[0mfdst\u001b[0m\u001b[0;34m)\u001b[0m\u001b[0;34m\u001b[0m\u001b[0m\n",
      "\u001b[0;31mFileNotFoundError\u001b[0m: [Errno 2] No such file or directory: '/home/dwx/Documents/Studium/DTU/11/DL Deep Learning/project/ISIC_MSK-2_1_images/ISIC_0010120.jpg'"
     ]
    }
   ],
   "source": [
    "train_data_dir = \"train/\"\n",
    "validation_data_dir = \"validation/\"\n",
    "test_data_dir = \"test/\"\n",
    "\n",
    "for a,path in [(choice_train,train_data_dir),\n",
    "          (choice_val,validation_data_dir),\n",
    "          (choice_test,test_data_dir)]:\n",
    "    cur_path_from = dir_images\n",
    "    cur_path_to = dir_images_split + path\n",
    "\n",
    "    print(cur_path)\n",
    "    for cur_id in a:\n",
    "        file_suffix = df.loc[cur_id][\"name\"] + \".jpg\"\n",
    "        if df.loc[cur_id][\"benign_malignant\"] == \"benign\":\n",
    "            shutil.move(cur_path_from + file_suffix, cur_path_to+'Malignant/' + file_suffix)\n",
    "        else:\n",
    "            print(cur_path_from + file_suffix, \"x\", cur_path_to+'Benign/' + file_suffix)\n",
    "            shutil.move(cur_path_from + file_suffix, cur_path_to+'Benign/' + file_suffix)"
   ]
  },
  {
   "cell_type": "code",
   "execution_count": null,
   "metadata": {
    "collapsed": true
   },
   "outputs": [],
   "source": [
    "def split_data(path_test,path_validation):\n",
    "    # approx 0.6 to training, 0.2 to validation, 0.2 to test\n",
    "    filesmalignant= os.listdir(PATH_malignant)\n",
    "    filesbenign = os.listdir(PATH_benign)\n",
    "    for file in filesmalignant[:70]:\n",
    "        shutil.move(path_train+'Malignant/'+file, PATH_validation+'Malignant')\n",
    "    for file in filesmalignant[70:70+70]:\n",
    "        shutil.move(path_train+'Malignant/'+file, PATH_test+'Malignant') \n",
    "    for file in filesbenign[:233]:\n",
    "        shutil.move(path_train+'Benign/'+file, PATH_validation+'Benign')\n",
    "    for file in filesbenign[233:233+234]:\n",
    "        shutil.move(path_train+'Benign/'+file, PATH_test+'Benign')  \n",
    "\n",
    "\n",
    "\n",
    "data_array=filename_label('ISIC_MSK-2_1.csv')\n",
    "#data_array=data_array[10:15,:]\n",
    "\n",
    "def sort_folder(data_array):\n",
    "    notsorted=[]\n",
    "    for row in range(data_array.shape[0]):\n",
    "        data=data_array[row,:]\n",
    "        if data[1]=='benign':\n",
    "            shutil.copy2(PATH_pictures+data[0],PATH_benign)\n",
    "        if data[1]=='malignant':\n",
    "            shutil.copy2(PATH_pictures+data[0],PATH_malignant)\n",
    "        else:\n",
    "            print(\"different_label\",row,data)\n",
    "            notsorted.append(data)\n",
    "            \n",
    "#sort_folder(data_array)  "
   ]
  }
 ],
 "metadata": {
  "kernelspec": {
   "display_name": "Python [default]",
   "language": "python",
   "name": "python3"
  },
  "language_info": {
   "codemirror_mode": {
    "name": "ipython",
    "version": 3
   },
   "file_extension": ".py",
   "mimetype": "text/x-python",
   "name": "python",
   "nbconvert_exporter": "python",
   "pygments_lexer": "ipython3",
   "version": "3.5.2"
  }
 },
 "nbformat": 4,
 "nbformat_minor": 1
}
