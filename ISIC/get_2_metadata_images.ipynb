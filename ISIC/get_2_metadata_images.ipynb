{
 "cells": [
  {
   "cell_type": "markdown",
   "metadata": {},
   "source": [
    "# ISIC Archive"
   ]
  },
  {
   "cell_type": "code",
   "execution_count": 1,
   "metadata": {
    "collapsed": false
   },
   "outputs": [],
   "source": [
    "import girder_client\n",
    "import pandas as pd\n",
    "import numpy as np\n",
    "import json\n",
    "import requests\n",
    "import urllib.request\n",
    "import progressbar"
   ]
  },
  {
   "cell_type": "code",
   "execution_count": 2,
   "metadata": {
    "collapsed": false
   },
   "outputs": [
    {
     "data": {
      "text/plain": [
       "['ISIC_MSK-1_1',\n",
       " 'ISIC_MSK-1_2',\n",
       " 'ISIC_MSK-2_1',\n",
       " 'ISIC_MSK-3_1',\n",
       " 'ISIC_MSK-4_1',\n",
       " 'ISIC_MSK-5_1',\n",
       " 'ISIC_SONIC_1',\n",
       " 'ISIC_UDA-1_1',\n",
       " 'ISIC_UDA-2_1']"
      ]
     },
     "execution_count": 2,
     "metadata": {},
     "output_type": "execute_result"
    }
   ],
   "source": [
    "gc = girder_client.GirderClient(apiUrl='https://isic-archive.com/api/v1')\n",
    "dataset_df = pd.DataFrame(gc.get(\"/dataset\"))\n",
    "dataset_names = list(dataset_df[\"name\"])\n",
    "dataset_names"
   ]
  },
  {
   "cell_type": "markdown",
   "metadata": {},
   "source": [
    "## Get Image Metadata\n",
    "\n",
    "Choosing the database for which the file metadata should be saved.\n",
    "\n",
    "It seems like we could use the following:\n",
    "- MSK: 11, 12, 21, 41\n",
    "- uda: 11 and 21"
   ]
  },
  {
   "cell_type": "code",
   "execution_count": 3,
   "metadata": {
    "collapsed": false
   },
   "outputs": [
    {
     "data": {
      "text/plain": [
       "['ISIC_MSK-1_1',\n",
       " 'ISIC_MSK-1_2',\n",
       " 'ISIC_MSK-2_1',\n",
       " 'ISIC_MSK-4_1',\n",
       " 'ISIC_UDA-1_1',\n",
       " 'ISIC_UDA-2_1']"
      ]
     },
     "execution_count": 3,
     "metadata": {},
     "output_type": "execute_result"
    }
   ],
   "source": [
    "db_selection = [0,1,2,4,7,8]\n",
    "sel_dataset_names = [dataset_names[a] for a in db_selection]\n",
    "sel_dataset_names"
   ]
  },
  {
   "cell_type": "code",
   "execution_count": 5,
   "metadata": {
    "collapsed": false
   },
   "outputs": [],
   "source": [
    "def getSpecificMetadata(curId, jsonData):\n",
    "    #result += [jsonData[\"meta\"][\"clinical\"][\"benign_malignant\"]]\n",
    "    result = {}\n",
    "    result = jsonData[\"meta\"][\"clinical\"]\n",
    "    result[\"name\"] = jsonData[\"name\"]\n",
    "    result[\"id\"] = curId\n",
    "    return result\n",
    "\n",
    "path_image = \"/image/\"\n",
    "path_dest = \"/home/dwx/tmp/\"\n",
    "limit = 2 # 0 no limit, x>0 limit x\n",
    "\n",
    "for a in progressbar.log_progress(sel_dataset_names[:]):\n",
    "    cur_dataset_id = dataset_df[dataset_df[\"name\"] == a]._id\n",
    "    cur_dataset_id = cur_dataset_id.tolist()[0]\n",
    "    \n",
    "    cur_selection = gc.get(path_image,parameters={\"datasetId\":cur_dataset_id, \"limit\":0})[:limit]\n",
    "    result = []\n",
    "    for b in progressbar.log_progress(cur_selection):\n",
    "        cur_id = b[\"_id\"]\n",
    "        curMetadata = gc.get(path_image+str(cur_id),parameters={})\n",
    "        specificMetadata = getSpecificMetadata(cur_id, curMetadata)\n",
    "        result += [specificMetadata]\n",
    "    result_df = pd.DataFrame(result)\n",
    "    result_df.to_csv(path_dest+a+\".csv\")"
   ]
  }
 ],
 "metadata": {
  "anaconda-cloud": {},
  "kernelspec": {
   "display_name": "Python [default]",
   "language": "python",
   "name": "python3"
  },
  "language_info": {
   "codemirror_mode": {
    "name": "ipython",
    "version": 3
   },
   "file_extension": ".py",
   "mimetype": "text/x-python",
   "name": "python",
   "nbconvert_exporter": "python",
   "pygments_lexer": "ipython3",
   "version": "3.5.2"
  },
  "widgets": {
   "state": {
    "23f4a31f9bb441a7b8c4b30f81fa0358": {
     "views": [
      {
       "cell_index": 5
      }
     ]
    },
    "2de63ad6dede40ba96a82c635ae0947b": {
     "views": [
      {
       "cell_index": 5
      }
     ]
    },
    "5bfa71e2f1a14ca09d539cfa7849e447": {
     "views": [
      {
       "cell_index": 5
      }
     ]
    },
    "64d96b8c0f9e4a6fb00a0797d2b160b0": {
     "views": [
      {
       "cell_index": 5
      }
     ]
    },
    "983fb6460d934e44aa4b5d8b87875e65": {
     "views": [
      {
       "cell_index": 5
      }
     ]
    },
    "b5b638c1d83c438ca6d423c74c4d4be1": {
     "views": [
      {
       "cell_index": 5
      }
     ]
    },
    "d8951786f9a04c3d94e769f46719f3c3": {
     "views": [
      {
       "cell_index": 4
      }
     ]
    },
    "ede4febad30a4942ab3c13fd5fcc97f5": {
     "views": [
      {
       "cell_index": 5
      }
     ]
    },
    "f3a1cf89fe4f4259ba89d2dd0d1edb89": {
     "views": [
      {
       "cell_index": 5
      }
     ]
    }
   },
   "version": "1.2.0"
  }
 },
 "nbformat": 4,
 "nbformat_minor": 1
}
