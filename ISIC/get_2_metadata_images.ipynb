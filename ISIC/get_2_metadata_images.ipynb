{
 "cells": [
  {
   "cell_type": "markdown",
   "metadata": {},
   "source": [
    "# ISIC Archive"
   ]
  },
  {
   "cell_type": "code",
   "execution_count": 1,
   "metadata": {
    "collapsed": false
   },
   "outputs": [],
   "source": [
    "import girder_client\n",
    "import pandas as pd\n",
    "import numpy as np\n",
    "import json\n",
    "import requests\n",
    "import urllib.request\n",
    "import progressbar"
   ]
  },
  {
   "cell_type": "code",
   "execution_count": 2,
   "metadata": {
    "collapsed": false
   },
   "outputs": [
    {
     "data": {
      "text/plain": [
       "['ISIC_MSK-1_1',\n",
       " 'ISIC_MSK-1_2',\n",
       " 'ISIC_MSK-2_1',\n",
       " 'ISIC_MSK-3_1',\n",
       " 'ISIC_MSK-4_1',\n",
       " 'ISIC_MSK-5_1',\n",
       " 'ISIC_SONIC_1',\n",
       " 'ISIC_UDA-1_1',\n",
       " 'ISIC_UDA-2_1']"
      ]
     },
     "execution_count": 2,
     "metadata": {},
     "output_type": "execute_result"
    }
   ],
   "source": [
    "gc = girder_client.GirderClient(apiUrl='https://isic-archive.com/api/v1')\n",
    "dataset_df = pd.DataFrame(gc.get(\"/dataset\"))\n",
    "dataset_names = list(dataset_df[\"name\"])\n",
    "dataset_names"
   ]
  },
  {
   "cell_type": "markdown",
   "metadata": {},
   "source": [
    "## Get Image Metadata\n",
    "\n",
    "Choosing the database for which the file metadata should be saved.\n",
    "\n",
    "It seems like we could use the following:\n",
    "- MSK: 11, 12, 21, 41\n",
    "- uda: 11 and 21"
   ]
  },
  {
   "cell_type": "code",
   "execution_count": 8,
   "metadata": {
    "collapsed": false
   },
   "outputs": [
    {
     "data": {
      "text/plain": [
       "['ISIC_MSK-1_1',\n",
       " 'ISIC_MSK-1_2',\n",
       " 'ISIC_MSK-2_1',\n",
       " 'ISIC_MSK-3_1',\n",
       " 'ISIC_MSK-4_1',\n",
       " 'ISIC_MSK-5_1',\n",
       " 'ISIC_SONIC_1',\n",
       " 'ISIC_UDA-1_1',\n",
       " 'ISIC_UDA-2_1']"
      ]
     },
     "execution_count": 8,
     "metadata": {},
     "output_type": "execute_result"
    }
   ],
   "source": [
    "path_image = \"/image/\"\n",
    "path_dest = \"/home/dwx/tmp/\"\n",
    "limit = 2 # 0 no limit, x>0 limit x\n",
    "\n",
    "db_selection = [0,1,2,4,7,8]\n",
    "db_selection = range(len(dataset_names))\n",
    "sel_dataset_names = [dataset_names[a] for a in db_selection]\n",
    "sel_dataset_names"
   ]
  },
  {
   "cell_type": "code",
   "execution_count": 9,
   "metadata": {
    "collapsed": false
   },
   "outputs": [],
   "source": [
    "def getSpecificMetadata(curId, jsonData):\n",
    "    #result += [jsonData[\"meta\"][\"clinical\"][\"benign_malignant\"]]\n",
    "    result = {}\n",
    "    result = jsonData[\"meta\"][\"clinical\"]\n",
    "    result[\"name\"] = jsonData[\"name\"]\n",
    "    result[\"id\"] = curId\n",
    "    return result\n",
    "\n",
    "for a in progressbar.log_progress(sel_dataset_names[:]):\n",
    "    cur_dataset_id = dataset_df[dataset_df[\"name\"] == a]._id\n",
    "    cur_dataset_id = cur_dataset_id.tolist()[0]\n",
    "    \n",
    "    cur_selection = gc.get(path_image,parameters={\"datasetId\":cur_dataset_id, \"limit\":0})[:limit]\n",
    "    result = []\n",
    "    for b in progressbar.log_progress(cur_selection):\n",
    "        cur_id = b[\"_id\"]\n",
    "        curMetadata = gc.get(path_image+str(cur_id),parameters={})\n",
    "        specificMetadata = getSpecificMetadata(cur_id, curMetadata)\n",
    "        result += [specificMetadata]\n",
    "    result_df = pd.DataFrame(result)\n",
    "    result_df.to_csv(path_dest+a+\".csv\")"
   ]
  }
 ],
 "metadata": {
  "anaconda-cloud": {},
  "kernelspec": {
   "display_name": "Python [default]",
   "language": "python",
   "name": "python3"
  },
  "language_info": {
   "codemirror_mode": {
    "name": "ipython",
    "version": 3
   },
   "file_extension": ".py",
   "mimetype": "text/x-python",
   "name": "python",
   "nbconvert_exporter": "python",
   "pygments_lexer": "ipython3",
   "version": "3.5.2"
  },
  "widgets": {
   "state": {
    "06377ee572f6471aae6d139a67577524": {
     "views": [
      {
       "cell_index": 5
      }
     ]
    },
    "0a68a0c10b434349b3c2ee21cadc7fb6": {
     "views": [
      {
       "cell_index": 5
      }
     ]
    },
    "23f4a31f9bb441a7b8c4b30f81fa0358": {
     "views": [
      {
       "cell_index": 5
      }
     ]
    },
    "2de63ad6dede40ba96a82c635ae0947b": {
     "views": [
      {
       "cell_index": 5
      }
     ]
    },
    "47ac0fb80dec42068cc9aaddc8a28a30": {
     "views": [
      {
       "cell_index": 5
      }
     ]
    },
    "631b629c43704edfab51e81378f9504a": {
     "views": [
      {
       "cell_index": 5
      }
     ]
    },
    "64d96b8c0f9e4a6fb00a0797d2b160b0": {
     "views": [
      {
       "cell_index": 5
      }
     ]
    },
    "689c1c4a47e84d709e5c7fdab20c7501": {
     "views": [
      {
       "cell_index": 5
      }
     ]
    },
    "92cadf3359a1454e993f49b92475469c": {
     "views": [
      {
       "cell_index": 5
      }
     ]
    },
    "9692294159234d0ea9d5e82b7aed84b7": {
     "views": [
      {
       "cell_index": 5
      }
     ]
    },
    "d768796d8b764424af92a3721936d126": {
     "views": [
      {
       "cell_index": 5
      }
     ]
    },
    "d8951786f9a04c3d94e769f46719f3c3": {
     "views": [
      {
       "cell_index": 4
      }
     ]
    },
    "da946419524c47e8b6f47a31f3c26fc4": {
     "views": [
      {
       "cell_index": 5
      }
     ]
    },
    "ede4febad30a4942ab3c13fd5fcc97f5": {
     "views": [
      {
       "cell_index": 5
      }
     ]
    },
    "f81ead64fd324cea81317033f7563f5c": {
     "views": [
      {
       "cell_index": 5
      }
     ]
    }
   },
   "version": "1.2.0"
  }
 },
 "nbformat": 4,
 "nbformat_minor": 1
}
