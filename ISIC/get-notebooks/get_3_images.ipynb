{
 "cells": [
  {
   "cell_type": "markdown",
   "metadata": {},
   "source": [
    "# ISIC Archive"
   ]
  },
  {
   "cell_type": "code",
   "execution_count": null,
   "metadata": {
    "collapsed": false
   },
   "outputs": [],
   "source": [
    "import pandas as pd\n",
    "import urllib.request\n",
    "import progressbar\n",
    "import os"
   ]
  },
  {
   "cell_type": "markdown",
   "metadata": {},
   "source": [
    "## Download Images\n",
    "\n",
    "Change marked lines below for download."
   ]
  },
  {
   "cell_type": "code",
   "execution_count": null,
   "metadata": {
    "collapsed": false
   },
   "outputs": [],
   "source": [
    "# source of files created with \"get_2\" notebook, should be in \"ISIC/analysis\".\n",
    "# Copy subset of directories to download to a new path, copy path, paste path below\n",
    "path_src = \"/home/dwx/tmp/\" # CHANGE ME \n",
    "\n",
    "path_dest = \"images/\" # Possibly change\n",
    "\n",
    "# do not change:\n",
    "url_prefix = \"https://isic-archive.com/api/v1/image/\" \n",
    "url_suffix = \"/download\"\n",
    "\n",
    "if not os.path.exists(path_dest):\n",
    "    os.makedirs(path_dest)\n",
    "\n",
    "for file in progressbar.log_progress(os.listdir(path_src)):\n",
    "    if file.endswith(\".csv\"):\n",
    "        cur_db = pd.read_csv(path_src + file)\n",
    "        img_directory = path_dest + file[:-4] + \"/\"\n",
    "        if not os.path.exists(img_directory):\n",
    "            os.makedirs(img_directory)\n",
    "\n",
    "        for a in progressbar.log_progress(cur_db[\"id\"]):\n",
    "            url = url_prefix + a + url_suffix\n",
    "            img_path = img_directory + a + \".jpeg\"\n",
    "            im = urllib.request.urlretrieve(url,filename=img_path)"
   ]
  }
 ],
 "metadata": {
  "anaconda-cloud": {},
  "kernelspec": {
   "display_name": "Python [default]",
   "language": "python",
   "name": "python3"
  },
  "language_info": {
   "codemirror_mode": {
    "name": "ipython",
    "version": 3
   },
   "file_extension": ".py",
   "mimetype": "text/x-python",
   "name": "python",
   "nbconvert_exporter": "python",
   "pygments_lexer": "ipython3",
   "version": "3.5.2"
  },
  "widgets": {
   "state": {
    "05c4fce158844a9d867e07c544e0c3d3": {
     "views": [
      {
       "cell_index": 4
      }
     ]
    },
    "11b0da38493741db940ea31ed4582648": {
     "views": [
      {
       "cell_index": 4
      }
     ]
    },
    "49e2fa7d32e843a19aeb0fb346e602f2": {
     "views": [
      {
       "cell_index": 4
      }
     ]
    },
    "4c3a85786357447d905bd2581190121c": {
     "views": [
      {
       "cell_index": 4
      }
     ]
    },
    "574b28fed4fc42bcbf1e5ffe2c39e4e9": {
     "views": [
      {
       "cell_index": 4
      }
     ]
    },
    "5a1fa1e4ea5344d7ac21d9564e26c25a": {
     "views": [
      {
       "cell_index": 4
      }
     ]
    },
    "63199ed0f8b5483884442b12f713ddc2": {
     "views": [
      {
       "cell_index": 3
      }
     ]
    },
    "827ad455d804497eab641fcd3859000f": {
     "views": [
      {
       "cell_index": 3
      }
     ]
    },
    "9b4b8a1fc2e3412d88f05c4444523e7d": {
     "views": [
      {
       "cell_index": 4
      }
     ]
    },
    "a70e5913cde84a4ea05384c48f69caff": {
     "views": [
      {
       "cell_index": 4
      }
     ]
    },
    "ae2c27c375834358ac1c208f1d353ac9": {
     "views": [
      {
       "cell_index": 4
      }
     ]
    },
    "bd685672830045498c261c307f97d4f8": {
     "views": [
      {
       "cell_index": 4
      }
     ]
    },
    "c8165fbf86d744ca889d861726cbc60f": {
     "views": [
      {
       "cell_index": 4
      }
     ]
    },
    "e5771698de414393ba669b5939581579": {
     "views": [
      {
       "cell_index": 4
      }
     ]
    },
    "ec500ed3defc497dbf86107e1740523a": {
     "views": [
      {
       "cell_index": 4
      }
     ]
    },
    "efa63227f19d4d0d977c196d9a79c897": {
     "views": [
      {
       "cell_index": 3
      }
     ]
    },
    "f340b8c0922b4a8c822a4d310446de41": {
     "views": [
      {
       "cell_index": 3
      }
     ]
    }
   },
   "version": "1.2.0"
  }
 },
 "nbformat": 4,
 "nbformat_minor": 1
}
