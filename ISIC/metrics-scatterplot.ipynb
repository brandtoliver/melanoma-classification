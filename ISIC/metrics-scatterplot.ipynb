{
 "cells": [
  {
   "cell_type": "markdown",
   "metadata": {},
   "source": [
    "# Metrics: distribution of class-prediction\n",
    "\n",
    "This file takes VGG16, changes the last layer to one with binary classification, loads the weights of a finetuned VGG16 (14 layers) and can predict classes.\n",
    "\n",
    "This file is kept to present the scatterplot view."
   ]
  },
  {
   "cell_type": "code",
   "execution_count": 1,
   "metadata": {
    "collapsed": false
   },
   "outputs": [
    {
     "name": "stderr",
     "output_type": "stream",
     "text": [
      "Using TensorFlow backend.\n"
     ]
    }
   ],
   "source": [
    "import numpy as np\n",
    "import matplotlib.pyplot as plt\n",
    "\n",
    "from keras import applications\n",
    "from keras.preprocessing.image import ImageDataGenerator, img_to_array, load_img,array_to_img\n",
    "from keras import optimizers\n",
    "from keras.models import Sequential, Model\n",
    "from keras.layers import Dropout, Flatten, Dense, Input\n",
    "from keras import backend as K\n",
    "K.set_image_dim_ordering('th')\n",
    "\n",
    "import progressbar\n",
    "\n",
    "import os\n",
    "\n",
    "from IPython.display import Image, display, clear_output\n",
    "\n",
    "from sklearn import svm, datasets\n",
    "from sklearn.metrics import roc_curve, auc"
   ]
  },
  {
   "cell_type": "code",
   "execution_count": 2,
   "metadata": {
    "collapsed": true
   },
   "outputs": [],
   "source": [
    "os.chdir(\"/home/dwx/Documents/Studium/DTU/11/DL Deep Learning/project/ISIC_MSK-2_1_sorted\")"
   ]
  },
  {
   "cell_type": "code",
   "execution_count": 3,
   "metadata": {
    "collapsed": true,
    "scrolled": false
   },
   "outputs": [],
   "source": [
    "def get_model(top_model_weights_path, img_width, img_height):\n",
    "    input_tensor = Input(shape=(3,img_width,img_height))\n",
    "    base_model = applications.VGG16(weights='imagenet',include_top= False,input_tensor=input_tensor)\n",
    "    top_model = Sequential()\n",
    "    top_model.add(Flatten(input_shape=base_model.output_shape[1:]))\n",
    "    top_model.add(Dense(256, activation='relu'))\n",
    "    top_model.add(Dropout(0.5))\n",
    "    top_model.add(Dense(1, activation='sigmoid'))\n",
    "    #top_model.load_weights(top_model_weights_path)\n",
    "    model = Model(inputs= base_model.input, outputs= top_model(base_model.output))\n",
    "    model.load_weights(top_model_weights_path)\n",
    "    return model"
   ]
  },
  {
   "cell_type": "code",
   "execution_count": 4,
   "metadata": {
    "collapsed": true
   },
   "outputs": [],
   "source": [
    "def predict_image_class(model, path_file, img_width,img_height):\n",
    "    \"\"\"returns class in binary classification.\n",
    "    \"\"\"\n",
    "    x = load_img(path_file, target_size=(img_width,img_height))\n",
    "    x = img_to_array(x)\n",
    "    x = np.expand_dims(x, axis=0)\n",
    "    value_prediction = model.predict(x)[0][0]\n",
    "    return value_prediction"
   ]
  },
  {
   "cell_type": "markdown",
   "metadata": {},
   "source": [
    "# Setting the Path\n",
    "1. Take e.g. weights from: www.dominikmorgen.de/data/20171120_1519_saved_weights.h5.zip , \n",
    "2. rename the file to bottleneck_fc_model.h5 and \n",
    "3. link the path to it below in *top_model_weights_path*"
   ]
  },
  {
   "cell_type": "code",
   "execution_count": 5,
   "metadata": {
    "collapsed": false
   },
   "outputs": [
    {
     "name": "stderr",
     "output_type": "stream",
     "text": [
      "/home/dwx/anaconda3/lib/python3.5/site-packages/keras/applications/vgg16.py:182: UserWarning: You are using the TensorFlow backend, yet you are using the Theano image data format convention (`image_data_format=\"channels_first\"`). For best performance, set `image_data_format=\"channels_last\"` in your Keras config at ~/.keras/keras.json.\n",
      "  warnings.warn('You are using the TensorFlow backend, yet you '\n"
     ]
    }
   ],
   "source": [
    "train_data_dir = 'train'\n",
    "validation_data_dir = 'validation'\n",
    "test_dir = 'test'\n",
    "category_array = [\"Malignant\", \"Benign\"]\n",
    "top_model_weights_path = '../bottleneck_fc_model.h5' # path to the model weights files.\n",
    "img_width, img_height = 150, 150 # dimensions of our images.\n",
    "\n",
    "model = get_model(top_model_weights_path, img_width, img_height)\n",
    "\n",
    "for trainValTest in [test_dir]:\n",
    "    \"\"\"\n",
    "    array:\n",
    "    0 actual class malignant\n",
    "    1 actual class benign\n",
    "    \"\"\"\n",
    "    confusion_matrix = [[0,0],[0,0]] \n",
    "    pred_array = [[],[]]\n",
    "    for a, category in enumerate(category_array):\n",
    "        cur_path = trainValTest + \"/\" + category + \"/\"\n",
    "        for file in progressbar.log_progress(os.listdir(cur_path)[:]):\n",
    "            if file.endswith(\".jpg\"):\n",
    "                path_file = cur_path + file\n",
    "                value_prediction = predict_image_class(model, path_file, img_width, img_height)\n",
    "                pred_array[a] += [value_prediction]\n",
    "                if value_prediction > 0.5:\n",
    "                    confusion_matrix[a][0] += 1\n",
    "                else:\n",
    "                    confusion_matrix[a][1] += 1"
   ]
  },
  {
   "cell_type": "code",
   "execution_count": 6,
   "metadata": {
    "collapsed": false
   },
   "outputs": [
    {
     "name": "stdout",
     "output_type": "stream",
     "text": [
      "[15, 55]\n",
      "[19, 215]\n"
     ]
    },
    {
     "data": {
      "image/png": "[encoded data removed]",
      "text/plain": [
       "<matplotlib.figure.Figure at 0x7f0585b17cc0>"
      ]
     },
     "metadata": {},
     "output_type": "display_data"
    },
    {
     "data": {
      "image/png": "[encoded data removed]",
      "text/plain": [
       "<matplotlib.figure.Figure at 0x7f0585a85160>"
      ]
     },
     "metadata": {},
     "output_type": "display_data"
    }
   ],
   "source": [
    "print(confusion_matrix[0])\n",
    "print(confusion_matrix[1])\n",
    "\n",
    "plt.scatter(np.arange(0,len(pred_array[0])), pred_array[0])\n",
    "plt.show()\n",
    "plt.scatter(np.arange(0,len(pred_array[1])), pred_array[1])\n",
    "plt.show()"
   ]
  }
 ],
 "metadata": {
  "anaconda-cloud": {},
  "kernelspec": {
   "display_name": "Python [default]",
   "language": "python",
   "name": "python3"
  },
  "language_info": {
   "codemirror_mode": {
    "name": "ipython",
    "version": 3
   },
   "file_extension": ".py",
   "mimetype": "text/x-python",
   "name": "python",
   "nbconvert_exporter": "python",
   "pygments_lexer": "ipython3",
   "version": "3.5.2"
  }
 },
 "nbformat": 4,
 "nbformat_minor": 2
}
