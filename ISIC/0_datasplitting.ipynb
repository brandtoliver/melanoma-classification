{
 "cells": [
  {
   "cell_type": "markdown",
   "metadata": {},
   "source": [
    "# Data splitting\n",
    "\n",
    "Splitting all images in a structure suited for further analysis, i.a. subfolders *train, test and validation*.\n",
    "Subfolders are *Benign and Malignant*.\n",
    "\n",
    "The ratio of images per folder can be defined."
   ]
  },
  {
   "cell_type": "code",
   "execution_count": 7,
   "metadata": {
    "collapsed": true
   },
   "outputs": [],
   "source": [
    "import pandas as pd\n",
    "import numpy as np\n",
    "import shutil\n",
    "import os     "
   ]
  },
  {
   "cell_type": "code",
   "execution_count": 8,
   "metadata": {
    "collapsed": false
   },
   "outputs": [],
   "source": [
    "dir_images = \"/home/dwx/Documents/Studium/DTU/11/DL Deep Learning/project/ISIC_MSK-2_1_images/\"\n",
    "dir_images_split = \"/home/dwx/Documents/Studium/DTU/11/DL Deep Learning/project/ISIC_MSK-2_1_1100/\"\n",
    "dir_metadata = \"/home/dwx/Documents/Studium/DTU/11/DL Deep Learning/project/git/ISIC/csv_metadata/\""
   ]
  },
  {
   "cell_type": "code",
   "execution_count": 9,
   "metadata": {
    "collapsed": false
   },
   "outputs": [],
   "source": [
    "def get_image_class(metadata_file):\n",
    "    #inputs: The file name where the analysis data is \n",
    "    #ouputs: an np.array with in col 0 the name of the file and in col 1 the label\n",
    "    data = pd.read_csv(metadata_file)\n",
    "    \n",
    "    df = pd.DataFrame(data, columns=[\"name\", \"benign_malignant\"])\n",
    "    return df\n",
    "\n",
    "metadata_file = dir_metadata + \"ISIC_MSK-2_1.csv\"\n",
    "df = get_image_class( metadata_file )\n",
    "\n",
    "name_set_meta = set(df[\"name\"])"
   ]
  },
  {
   "cell_type": "code",
   "execution_count": 23,
   "metadata": {
    "collapsed": false
   },
   "outputs": [],
   "source": [
    "name_set_image = []\n",
    "for file in os.listdir(dir_images)[:]: # progressbar.log_progress(os.listdir(cur_path)[:]):\n",
    "    if file.endswith(\".jpg\"):\n",
    "        name_set_image += [file[:-4]]"
   ]
  },
  {
   "cell_type": "code",
   "execution_count": 11,
   "metadata": {
    "collapsed": false
   },
   "outputs": [
    {
     "name": "stdout",
     "output_type": "stream",
     "text": [
      "train, validate, test [1100, 300, 118]\n"
     ]
    }
   ],
   "source": [
    "image_count = len(name_set_image)\n",
    "amount = [1100, 300, image_count-1400]\n",
    "print(\"train, validate, test\", amount)"
   ]
  },
  {
   "cell_type": "code",
   "execution_count": 14,
   "metadata": {
    "collapsed": false
   },
   "outputs": [],
   "source": [
    "choice_array = np.random.choice(image_count, size=image_count, replace=False)"
   ]
  },
  {
   "cell_type": "markdown",
   "metadata": {},
   "source": [
    "### Ratio benign/total"
   ]
  },
  {
   "cell_type": "code",
   "execution_count": 1,
   "metadata": {
    "collapsed": false
   },
   "outputs": [],
   "source": [
    "def get_image_to_metadata(index):\n",
    "    return df[df[\"name\"] == name_set_image[index]]"
   ]
  },
  {
   "cell_type": "markdown",
   "metadata": {},
   "source": [
    "Ratio of benign images in each folder, output printed below."
   ]
  },
  {
   "cell_type": "code",
   "execution_count": 57,
   "metadata": {
    "collapsed": false
   },
   "outputs": [
    {
     "name": "stdout",
     "output_type": "stream",
     "text": [
      "0.7809090909090909\n",
      "0.7366666666666667\n",
      "0.7372881355932204\n"
     ]
    }
   ],
   "source": [
    "choice_train = choice_array[:amount[0]]\n",
    "choice_val = choice_array[amount[0]:amount[0]+amount[1]]\n",
    "choice_test = choice_array[amount[0]+amount[1]:]\n",
    "\n",
    "for a in [choice_train,choice_val,choice_test]:\n",
    "    cur_count_benign = 0\n",
    "    cur_amount = len(a)\n",
    "    for cur_id in a:\n",
    "        cur_class = get_image_to_metadata(cur_id).iloc[0][\"benign_malignant\"]\n",
    "        if cur_class == \"benign\":\n",
    "            cur_count_benign += 1\n",
    "    print(cur_count_benign/cur_amount)"
   ]
  },
  {
   "cell_type": "code",
   "execution_count": 58,
   "metadata": {
    "collapsed": false
   },
   "outputs": [
    {
     "name": "stdout",
     "output_type": "stream",
     "text": [
      "1100\n",
      "300\n",
      "118\n"
     ]
    }
   ],
   "source": [
    "print(len(set(choice_train)))\n",
    "print(len(set(choice_val)))\n",
    "print(len(set(choice_test)))"
   ]
  },
  {
   "cell_type": "markdown",
   "metadata": {},
   "source": [
    "Copying files to each subfolder."
   ]
  },
  {
   "cell_type": "code",
   "execution_count": null,
   "metadata": {
    "collapsed": false
   },
   "outputs": [],
   "source": [
    "train_data_dir = \"train/\"\n",
    "validation_data_dir = \"validation/\"\n",
    "test_data_dir = \"test/\"\n",
    "\n",
    "for a,path in [(choice_train,train_data_dir),\n",
    "          (choice_val,validation_data_dir),\n",
    "          (choice_test,test_data_dir)]:\n",
    "    cur_path_from = dir_images\n",
    "    cur_path_to = dir_images_split + path\n",
    "    print(cur_path_from, cur_path_to)\n",
    "\n",
    "    for cur_id in a:\n",
    "        cur_image = get_image_to_metadata(cur_id)\n",
    "        cur_class = cur_image.iloc[0][\"benign_malignant\"]\n",
    "        file_suffix = cur_image.iloc[0][\"name\"] + \".jpg\"\n",
    "        if cur_class == \"benign\":\n",
    "            shutil.copy(cur_path_from + file_suffix, cur_path_to+'Benign/' + file_suffix)\n",
    "        else:\n",
    "            shutil.copy(cur_path_from + file_suffix, cur_path_to+'Malignant/' + file_suffix)"
   ]
  }
 ],
 "metadata": {
  "anaconda-cloud": {},
  "kernelspec": {
   "display_name": "Python [default]",
   "language": "python",
   "name": "python3"
  },
  "language_info": {
   "codemirror_mode": {
    "name": "ipython",
    "version": 3
   },
   "file_extension": ".py",
   "mimetype": "text/x-python",
   "name": "python",
   "nbconvert_exporter": "python",
   "pygments_lexer": "ipython3",
   "version": "3.5.2"
  }
 },
 "nbformat": 4,
 "nbformat_minor": 1
}
