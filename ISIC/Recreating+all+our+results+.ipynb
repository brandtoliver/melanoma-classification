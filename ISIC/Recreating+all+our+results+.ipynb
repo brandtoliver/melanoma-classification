{
 "cells": [
  {
   "cell_type": "markdown",
   "metadata": {},
   "source": [
    "## Introduction"
   ]
  },
  {
   "cell_type": "markdown",
   "metadata": {},
   "source": [
    "In this notebook it is shown how we get our results. The main idea of our method is to do transfer-learning. We did download the weights corresponding to the VG16 model and then we first retrained the last layer to our first classes. Next we did finetune the last convolutional layers, taking care not do get overfitting by using a small learning rate.  "
   ]
  },
  {
   "cell_type": "markdown",
   "metadata": {},
   "source": [
    "this are the packages we used:"
   ]
  },
  {
   "cell_type": "code",
   "execution_count": 45,
   "metadata": {},
   "outputs": [],
   "source": [
    "import numpy as np\n",
    "from keras.preprocessing.image import ImageDataGenerator, img_to_array, load_img\n",
    "from keras.models import Sequential, Model\n",
    "from keras.layers import Dropout, Flatten, Dense, Input\n",
    "from keras import applications\n",
    "from keras import optimizers\n",
    "\n",
    "from keras import backend as K\n",
    "K.set_image_dim_ordering('th')\n",
    "import os\n",
    "from sklearn import svm, datasets\n",
    "from sklearn.metrics import roc_curve, auc\n",
    "import progressbar\n",
    "from IPython.display import Image, display, clear_output\n",
    "import matplotlib.pyplot as plt"
   ]
  },
  {
   "cell_type": "markdown",
   "metadata": {},
   "source": [
    "The path to the datafolder and the parameters. The data folder is divided in 3 subfolders test, train and validation, containing 20%, 60% and 20% of the data respectively. Each of  this folder is oneach turn split in two subfolders again, one malignant and wan benign."
   ]
  },
  {
   "cell_type": "code",
   "execution_count": 20,
   "metadata": {},
   "outputs": [
    {
     "name": "stdout",
     "output_type": "stream",
     "text": [
      "['validation', 'train', 'test']\n"
     ]
    }
   ],
   "source": [
    "#test that your are where you are\n",
    "PATH=\"/home/ubuntu/data/\"\n",
    "folders=os.listdir(PATH)\n",
    "print(folders)\n",
    "os.chdir(PATH)"
   ]
  },
  {
   "cell_type": "code",
   "execution_count": 21,
   "metadata": {},
   "outputs": [],
   "source": [
    "# dimensions of our images.\n",
    "img_width, img_height = 150, 150\n",
    "top_model_weights_path = 'bottleneck_fc_model.h5'\n",
    "train_data_dir = PATH+'train/'\n",
    "validation_data_dir =PATH+ 'validation/'\n",
    "test_dir =PATH+ 'test/'\n",
    "nb_train_samples = 832\n",
    "nb_validation_samples = 368\n",
    "epochs = 50\n",
    "batch_size = 16"
   ]
  },
  {
   "cell_type": "markdown",
   "metadata": {},
   "source": [
    "# Data augmentation"
   ]
  },
  {
   "cell_type": "markdown",
   "metadata": {},
   "source": [
    "We used the following data augmentation"
   ]
  },
  {
   "cell_type": "code",
   "execution_count": 22,
   "metadata": {},
   "outputs": [],
   "source": [
    "datagen = ImageDataGenerator(\n",
    "        rescale=1. / 255,\n",
    "        rotation_range=40,\n",
    "        width_shift_range=0.2,\n",
    "        height_shift_range=0.2,\n",
    "        shear_range=0.2,\n",
    "        zoom_range=0.2,\n",
    "        horizontal_flip=True,\n",
    "        fill_mode='nearest')"
   ]
  },
  {
   "cell_type": "markdown",
   "metadata": {},
   "source": [
    "Then we saved the bottleneck features, that is we took the VGG16 network. We took pathches of our data, aumentated it and loaded it through VG16 except the last layer. We did save the outcome of the network in in the bottle neck features. So we got bottleneck features for the train and validation data. "
   ]
  },
  {
   "cell_type": "code",
   "execution_count": 23,
   "metadata": {},
   "outputs": [],
   "source": [
    "def save_bottlebeck_features():\n",
    "    #datagen = ImageDataGenerator(rescale=1. / 255)\n",
    "\n",
    "    # build the VGG16 network\n",
    "    model = applications.VGG16(include_top=False, weights='imagenet')\n",
    "\n",
    "    generator = datagen.flow_from_directory(\n",
    "        train_data_dir,\n",
    "        target_size=(img_width, img_height),\n",
    "        batch_size=batch_size,\n",
    "        class_mode=None,\n",
    "        shuffle=False)\n",
    "    bottleneck_features_train = model.predict_generator(\n",
    "        generator, nb_train_samples // batch_size)\n",
    "    np.save('bottleneck_features_train',\n",
    "        bottleneck_features_train)\n",
    "\n",
    "    print(\"done train\")\n",
    "    generator = datagen.flow_from_directory(\n",
    "        validation_data_dir,\n",
    "        target_size=(img_width, img_height),\n",
    "        batch_size=batch_size,\n",
    "        class_mode=None,\n",
    "        shuffle=False)\n",
    "    bottleneck_features_validation = model.predict_generator(\n",
    "        generator, nb_validation_samples // batch_size)\n",
    "    np.save('bottleneck_features_validation',\n",
    "            bottleneck_features_validation)\n",
    "    print(\"done valid\")"
   ]
  },
  {
   "cell_type": "markdown",
   "metadata": {},
   "source": [
    "We used this bottleneck features as input of our top model. And we trained this top model."
   ]
  },
  {
   "cell_type": "code",
   "execution_count": 24,
   "metadata": {},
   "outputs": [],
   "source": [
    "def train_top_model():\n",
    "    train_data = np.load('bottleneck_features_train.npy')\n",
    "    train_labels = np.array([0] * (nb_train_samples // 2) + [1] * (nb_train_samples // 2+nb_train_samples%2))\n",
    "\n",
    "    validation_data = np.load('bottleneck_features_validation.npy')\n",
    "    validation_labels = np.array([0] * (nb_validation_samples // 2) + [1] * (nb_validation_samples // 2+nb_validation_samples%2))\n",
    "\n",
    "    model = Sequential()\n",
    "    model.add(Flatten(input_shape=train_data.shape[1:]))\n",
    "    model.add(Dense(256, activation='relu'))\n",
    "    model.add(Dropout(0.5))\n",
    "    model.add(Dense(1, activation='sigmoid'))\n",
    "\n",
    "    model.compile(optimizer='rmsprop',\n",
    "                  loss='binary_crossentropy', metrics=['accuracy'])\n",
    "    print(\"starting fitting\")\n",
    "    model.fit(train_data, train_labels,\n",
    "              epochs=epochs,\n",
    "              batch_size=batch_size,\n",
    "              validation_data=(validation_data, validation_labels))\n",
    "    model.save_weights(top_model_weights_path)\n",
    "    print(\"ended fitting and saving\")\n"
   ]
  },
  {
   "cell_type": "markdown",
   "metadata": {},
   "source": [
    "We call our functions"
   ]
  },
  {
   "cell_type": "code",
   "execution_count": 25,
   "metadata": {},
   "outputs": [
    {
     "name": "stderr",
     "output_type": "stream",
     "text": [
      "/usr/local/lib/python3.5/dist-packages/keras/applications/vgg16.py:182: UserWarning: You are using the TensorFlow backend, yet you are using the Theano image data format convention (`image_data_format=\"channels_first\"`). For best performance, set `image_data_format=\"channels_last\"` in your Keras config at ~/.keras/keras.json.\n",
      "  warnings.warn('You are using the TensorFlow backend, yet you '\n"
     ]
    },
    {
     "name": "stdout",
     "output_type": "stream",
     "text": [
      "Found 841 images belonging to 2 classes.\n",
      "done train\n",
      "Found 373 images belonging to 2 classes.\n",
      "done valid\n"
     ]
    }
   ],
   "source": [
    "save_bottlebeck_features()"
   ]
  },
  {
   "cell_type": "code",
   "execution_count": 26,
   "metadata": {},
   "outputs": [
    {
     "name": "stdout",
     "output_type": "stream",
     "text": [
      "starting fitting\n",
      "Train on 832 samples, validate on 368 samples\n",
      "Epoch 1/50\n",
      "832/832 [==============================] - 0s - loss: 1.0369 - acc: 0.5012 - val_loss: 0.6810 - val_acc: 0.5380\n",
      "Epoch 2/50\n",
      "832/832 [==============================] - 0s - loss: 0.7093 - acc: 0.5421 - val_loss: 0.7777 - val_acc: 0.5136\n",
      "Epoch 3/50\n",
      "832/832 [==============================] - 0s - loss: 0.7044 - acc: 0.5553 - val_loss: 0.7077 - val_acc: 0.5299\n",
      "Epoch 4/50\n",
      "832/832 [==============================] - 0s - loss: 0.6972 - acc: 0.5312 - val_loss: 0.7254 - val_acc: 0.5054\n",
      "Epoch 5/50\n",
      "832/832 [==============================] - 0s - loss: 0.6897 - acc: 0.5577 - val_loss: 0.7016 - val_acc: 0.5000\n",
      "Epoch 6/50\n",
      "832/832 [==============================] - 0s - loss: 0.6703 - acc: 0.5901 - val_loss: 0.6985 - val_acc: 0.5027\n",
      "Epoch 7/50\n",
      "832/832 [==============================] - 0s - loss: 0.6700 - acc: 0.5601 - val_loss: 0.6700 - val_acc: 0.5734\n",
      "Epoch 8/50\n",
      "832/832 [==============================] - 0s - loss: 0.6584 - acc: 0.6106 - val_loss: 0.6812 - val_acc: 0.5245\n",
      "Epoch 9/50\n",
      "832/832 [==============================] - 0s - loss: 0.6479 - acc: 0.5962 - val_loss: 0.7044 - val_acc: 0.5625\n",
      "Epoch 10/50\n",
      "832/832 [==============================] - 0s - loss: 0.6368 - acc: 0.6118 - val_loss: 0.7223 - val_acc: 0.4918\n",
      "Epoch 11/50\n",
      "832/832 [==============================] - 0s - loss: 0.6404 - acc: 0.6226 - val_loss: 0.8173 - val_acc: 0.5353\n",
      "Epoch 12/50\n",
      "832/832 [==============================] - 0s - loss: 0.6174 - acc: 0.6394 - val_loss: 0.7989 - val_acc: 0.4946\n",
      "Epoch 13/50\n",
      "832/832 [==============================] - 0s - loss: 0.6006 - acc: 0.6502 - val_loss: 0.7128 - val_acc: 0.5245\n",
      "Epoch 14/50\n",
      "832/832 [==============================] - 0s - loss: 0.6049 - acc: 0.6599 - val_loss: 0.7451 - val_acc: 0.5679\n",
      "Epoch 15/50\n",
      "832/832 [==============================] - 0s - loss: 0.5818 - acc: 0.6683 - val_loss: 0.7577 - val_acc: 0.5109\n",
      "Epoch 16/50\n",
      "832/832 [==============================] - 0s - loss: 0.5727 - acc: 0.6743 - val_loss: 0.7825 - val_acc: 0.5408\n",
      "Epoch 17/50\n",
      "832/832 [==============================] - 0s - loss: 0.5703 - acc: 0.6779 - val_loss: 0.7777 - val_acc: 0.5598\n",
      "Epoch 18/50\n",
      "832/832 [==============================] - 0s - loss: 0.5541 - acc: 0.6971 - val_loss: 0.7836 - val_acc: 0.5571\n",
      "Epoch 19/50\n",
      "832/832 [==============================] - 0s - loss: 0.5335 - acc: 0.7043 - val_loss: 0.8029 - val_acc: 0.5136\n",
      "Epoch 20/50\n",
      "832/832 [==============================] - 0s - loss: 0.5320 - acc: 0.7115 - val_loss: 0.7961 - val_acc: 0.5707\n",
      "Epoch 21/50\n",
      "832/832 [==============================] - 0s - loss: 0.5062 - acc: 0.7308 - val_loss: 0.8680 - val_acc: 0.5788\n",
      "Epoch 22/50\n",
      "832/832 [==============================] - 0s - loss: 0.5066 - acc: 0.7344 - val_loss: 0.9116 - val_acc: 0.5054\n",
      "Epoch 23/50\n",
      "832/832 [==============================] - 0s - loss: 0.5000 - acc: 0.7320 - val_loss: 0.8385 - val_acc: 0.5380\n",
      "Epoch 24/50\n",
      "832/832 [==============================] - 0s - loss: 0.4951 - acc: 0.7356 - val_loss: 0.9347 - val_acc: 0.5190\n",
      "Epoch 25/50\n",
      "832/832 [==============================] - 0s - loss: 0.4846 - acc: 0.7500 - val_loss: 0.8734 - val_acc: 0.5380\n",
      "Epoch 26/50\n",
      "832/832 [==============================] - 0s - loss: 0.4826 - acc: 0.7260 - val_loss: 0.9448 - val_acc: 0.5163\n",
      "Epoch 27/50\n",
      "832/832 [==============================] - 0s - loss: 0.4622 - acc: 0.7380 - val_loss: 0.9029 - val_acc: 0.5571\n",
      "Epoch 28/50\n",
      "832/832 [==============================] - 0s - loss: 0.4599 - acc: 0.7452 - val_loss: 0.9650 - val_acc: 0.5380\n",
      "Epoch 29/50\n",
      "832/832 [==============================] - 0s - loss: 0.4322 - acc: 0.7909 - val_loss: 0.9599 - val_acc: 0.5489\n",
      "Epoch 30/50\n",
      "832/832 [==============================] - 0s - loss: 0.4444 - acc: 0.7716 - val_loss: 0.9616 - val_acc: 0.5652\n",
      "Epoch 31/50\n",
      "832/832 [==============================] - 0s - loss: 0.4330 - acc: 0.7620 - val_loss: 0.9711 - val_acc: 0.5435\n",
      "Epoch 32/50\n",
      "832/832 [==============================] - 0s - loss: 0.4234 - acc: 0.7897 - val_loss: 1.0810 - val_acc: 0.5435\n",
      "Epoch 33/50\n",
      "832/832 [==============================] - 0s - loss: 0.4248 - acc: 0.7656 - val_loss: 1.0155 - val_acc: 0.5082\n",
      "Epoch 34/50\n",
      "832/832 [==============================] - 0s - loss: 0.4226 - acc: 0.7861 - val_loss: 1.0965 - val_acc: 0.5054\n",
      "Epoch 35/50\n",
      "832/832 [==============================] - 0s - loss: 0.4164 - acc: 0.7885 - val_loss: 1.1557 - val_acc: 0.5027\n",
      "Epoch 36/50\n",
      "832/832 [==============================] - 0s - loss: 0.4068 - acc: 0.7969 - val_loss: 1.1101 - val_acc: 0.5217\n",
      "Epoch 37/50\n",
      "832/832 [==============================] - 0s - loss: 0.3822 - acc: 0.8017 - val_loss: 1.1004 - val_acc: 0.5489\n",
      "Epoch 38/50\n",
      "832/832 [==============================] - 0s - loss: 0.3804 - acc: 0.8029 - val_loss: 1.1418 - val_acc: 0.5462\n",
      "Epoch 39/50\n",
      "832/832 [==============================] - 0s - loss: 0.3737 - acc: 0.8101 - val_loss: 1.1745 - val_acc: 0.5516\n",
      "Epoch 40/50\n",
      "832/832 [==============================] - 0s - loss: 0.3659 - acc: 0.8233 - val_loss: 1.2010 - val_acc: 0.5707\n",
      "Epoch 41/50\n",
      "832/832 [==============================] - 0s - loss: 0.3783 - acc: 0.7873 - val_loss: 1.2079 - val_acc: 0.5136\n",
      "Epoch 42/50\n",
      "832/832 [==============================] - 0s - loss: 0.3481 - acc: 0.8197 - val_loss: 1.1904 - val_acc: 0.5272\n",
      "Epoch 43/50\n",
      "832/832 [==============================] - 0s - loss: 0.3396 - acc: 0.8245 - val_loss: 1.2068 - val_acc: 0.5217\n",
      "Epoch 44/50\n",
      "832/832 [==============================] - 0s - loss: 0.3354 - acc: 0.8365 - val_loss: 1.2730 - val_acc: 0.5326\n",
      "Epoch 45/50\n",
      "832/832 [==============================] - 0s - loss: 0.3475 - acc: 0.8209 - val_loss: 1.4130 - val_acc: 0.5245\n",
      "Epoch 46/50\n",
      "832/832 [==============================] - 0s - loss: 0.3287 - acc: 0.8257 - val_loss: 1.4226 - val_acc: 0.5109\n",
      "Epoch 47/50\n",
      "832/832 [==============================] - 0s - loss: 0.3289 - acc: 0.8522 - val_loss: 1.5260 - val_acc: 0.5109\n",
      "Epoch 48/50\n",
      "832/832 [==============================] - 0s - loss: 0.3233 - acc: 0.8305 - val_loss: 1.3941 - val_acc: 0.5462\n",
      "Epoch 49/50\n",
      "832/832 [==============================] - 0s - loss: 0.3342 - acc: 0.8257 - val_loss: 1.3169 - val_acc: 0.5435\n",
      "Epoch 50/50\n",
      "832/832 [==============================] - 0s - loss: 0.3100 - acc: 0.8606 - val_loss: 1.5176 - val_acc: 0.5326\n",
      "ended fitting and saving\n"
     ]
    }
   ],
   "source": [
    "train_top_model()"
   ]
  },
  {
   "cell_type": "markdown",
   "metadata": {},
   "source": [
    "To check that we are doing it correctly we have a function that can predict what we see."
   ]
  },
  {
   "cell_type": "code",
   "execution_count": 38,
   "metadata": {},
   "outputs": [],
   "source": [
    "def predict_image_class(file):\n",
    "    model = applications.VGG16(include_top=False, weights='imagenet')\n",
    "    x = load_img(file, target_size=(img_width,img_height))\n",
    "    x = img_to_array(x)\n",
    "    x = np.expand_dims(x, axis=0)\n",
    "    array = model.predict(x)\n",
    "    model = Sequential()\n",
    "    model.add(Flatten(input_shape=array.shape[1:]))\n",
    "    model.add(Dense(256, activation='relu'))\n",
    "    model.add(Dropout(0.5))\n",
    "    model.add(Dense(1, activation='sigmoid'))\n",
    "    model.load_weights(top_model_weights_path)\n",
    "    class_predicted = model.predict_classes(array)\n",
    "    if class_predicted==1:\n",
    "        print(\"malignant\")\n",
    "    else:\n",
    "        print(\"benign\")"
   ]
  },
  {
   "cell_type": "markdown",
   "metadata": {},
   "source": [
    "# Fine tuning"
   ]
  },
  {
   "cell_type": "markdown",
   "metadata": {},
   "source": [
    "Nex we fine tune the last convolutional layers of VGG16"
   ]
  },
  {
   "cell_type": "code",
   "execution_count": 27,
   "metadata": {},
   "outputs": [
    {
     "name": "stderr",
     "output_type": "stream",
     "text": [
      "/usr/local/lib/python3.5/dist-packages/keras/applications/vgg16.py:182: UserWarning: You are using the TensorFlow backend, yet you are using the Theano image data format convention (`image_data_format=\"channels_first\"`). For best performance, set `image_data_format=\"channels_last\"` in your Keras config at ~/.keras/keras.json.\n",
      "  warnings.warn('You are using the TensorFlow backend, yet you '\n"
     ]
    },
    {
     "name": "stdout",
     "output_type": "stream",
     "text": [
      "Found 841 images belonging to 2 classes.\n",
      "Found 373 images belonging to 2 classes.\n"
     ]
    }
   ],
   "source": [
    "# path to the model weights files.\n",
    "weights_path = '../vgg16_weights_tf_dim_ordering_tf_kernels.h5'\n",
    "top_model_weights_path = 'bottleneck_fc_model.h5'\n",
    "# dimensions of our images.\n",
    "img_width, img_height = 150, 150\n",
    "\n",
    "train_data_dir = 'train'\n",
    "validation_data_dir = 'validation'\n",
    "test_dir = 'test'\n",
    "nb_train_samples = 800\n",
    "nb_validation_samples = 370\n",
    "epochs = 20\n",
    "batch_size = 5\n",
    "\n",
    "input_tensor = Input(shape=(3,img_width,img_height))\n",
    "base_model = applications.VGG16(weights='imagenet',include_top= False,input_tensor=input_tensor)\n",
    "top_model = Sequential()\n",
    "top_model.add(Flatten(input_shape=base_model.output_shape[1:]))\n",
    "top_model.add(Dense(256, activation='relu'))\n",
    "top_model.add(Dropout(0.5))\n",
    "top_model.add(Dense(1, activation='sigmoid'))\n",
    "top_model.load_weights(top_model_weights_path)\n",
    "model = Model(inputs= base_model.input, outputs= top_model(base_model.output))\n",
    "\n",
    "# set the first 25 layers (up to the last conv block)\n",
    "# to non-trainable (weights will not be updated)\n",
    "for layer in model.layers[:15]:\n",
    "    layer.trainable = False\n",
    "\n",
    "# compile the model with a SGD/momentum optimizer\n",
    "# and a very slow learning rate.\n",
    "model.compile(loss='binary_crossentropy',\n",
    "              optimizer=optimizers.SGD(lr=1e-4, momentum=0.9),\n",
    "              metrics=['accuracy'])\n",
    "\n",
    "# prepare data augmentation configuration\n",
    "train_datagen = ImageDataGenerator(\n",
    "        rescale=1. / 255,\n",
    "        rotation_range=180,\n",
    "        width_shift_range=0.2,\n",
    "        height_shift_range=0.2,\n",
    "        shear_range=0.2,\n",
    "        zoom_range=0.2,\n",
    "        horizontal_flip=True,\n",
    "        fill_mode='nearest')\n",
    "\n",
    "test_datagen = ImageDataGenerator(rescale=1. / 255)\n",
    "\n",
    "train_generator = train_datagen.flow_from_directory(\n",
    "    train_data_dir,\n",
    "    target_size=(img_height, img_width),\n",
    "    batch_size=batch_size,\n",
    "    class_mode='binary')\n",
    "\n",
    "validation_generator = test_datagen.flow_from_directory(\n",
    "    validation_data_dir,\n",
    "    target_size=(img_height, img_width),\n",
    "    batch_size=batch_size,\n",
    "    class_mode='binary')"
   ]
  },
  {
   "cell_type": "code",
   "execution_count": 28,
   "metadata": {},
   "outputs": [
    {
     "name": "stderr",
     "output_type": "stream",
     "text": [
      "/usr/local/lib/python3.5/dist-packages/ipykernel_launcher.py:7: UserWarning: The semantics of the Keras 2 argument `steps_per_epoch` is not the same as the Keras 1 argument `samples_per_epoch`. `steps_per_epoch` is the number of batches to draw from the generator at each epoch. Basically steps_per_epoch = samples_per_epoch/batch_size. Similarly `nb_val_samples`->`validation_steps` and `val_samples`->`steps` arguments have changed. Update your method calls accordingly.\n",
      "  import sys\n",
      "/usr/local/lib/python3.5/dist-packages/ipykernel_launcher.py:7: UserWarning: Update your `fit_generator` call to the Keras 2 API: `fit_generator(<keras.pre..., validation_data=<keras.pre..., steps_per_epoch=160, epochs=20, validation_steps=370)`\n",
      "  import sys\n"
     ]
    },
    {
     "name": "stdout",
     "output_type": "stream",
     "text": [
      "Epoch 1/20\n",
      "160/160 [==============================] - 37s - loss: 0.5536 - acc: 0.7863 - val_loss: 0.6570 - val_acc: 0.6303\n",
      "Epoch 2/20\n",
      "160/160 [==============================] - 36s - loss: 0.4723 - acc: 0.8187 - val_loss: 0.9106 - val_acc: 0.6234\n",
      "Epoch 3/20\n",
      "160/160 [==============================] - 35s - loss: 0.4584 - acc: 0.8350 - val_loss: 0.6646 - val_acc: 0.6315\n",
      "Epoch 4/20\n",
      "160/160 [==============================] - 35s - loss: 0.4713 - acc: 0.8287 - val_loss: 0.7873 - val_acc: 0.6272\n",
      "Epoch 5/20\n",
      "160/160 [==============================] - 36s - loss: 0.4598 - acc: 0.8225 - val_loss: 0.6958 - val_acc: 0.6326\n",
      "Epoch 6/20\n",
      "160/160 [==============================] - 35s - loss: 0.4631 - acc: 0.8400 - val_loss: 0.7763 - val_acc: 0.6228\n",
      "Epoch 7/20\n",
      "160/160 [==============================] - 35s - loss: 0.4525 - acc: 0.8212 - val_loss: 0.6661 - val_acc: 0.6402\n",
      "Epoch 8/20\n",
      "160/160 [==============================] - 35s - loss: 0.4429 - acc: 0.8337 - val_loss: 0.7745 - val_acc: 0.6293\n",
      "Epoch 9/20\n",
      "160/160 [==============================] - 35s - loss: 0.4461 - acc: 0.8362 - val_loss: 0.6447 - val_acc: 0.6364\n",
      "Epoch 10/20\n",
      "160/160 [==============================] - 35s - loss: 0.4292 - acc: 0.8325 - val_loss: 0.7606 - val_acc: 0.6370\n",
      "Epoch 11/20\n",
      "160/160 [==============================] - 36s - loss: 0.4224 - acc: 0.8350 - val_loss: 0.6858 - val_acc: 0.6511\n",
      "Epoch 12/20\n",
      "160/160 [==============================] - 35s - loss: 0.4433 - acc: 0.8150 - val_loss: 0.7015 - val_acc: 0.6435\n",
      "Epoch 13/20\n",
      "160/160 [==============================] - 36s - loss: 0.4031 - acc: 0.8475 - val_loss: 0.6408 - val_acc: 0.6821\n",
      "Epoch 14/20\n",
      "160/160 [==============================] - 35s - loss: 0.4051 - acc: 0.8487 - val_loss: 0.9276 - val_acc: 0.6293\n",
      "Epoch 15/20\n",
      "160/160 [==============================] - 36s - loss: 0.4492 - acc: 0.7988 - val_loss: 0.7661 - val_acc: 0.6293\n",
      "Epoch 16/20\n",
      "160/160 [==============================] - 36s - loss: 0.4373 - acc: 0.8350 - val_loss: 0.6712 - val_acc: 0.6916\n",
      "Epoch 17/20\n",
      "160/160 [==============================] - 36s - loss: 0.4290 - acc: 0.8300 - val_loss: 0.7810 - val_acc: 0.6435\n",
      "Epoch 18/20\n",
      "160/160 [==============================] - 36s - loss: 0.4440 - acc: 0.8375 - val_loss: 0.6094 - val_acc: 0.6929\n",
      "Epoch 19/20\n",
      "160/160 [==============================] - 36s - loss: 0.4277 - acc: 0.8388 - val_loss: 0.6466 - val_acc: 0.6560\n",
      "Epoch 20/20\n",
      "160/160 [==============================] - 35s - loss: 0.4165 - acc: 0.8287 - val_loss: 0.6501 - val_acc: 0.6679\n"
     ]
    },
    {
     "data": {
      "text/plain": [
       "<keras.callbacks.History at 0x7f2db1f06cc0>"
      ]
     },
     "execution_count": 28,
     "metadata": {},
     "output_type": "execute_result"
    }
   ],
   "source": [
    "# fine-tune the model\n",
    "model.fit_generator(\n",
    "    train_generator,\n",
    "    samples_per_epoch=nb_train_samples,\n",
    "    epochs=epochs,\n",
    "    validation_data=validation_generator,\n",
    "    nb_val_samples=nb_validation_samples)"
   ]
  },
  {
   "cell_type": "markdown",
   "metadata": {},
   "source": [
    "# Anylizing the results"
   ]
  },
  {
   "cell_type": "markdown",
   "metadata": {},
   "source": [
    "Accuracy is not such a good measure. Because of the nature of benign and malignant it is very important not to have too many false positives, i.e., too often diagnose malignant while it is benign. Therefore, we made the confucion matrix and the receiver operating characteristic and found an area under curve of 0.7."
   ]
  },
  {
   "cell_type": "code",
   "execution_count": 40,
   "metadata": {},
   "outputs": [],
   "source": [
    "def predict_image_class(model, path_file, img_width,img_height):\n",
    "    \"\"\"returns class in binary classification.\n",
    "    \"\"\"\n",
    "    x = load_img(path_file, target_size=(img_width,img_height))\n",
    "    x = img_to_array(x)\n",
    "    x = np.expand_dims(x, axis=0)\n",
    "    value_prediction = model.predict(x)[0][0]\n",
    "    return value_prediction"
   ]
  },
  {
   "cell_type": "code",
   "execution_count": 41,
   "metadata": {},
   "outputs": [
    {
     "data": {
      "application/vnd.jupyter.widget-view+json": {
       "model_id": "d7149fe079ab4f079c06be4b1d340b75",
       "version_major": 2,
       "version_minor": 0
      },
      "text/html": [
       "<p>Failed to display Jupyter Widget of type <code>VBox</code>.</p>\n",
       "<p>\n",
       "  If you're reading this message in Jupyter Notebook or JupyterLab, it may mean\n",
       "  that the widgets JavaScript is still loading. If this message persists, it\n",
       "  likely means that the widgets JavaScript library is either not installed or\n",
       "  not enabled. See the <a href=\"https://ipywidgets.readthedocs.io/en/stable/user_install.html\">Jupyter\n",
       "  Widgets Documentation</a> for setup instructions.\n",
       "</p>\n",
       "<p>\n",
       "  If you're reading this message in another notebook frontend (for example, a static\n",
       "  rendering on GitHub or <a href=\"https://nbviewer.jupyter.org/\">NBViewer</a>),\n",
       "  it may mean that your frontend doesn't currently support widgets.\n",
       "</p>\n"
      ],
      "text/plain": [
       "VBox(children=(HTML(value=''), IntProgress(value=0, max=70)))"
      ]
     },
     "metadata": {},
     "output_type": "display_data"
    },
    {
     "data": {
      "application/vnd.jupyter.widget-view+json": {
       "model_id": "a84a11cf544c49eea919d280dbd8a34b",
       "version_major": 2,
       "version_minor": 0
      },
      "text/html": [
       "<p>Failed to display Jupyter Widget of type <code>VBox</code>.</p>\n",
       "<p>\n",
       "  If you're reading this message in Jupyter Notebook or JupyterLab, it may mean\n",
       "  that the widgets JavaScript is still loading. If this message persists, it\n",
       "  likely means that the widgets JavaScript library is either not installed or\n",
       "  not enabled. See the <a href=\"https://ipywidgets.readthedocs.io/en/stable/user_install.html\">Jupyter\n",
       "  Widgets Documentation</a> for setup instructions.\n",
       "</p>\n",
       "<p>\n",
       "  If you're reading this message in another notebook frontend (for example, a static\n",
       "  rendering on GitHub or <a href=\"https://nbviewer.jupyter.org/\">NBViewer</a>),\n",
       "  it may mean that your frontend doesn't currently support widgets.\n",
       "</p>\n"
      ],
      "text/plain": [
       "VBox(children=(HTML(value=''), IntProgress(value=0, max=234)))"
      ]
     },
     "metadata": {},
     "output_type": "display_data"
    }
   ],
   "source": [
    "category_array = [\"Malignant\", \"Benign\"]\n",
    "for trainValTest in [test_dir]:\n",
    "    \"\"\"\n",
    "    array:\n",
    "    0 actual class malignant\n",
    "    1 actual class benign\n",
    "    \"\"\"\n",
    "    confusion_matrix = [[0,0],[0,0]] \n",
    "    pred_array = [[],[]]\n",
    "    for a, category in enumerate(category_array):\n",
    "        cur_path = trainValTest + \"/\" + category + \"/\"\n",
    "        for file in progressbar.log_progress(os.listdir(cur_path)[:]):\n",
    "            if file.endswith(\".jpg\"):\n",
    "                path_file = cur_path + file\n",
    "                value_prediction = predict_image_class(model, path_file, img_width, img_height)\n",
    "                pred_array[a] += [value_prediction]\n",
    "                if value_prediction > 0.5:\n",
    "                    confusion_matrix[a][0] += 1\n",
    "                else:\n",
    "                    confusion_matrix[a][1] += 1"
   ]
  },
  {
   "cell_type": "code",
   "execution_count": 42,
   "metadata": {},
   "outputs": [
    {
     "name": "stdout",
     "output_type": "stream",
     "text": [
      "[7, 63]\n",
      "[3, 231]\n"
     ]
    }
   ],
   "source": [
    "print(confusion_matrix[0])\n",
    "print(confusion_matrix[1])"
   ]
  },
  {
   "cell_type": "code",
   "execution_count": 43,
   "metadata": {},
   "outputs": [
    {
     "name": "stdout",
     "output_type": "stream",
     "text": [
      "0.7828947368421053 0.7 0.7857142857142857 0.175\n"
     ]
    }
   ],
   "source": [
    "TP = confusion_matrix[0][0]\n",
    "FP = confusion_matrix[0][1]\n",
    "FN = confusion_matrix[1][0]\n",
    "TN = confusion_matrix[1][1]\n",
    "\n",
    "AC = (TP+TN) / (TP+FP+TN+FN)#accuracy\n",
    "SE = TP / (TP+FN)#sensitivity\n",
    "SP = TN / (TN+FP)#specitifity\n",
    "DI = (2*TP) / (2*TP + FN + FP)#dice coefficient\n",
    "\n",
    "print(AC,SE,SP,DI)"
   ]
  },
  {
   "cell_type": "markdown",
   "metadata": {},
   "source": [
    "And the roc curve"
   ]
  },
  {
   "cell_type": "code",
   "execution_count": 46,
   "metadata": {},
   "outputs": [
    {
     "data": {
      "image/png": "[encoded data removed]",
      "text/plain": [
       "<matplotlib.figure.Figure at 0x7f2d95747ba8>"
      ]
     },
     "metadata": {},
     "output_type": "display_data"
    }
   ],
   "source": [
    "y_true_0 = np.ones(len(pred_array[0]))\n",
    "y_true_1 = np.zeros(len(pred_array[1]))\n",
    "y_true = np.concatenate([y_true_0, y_true_1],axis=0)\n",
    "y_score = np.concatenate(pred_array, axis=0)\n",
    "\n",
    "fpr, tpr, thresholds = roc_curve(y_true, y_score)\n",
    "roc_auc = auc(fpr, tpr)\n",
    "\n",
    "plt.figure()\n",
    "lw = 2\n",
    "plt.plot(fpr, tpr, color='darkorange',\n",
    "         lw=lw, label='ROC curve (area = %0.2f)' % roc_auc)\n",
    "plt.plot([0, 1], [0, 1], color='navy', lw=lw, linestyle='--')\n",
    "plt.xlim([0.0, 1.0])\n",
    "plt.ylim([0.0, 1.05])\n",
    "plt.xlabel('False Positive Rate')\n",
    "plt.ylabel('True Positive Rate')\n",
    "plt.title('Receiver operating characteristic example')\n",
    "plt.legend(loc=\"lower right\")\n",
    "plt.show()"
   ]
  }
 ],
 "metadata": {
  "kernelspec": {
   "display_name": "Python 3",
   "language": "python",
   "name": "python3"
  },
  "language_info": {
   "codemirror_mode": {
    "name": "ipython",
    "version": 3
   },
   "file_extension": ".py",
   "mimetype": "text/x-python",
   "name": "python",
   "nbconvert_exporter": "python",
   "pygments_lexer": "ipython3",
   "version": "3.5.2"
  }
 },
 "nbformat": 4,
 "nbformat_minor": 2
}
