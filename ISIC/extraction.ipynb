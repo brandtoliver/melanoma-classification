{
 "cells": [
  {
   "cell_type": "code",
   "execution_count": 16,
   "metadata": {
    "collapsed": false
   },
   "outputs": [],
   "source": [
    "import girder_client\n",
    "import pandas as pd\n",
    "import numpy as np\n",
    "import json\n",
    "import requests\n",
    "from IPython.display import Image, display\n",
    "import urllib.request"
   ]
  },
  {
   "cell_type": "code",
   "execution_count": 8,
   "metadata": {
    "collapsed": true
   },
   "outputs": [],
   "source": [
    "url= \"https://isic-archive.com/api/v1/image/5436e3abbae478396759f0cf/thumbnail\""
   ]
  },
  {
   "cell_type": "code",
   "execution_count": 14,
   "metadata": {
    "collapsed": false
   },
   "outputs": [],
   "source": [
    "im = urllib.request.urlretrieve(url,filename=\"test.jpeg\")"
   ]
  },
  {
   "cell_type": "code",
   "execution_count": 2,
   "metadata": {
    "collapsed": true
   },
   "outputs": [],
   "source": [
    "gc = girder_client.GirderClient(apiUrl='https://isic-archive.com/api/v1')\n",
    "gc.authenticate('dominikkiefer', 'dlproject')"
   ]
  },
  {
   "cell_type": "code",
   "execution_count": 3,
   "metadata": {
    "collapsed": false
   },
   "outputs": [
    {
     "data": {
      "text/html": [
       "<div>\n",
       "<table border=\"1\" class=\"dataframe\">\n",
       "  <thead>\n",
       "    <tr style=\"text-align: right;\">\n",
       "      <th></th>\n",
       "      <th>_accessLevel</th>\n",
       "      <th>_id</th>\n",
       "      <th>_modelType</th>\n",
       "      <th>created</th>\n",
       "      <th>description</th>\n",
       "      <th>name</th>\n",
       "      <th>public</th>\n",
       "      <th>size</th>\n",
       "      <th>updated</th>\n",
       "    </tr>\n",
       "  </thead>\n",
       "  <tbody>\n",
       "    <tr>\n",
       "      <th>0</th>\n",
       "      <td>-1</td>\n",
       "      <td>55943cff9fc3c13155bcad61</td>\n",
       "      <td>collection</td>\n",
       "      <td>2015-07-01T19:18:23.988000+00:00</td>\n",
       "      <td>Clinical feature annotation studies</td>\n",
       "      <td>Annotation Studies</td>\n",
       "      <td>True</td>\n",
       "      <td>0</td>\n",
       "      <td>2016-08-24T03:06:20.532000+00:00</td>\n",
       "    </tr>\n",
       "    <tr>\n",
       "      <th>1</th>\n",
       "      <td>-1</td>\n",
       "      <td>55943cff9fc3c13155bcad5e</td>\n",
       "      <td>collection</td>\n",
       "      <td>2014-09-29T02:59:17.932000+00:00</td>\n",
       "      <td>All public lesion image datasets</td>\n",
       "      <td>Lesion Images</td>\n",
       "      <td>True</td>\n",
       "      <td>293175840740</td>\n",
       "      <td>2016-08-24T03:07:21.780000+00:00</td>\n",
       "    </tr>\n",
       "  </tbody>\n",
       "</table>\n",
       "</div>"
      ],
      "text/plain": [
       "   _accessLevel                       _id  _modelType  \\\n",
       "0            -1  55943cff9fc3c13155bcad61  collection   \n",
       "1            -1  55943cff9fc3c13155bcad5e  collection   \n",
       "\n",
       "                            created                          description  \\\n",
       "0  2015-07-01T19:18:23.988000+00:00  Clinical feature annotation studies   \n",
       "1  2014-09-29T02:59:17.932000+00:00     All public lesion image datasets   \n",
       "\n",
       "                 name public          size                           updated  \n",
       "0  Annotation Studies   True             0  2016-08-24T03:06:20.532000+00:00  \n",
       "1       Lesion Images   True  293175840740  2016-08-24T03:07:21.780000+00:00  "
      ]
     },
     "execution_count": 3,
     "metadata": {},
     "output_type": "execute_result"
    }
   ],
   "source": [
    "pd.DataFrame(gc.listCollection())"
   ]
  },
  {
   "cell_type": "code",
   "execution_count": 4,
   "metadata": {
    "collapsed": false
   },
   "outputs": [],
   "source": [
    "#gc.downloadResource(\"5627f42b9fc3c132be08d84f\",dest=\"/home/dwx/tmp\")"
   ]
  },
  {
   "cell_type": "code",
   "execution_count": 5,
   "metadata": {
    "collapsed": false
   },
   "outputs": [
    {
     "data": {
      "text/html": [
       "<div>\n",
       "<table border=\"1\" class=\"dataframe\">\n",
       "  <thead>\n",
       "    <tr style=\"text-align: right;\">\n",
       "      <th></th>\n",
       "      <th>_id</th>\n",
       "      <th>name</th>\n",
       "      <th>updated</th>\n",
       "    </tr>\n",
       "  </thead>\n",
       "  <tbody>\n",
       "    <tr>\n",
       "      <th>0</th>\n",
       "      <td>5627f42b9fc3c132be08d84f</td>\n",
       "      <td>ISIC_MSK-1_1</td>\n",
       "      <td>2015-10-21T20:33:21.466000+00:00</td>\n",
       "    </tr>\n",
       "    <tr>\n",
       "      <th>1</th>\n",
       "      <td>582b8d419fc3c1566bbcb098</td>\n",
       "      <td>ISIC_MSK-1_2</td>\n",
       "      <td>2017-04-13T20:08:46.159000+00:00</td>\n",
       "    </tr>\n",
       "    <tr>\n",
       "      <th>2</th>\n",
       "      <td>5627f5f69fc3c132be08d852</td>\n",
       "      <td>ISIC_MSK-2_1</td>\n",
       "      <td>2015-10-21T20:33:29.916000+00:00</td>\n",
       "    </tr>\n",
       "    <tr>\n",
       "      <th>3</th>\n",
       "      <td>57eebe389fc3c12a89bb75f7</td>\n",
       "      <td>ISIC_MSK-3_1</td>\n",
       "      <td>2017-04-13T20:07:38.035000+00:00</td>\n",
       "    </tr>\n",
       "    <tr>\n",
       "      <th>4</th>\n",
       "      <td>581cd6059fc3c13dcd0e0930</td>\n",
       "      <td>ISIC_MSK-4_1</td>\n",
       "      <td>2017-04-13T20:08:05.005000+00:00</td>\n",
       "    </tr>\n",
       "    <tr>\n",
       "      <th>5</th>\n",
       "      <td>5825fd959fc3c171066d3352</td>\n",
       "      <td>ISIC_MSK-5_1</td>\n",
       "      <td>2017-04-13T20:08:24.725000+00:00</td>\n",
       "    </tr>\n",
       "    <tr>\n",
       "      <th>6</th>\n",
       "      <td>5627eefe9fc3c132be08d84c</td>\n",
       "      <td>ISIC_SONIC_1</td>\n",
       "      <td>2016-08-10T15:36:43.866000+00:00</td>\n",
       "    </tr>\n",
       "    <tr>\n",
       "      <th>7</th>\n",
       "      <td>54b6e869bae4785ee2be8652</td>\n",
       "      <td>ISIC_UDA-1_1</td>\n",
       "      <td>2014-11-10T02:39:56.492000+00:00</td>\n",
       "    </tr>\n",
       "    <tr>\n",
       "      <th>8</th>\n",
       "      <td>54ea816fbae47871b5e00c80</td>\n",
       "      <td>ISIC_UDA-2_1</td>\n",
       "      <td>2015-03-06T14:54:30.984000+00:00</td>\n",
       "    </tr>\n",
       "  </tbody>\n",
       "</table>\n",
       "</div>"
      ],
      "text/plain": [
       "                        _id          name                           updated\n",
       "0  5627f42b9fc3c132be08d84f  ISIC_MSK-1_1  2015-10-21T20:33:21.466000+00:00\n",
       "1  582b8d419fc3c1566bbcb098  ISIC_MSK-1_2  2017-04-13T20:08:46.159000+00:00\n",
       "2  5627f5f69fc3c132be08d852  ISIC_MSK-2_1  2015-10-21T20:33:29.916000+00:00\n",
       "3  57eebe389fc3c12a89bb75f7  ISIC_MSK-3_1  2017-04-13T20:07:38.035000+00:00\n",
       "4  581cd6059fc3c13dcd0e0930  ISIC_MSK-4_1  2017-04-13T20:08:05.005000+00:00\n",
       "5  5825fd959fc3c171066d3352  ISIC_MSK-5_1  2017-04-13T20:08:24.725000+00:00\n",
       "6  5627eefe9fc3c132be08d84c  ISIC_SONIC_1  2016-08-10T15:36:43.866000+00:00\n",
       "7  54b6e869bae4785ee2be8652  ISIC_UDA-1_1  2014-11-10T02:39:56.492000+00:00\n",
       "8  54ea816fbae47871b5e00c80  ISIC_UDA-2_1  2015-03-06T14:54:30.984000+00:00"
      ]
     },
     "execution_count": 5,
     "metadata": {},
     "output_type": "execute_result"
    }
   ],
   "source": [
    "dataset_df = pd.DataFrame(gc.get(\"/dataset\"))\n",
    "dataset_df"
   ]
  },
  {
   "cell_type": "code",
   "execution_count": 6,
   "metadata": {
    "collapsed": false
   },
   "outputs": [
    {
     "data": {
      "text/plain": [
       "['ISIC_MSK-1_1',\n",
       " 'ISIC_MSK-1_2',\n",
       " 'ISIC_MSK-2_1',\n",
       " 'ISIC_MSK-3_1',\n",
       " 'ISIC_MSK-4_1',\n",
       " 'ISIC_MSK-5_1',\n",
       " 'ISIC_SONIC_1',\n",
       " 'ISIC_UDA-1_1',\n",
       " 'ISIC_UDA-2_1']"
      ]
     },
     "execution_count": 6,
     "metadata": {},
     "output_type": "execute_result"
    }
   ],
   "source": [
    "dataset_names = list(dataset_df[\"name\"])\n",
    "dataset_names"
   ]
  },
  {
   "cell_type": "code",
   "execution_count": 7,
   "metadata": {
    "collapsed": false
   },
   "outputs": [],
   "source": [
    "db_info = []\n",
    "for a in dataset_names[:]:\n",
    "    cur_dataset_id = dataset_df[dataset_df[\"name\"] == a]._id\n",
    "    cur_dataset_id = cur_dataset_id.tolist()[0]\n",
    "    path = \"/dataset/\"+str(cur_dataset_id)\n",
    "    db_info += [gc.get(path)]\n",
    "\n",
    "db_info = pd.DataFrame(db_info)"
   ]
  },
  {
   "cell_type": "code",
   "execution_count": null,
   "metadata": {
    "collapsed": false
   },
   "outputs": [],
   "source": [
    "path_dest = \"/home/dwx/tmp/\"\n",
    "db_info.to_csv(path_dest+\"db_info.csv\")"
   ]
  },
  {
   "cell_type": "markdown",
   "metadata": {},
   "source": [
    "#### Get Image Metadata"
   ]
  },
  {
   "cell_type": "code",
   "execution_count": 8,
   "metadata": {
    "collapsed": true
   },
   "outputs": [],
   "source": [
    "def log_progress(sequence, every=None, size=None, name='Items'):\n",
    "    from ipywidgets import IntProgress, HTML, VBox\n",
    "    from IPython.display import display\n",
    "\n",
    "    is_iterator = False\n",
    "    if size is None:\n",
    "        try:\n",
    "            size = len(sequence)\n",
    "        except TypeError:\n",
    "            is_iterator = True\n",
    "    if size is not None:\n",
    "        if every is None:\n",
    "            if size <= 200:\n",
    "                every = 1\n",
    "            else:\n",
    "                every = int(size / 200)     # every 0.5%\n",
    "    else:\n",
    "        assert every is not None, 'sequence is iterator, set every'\n",
    "\n",
    "    if is_iterator:\n",
    "        progress = IntProgress(min=0, max=1, value=1)\n",
    "        progress.bar_style = 'info'\n",
    "    else:\n",
    "        progress = IntProgress(min=0, max=size, value=0)\n",
    "    label = HTML()\n",
    "    box = VBox(children=[label, progress])\n",
    "    display(box)\n",
    "\n",
    "    index = 0\n",
    "    try:\n",
    "        for index, record in enumerate(sequence, 1):\n",
    "            if index == 1 or index % every == 0:\n",
    "                if is_iterator:\n",
    "                    label.value = '{name}: {index} / ?'.format(\n",
    "                        name=name,\n",
    "                        index=index\n",
    "                    )\n",
    "                else:\n",
    "                    progress.value = index\n",
    "                    label.value = u'{name}: {index} / {size}'.format(\n",
    "                        name=name,\n",
    "                        index=index,\n",
    "                        size=size\n",
    "                    )\n",
    "            yield record\n",
    "    except:\n",
    "        progress.bar_style = 'danger'\n",
    "        raise\n",
    "    else:\n",
    "        progress.bar_style = 'success'\n",
    "        progress.value = index\n",
    "        label.value = \"{name}: {index}\".format(\n",
    "            name=name,\n",
    "            index=str(index or '?')\n",
    "        )"
   ]
  },
  {
   "cell_type": "code",
   "execution_count": 9,
   "metadata": {
    "collapsed": true
   },
   "outputs": [],
   "source": [
    "def getSpecificMetadata(curId, jsonData):\n",
    "    #result += [jsonData[\"meta\"][\"clinical\"][\"benign_malignant\"]]\n",
    "    result = {}\n",
    "    result = jsonData[\"meta\"][\"clinical\"]\n",
    "    result[\"name\"] = jsonData[\"name\"]\n",
    "    result[\"id\"] = curId\n",
    "    return result"
   ]
  },
  {
   "cell_type": "code",
   "execution_count": null,
   "metadata": {
    "collapsed": false
   },
   "outputs": [],
   "source": [
    "path_image = \"/image/\"\n",
    "path_dest = \"/home/dwx/tmp/\"\n",
    "\n",
    "for a in log_progress(dataset_names[:2]):\n",
    "    cur_dataset_id = dataset_df[dataset_df[\"name\"] == a]._id\n",
    "    cur_dataset_id = cur_dataset_id.tolist()[0]\n",
    "    \n",
    "    cur_selection = gc.get(path_image,parameters={\"datasetId\":cur_dataset_id, \"limit\":0})[:2]\n",
    "    result = []\n",
    "    for b in log_progress(cur_selection):\n",
    "        cur_id = b[\"_id\"]\n",
    "        curMetadata = gc.get(path_image+str(cur_id),parameters={})\n",
    "        specificMetadata = getSpecificMetadata(cur_id, curMetadata)\n",
    "        result += [specificMetadata]\n",
    "    result_df = pd.DataFrame(result)\n",
    "    result_df.to_csv(path_dest+a+\".csv\")"
   ]
  },
  {
   "cell_type": "code",
   "execution_count": null,
   "metadata": {
    "collapsed": false
   },
   "outputs": [],
   "source": [
    "#dir(curSelection)"
   ]
  },
  {
   "cell_type": "code",
   "execution_count": 18,
   "metadata": {
    "collapsed": false
   },
   "outputs": [
    {
     "ename": "NameError",
     "evalue": "name 'gc' is not defined",
     "output_type": "error",
     "traceback": [
      "\u001b[0;31m---------------------------------------------------------------------------\u001b[0m",
      "\u001b[0;31mNameError\u001b[0m                                 Traceback (most recent call last)",
      "\u001b[0;32m<ipython-input-18-ee82cadf8f1b>\u001b[0m in \u001b[0;36m<module>\u001b[0;34m()\u001b[0m\n\u001b[0;32m----> 1\u001b[0;31m \u001b[0mgc\u001b[0m\u001b[0;34m.\u001b[0m\u001b[0mget\u001b[0m\u001b[0;34m(\u001b[0m\u001b[0;34m\"image/\"\u001b[0m\u001b[0;34m,\u001b[0m \u001b[0mparameters\u001b[0m\u001b[0;34m=\u001b[0m\u001b[0;34m{\u001b[0m \u001b[0;34m\"limit\"\u001b[0m\u001b[0;34m:\u001b[0m \u001b[0;36m3\u001b[0m\u001b[0;34m}\u001b[0m\u001b[0;34m)\u001b[0m\u001b[0;34m\u001b[0m\u001b[0m\n\u001b[0m",
      "\u001b[0;31mNameError\u001b[0m: name 'gc' is not defined"
     ]
    }
   ],
   "source": [
    "gc.get(\"image/\", parameters={ \"limit\": 3})"
   ]
  }
 ],
 "metadata": {
  "anaconda-cloud": {},
  "kernelspec": {
   "display_name": "Python [default]",
   "language": "python",
   "name": "python3"
  }
 },
 "nbformat": 4,
 "nbformat_minor": 1
}
